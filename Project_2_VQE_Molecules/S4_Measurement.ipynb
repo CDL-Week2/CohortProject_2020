{
 "cells": [
  {
   "cell_type": "markdown",
   "metadata": {},
   "source": [
    "# Measurement Grouping\n",
    "\n",
    "Since current quantum hardware is limited to single-qubit projective measurement, only terms commuting within individual qubit's subspace can be measured together. These terms are said to be qubit-wise commuting (QWC). \n",
    "\n",
    "Thus, one can not measure the entire electronic Hamiltonian $\\hat H$ at once, and instead needs to separate it into fragments. \n",
    "$$\\hat H = \\sum_n \\hat H_n$$\n",
    "where each $\\hat H_n$ is a QWC fragment. "
   ]
  },
  {
   "cell_type": "code",
   "execution_count": 1,
   "metadata": {
    "scrolled": false
   },
   "outputs": [],
   "source": [
    "from utility import *\n",
    "from tqdm.auto import tqdm # pip install tqdm\n",
    "from MeasurementUnitaryGenerator import MeasurementUnitaryGenerator"
   ]
  },
  {
   "cell_type": "markdown",
   "metadata": {},
   "source": [
    "Here we use $H_2$ as an example for finding QWC fragments. Notice below that each fragment has the same terms on all qubits.  \n",
    "\n",
    "To show differences between QWC and more advanced grouping, we didn't use the qubit-tappering techinique shown in step 2."
   ]
  },
  {
   "cell_type": "code",
   "execution_count": 2,
   "metadata": {
    "scrolled": false,
    "tags": []
   },
   "outputs": [
    {
     "name": "stdout",
     "output_type": "stream",
     "text": [
      "Number of fragments: 5\n",
      "\n",
      "Fragments 0 \n",
      "-0.32760818967480915 [] +\n",
      "0.049197645871367574 [X0 Y1 Y2 X3]\n",
      "\n",
      "Fragments 1 \n",
      "-0.049197645871367574 [X0 X1 Y2 Y3]\n",
      "\n",
      "Fragments 2 \n",
      "-0.049197645871367574 [Y0 Y1 X2 X3]\n",
      "\n",
      "Fragments 3 \n",
      "0.049197645871367574 [Y0 X1 X2 Y3]\n",
      "\n",
      "Fragments 4 \n",
      "0.13716572937099503 [Z0] +\n",
      "0.15660062488237958 [Z0 Z1] +\n",
      "0.10622904490856082 [Z0 Z2] +\n",
      "0.15542669077992838 [Z0 Z3] +\n",
      "0.13716572937099503 [Z1] +\n",
      "0.15542669077992838 [Z1 Z2] +\n",
      "0.10622904490856082 [Z1 Z3] +\n",
      "-0.13036292057109122 [Z2] +\n",
      "0.1632676867356435 [Z2 Z3] +\n",
      "-0.13036292057109122 [Z3]\n",
      "\n"
     ]
    }
   ],
   "source": [
    "h2 = get_qubit_hamiltonian(mol='h2', geometry=1, basis='sto3g', qubit_transf='jw')\n",
    "\n",
    "qwc_list = get_qwc_group(h2)\n",
    "print('Number of fragments: {}\\n'.format(len(qwc_list)))\n",
    "for i, fragment in enumerate(qwc_list):\n",
    "    print(f'Fragments {i} \\n{fragment}\\n')"
   ]
  },
  {
   "cell_type": "markdown",
   "metadata": {},
   "source": [
    "By applying extra unitaries, one may rotate more terms of $\\hat H$ into a QWC fragment.  \n",
    "\n",
    "Recall that in digital quantum computing, the expectation value of $\\hat H_n$ given a trial wavefunction $|\\psi\\rangle$ is \n",
    "$$ E_n =\\ \\langle\\psi| \\hat H_n | \\psi\\rangle$$\n",
    "Inserting unitary transformation $\\hat U_n$ does not change the expectation value.\n",
    "$$ E_n =\\ \\langle\\psi| \\hat U_n^\\dagger \\hat U_n \\hat H_n \\hat U_n^\\dagger \\hat U_n  |\\psi\\rangle$$ \n",
    "This nonetheless changes the trial wavefunction and the terms to be measured. \n",
    "$$ |\\psi\\rangle \\rightarrow \\hat U_n |\\psi\\rangle = |\\phi\\rangle$$\n",
    "$$ \\hat H_n \\rightarrow \\hat U_n \\hat H_n \\hat U_n^\\dagger = \\hat A_n$$\n",
    "The transformation of $|\\psi \\rangle$ can be done on the quantum computer, and the transformation of $\\hat H_n$ is possible on the classical computer. \n",
    "\n",
    "Now, although $\\hat A_n$ needs to be a QWC fragment to be measurable on a quantum computer, $\\hat H_n$ does not. \n",
    "Instead, if we restrict $\\hat U_n$ to be a clifford operation, the terms in $\\hat H$ need only mutually commute. \n",
    "\n",
    "Here, we obtain measurable parts of $H_2$ by partitioning its terms into mutually commuting fragments. "
   ]
  },
  {
   "cell_type": "code",
   "execution_count": 3,
   "metadata": {
    "scrolled": false,
    "tags": []
   },
   "outputs": [
    {
     "name": "stdout",
     "output_type": "stream",
     "text": [
      "Number of mutually commuting fragments: 2\n",
      "\n",
      "\n",
      "The first commuting group\n",
      "-0.32760818967480915 [] +\n",
      "-0.049197645871367574 [X0 X1 Y2 Y3] +\n",
      "0.049197645871367574 [X0 Y1 Y2 X3] +\n",
      "0.049197645871367574 [Y0 X1 X2 Y3] +\n",
      "-0.049197645871367574 [Y0 Y1 X2 X3] +\n",
      "0.15660062488237958 [Z0 Z1] +\n",
      "0.10622904490856082 [Z0 Z2] +\n",
      "0.15542669077992838 [Z0 Z3] +\n",
      "0.15542669077992838 [Z1 Z2] +\n",
      "0.10622904490856082 [Z1 Z3] +\n",
      "0.1632676867356435 [Z2 Z3]\n",
      "\n",
      "\n",
      "The second commuting group\n",
      "0.13716572937099503 [Z0] +\n",
      "0.13716572937099503 [Z1] +\n",
      "-0.13036292057109122 [Z2] +\n",
      "-0.13036292057109122 [Z3]\n"
     ]
    }
   ],
   "source": [
    "comm_groups = get_commuting_group(h2)\n",
    "print('Number of mutually commuting fragments: {}'.format(len(comm_groups)))\n",
    "print('\\n')\n",
    "print('The first commuting group')\n",
    "print(comm_groups[1])\n",
    "print('\\n')\n",
    "print('The second commuting group')\n",
    "print(comm_groups[2])"
   ]
  },
  {
   "cell_type": "markdown",
   "metadata": {},
   "source": [
    "To see this fragment is indeed measurable, one can construct the corresponding unitary operator $\\hat U_n$."
   ]
  },
  {
   "cell_type": "code",
   "execution_count": 4,
   "metadata": {
    "scrolled": false,
    "tags": []
   },
   "outputs": [
    {
     "name": "stdout",
     "output_type": "stream",
     "text": [
      "This is unitary, U * U^+ = I \n",
      "(0.9999999999999996+0j) []\n"
     ]
    }
   ],
   "source": [
    "uqwc = get_qwc_unitary(comm_groups[1])\n",
    "print('This is unitary, U * U^+ = I ')\n",
    "print(uqwc * uqwc)"
   ]
  },
  {
   "cell_type": "markdown",
   "metadata": {},
   "source": [
    "Applying this unitary gives the qubit-wise commuting form of the first mutually commuting group"
   ]
  },
  {
   "cell_type": "code",
   "execution_count": 6,
   "metadata": {
    "scrolled": false,
    "tags": []
   },
   "outputs": [
    {
     "name": "stdout",
     "output_type": "stream",
     "text": [
      "-0.3276081896748089 [] +\n",
      "0.15542669077992824 [X0] +\n",
      "0.15660062488237952 [X0 X1] +\n",
      "0.049197645871367546 [X0 X1 Z3] +\n",
      "0.10622904490856076 [X0 X2] +\n",
      "-0.049197645871367546 [X0 Z3] +\n",
      "0.10622904490856076 [X1] +\n",
      "0.15542669077992824 [X1 X2] +\n",
      "-0.049197645871367546 [X1 X2 Z3] +\n",
      "0.16326768673564335 [X2] +\n",
      "0.049197645871367546 [X2 Z3]\n"
     ]
    }
   ],
   "source": [
    "qwc = remove_complex(uqwc * comm_groups[1] * uqwc)\n",
    "print(qwc)"
   ]
  },
  {
   "cell_type": "markdown",
   "metadata": {},
   "source": [
    "In addition, current quantum computer can measure only the $z$ operators. Thus, QWC fragments with $x$ or $y$ operators require extra single-qubit unitaries that rotate them into $z$.  "
   ]
  },
  {
   "cell_type": "code",
   "execution_count": 7,
   "metadata": {
    "scrolled": false,
    "tags": []
   },
   "outputs": [
    {
     "name": "stdout",
     "output_type": "stream",
     "text": [
      "Checking whether U * U^+ is identity: 0.9999999999999998 []\n",
      "\n",
      "The all-z form of qwc fragment:\n",
      "-0.3276081896748088 [] +\n",
      "0.15542669077992818 [Z0] +\n",
      "0.15660062488237944 [Z0 Z1] +\n",
      "0.04919764587136753 [Z0 Z1 Z3] +\n",
      "0.1062290449085607 [Z0 Z2] +\n",
      "-0.04919764587136753 [Z0 Z3] +\n",
      "0.1062290449085607 [Z1] +\n",
      "0.15542669077992818 [Z1 Z2] +\n",
      "-0.04919764587136753 [Z1 Z2 Z3] +\n",
      "0.16326768673564326 [Z2] +\n",
      "0.04919764587136753 [Z2 Z3]\n"
     ]
    }
   ],
   "source": [
    "uz = get_zform_unitary(qwc)\n",
    "print(\"Checking whether U * U^+ is identity: {}\".format(uz * uz))\n",
    "\n",
    "allz = remove_complex(uz * qwc * uz)\n",
    "print(\"\\nThe all-z form of qwc fragment:\\n{}\".format(allz))"
   ]
  },
  {
   "cell_type": "markdown",
   "metadata": {},
   "source": [
    "## We created a class for generating measurement unitaries.\n",
    "Please see MeasurementUnitaryGenerator.py\n",
    "There is a demonstration of (experimental) SVD trunctation with H<sub>2</sub>O at the bottom of this notebook."
   ]
  },
  {
   "cell_type": "markdown",
   "metadata": {},
   "source": [
    "# H<sub>2</sub> (again - with the new framework)"
   ]
  },
  {
   "cell_type": "code",
   "execution_count": 3,
   "metadata": {
    "scrolled": false
   },
   "outputs": [
    {
     "name": "stdout",
     "output_type": "stream",
     "text": [
      "1) Initialise the molecule object in a given basis and with a provided mapping\n",
      "\t4 orbitals\n",
      "2) Optionally apply tapering\n",
      "\t1 orbitals\n",
      "3) Get commuting groups\n",
      "\t2 commuting groups, a 1.50 x reduction from 3 terms\n",
      "4) For each commuting group get the unitary for transforming to qwc\n"
     ]
    },
    {
     "data": {
      "application/vnd.jupyter.widget-view+json": {
       "model_id": "49fcc07c7a714bbb867eea76ac612436",
       "version_major": 2,
       "version_minor": 0
      },
      "text/plain": [
       "HBox(children=(FloatProgress(value=0.0, max=2.0), HTML(value='')))"
      ]
     },
     "metadata": {},
     "output_type": "display_data"
    },
    {
     "name": "stdout",
     "output_type": "stream",
     "text": [
      "\n",
      "5) Apply unitaries to get the qwcs\n"
     ]
    },
    {
     "data": {
      "application/vnd.jupyter.widget-view+json": {
       "model_id": "a319f25adb2f44808c77cc9e2d96fff1",
       "version_major": 2,
       "version_minor": 0
      },
      "text/plain": [
       "HBox(children=(FloatProgress(value=0.0, max=2.0), HTML(value='')))"
      ]
     },
     "metadata": {},
     "output_type": "display_data"
    },
    {
     "name": "stdout",
     "output_type": "stream",
     "text": [
      "\n",
      "6) Get unitaries for rotating everything to the measurable z-basis\n"
     ]
    },
    {
     "data": {
      "application/vnd.jupyter.widget-view+json": {
       "model_id": "093a2dfa780944ada09945636e928e89",
       "version_major": 2,
       "version_minor": 0
      },
      "text/plain": [
       "HBox(children=(FloatProgress(value=0.0, max=2.0), HTML(value='')))"
      ]
     },
     "metadata": {},
     "output_type": "display_data"
    },
    {
     "name": "stdout",
     "output_type": "stream",
     "text": [
      "\n",
      "7) Finally, apply latter unitaries to move all qwc groups to z-basis\n"
     ]
    },
    {
     "data": {
      "application/vnd.jupyter.widget-view+json": {
       "model_id": "6950e95bb4d54fa791fb61a0d4b3b39a",
       "version_major": 2,
       "version_minor": 0
      },
      "text/plain": [
       "HBox(children=(FloatProgress(value=0.0, max=2.0), HTML(value='')))"
      ]
     },
     "metadata": {},
     "output_type": "display_data"
    },
    {
     "name": "stdout",
     "output_type": "stream",
     "text": [
      "\n",
      "\n",
      "\n",
      "First commuting group\n",
      "-0.2764376754246701 [] +\n",
      "0.17900057606140662 [X0]\n",
      "\n",
      "\n",
      "First QWC group\n",
      "-0.27643767542467007 [] +\n",
      "0.1790005760614066 [Z0]\n",
      "\n",
      "\n",
      "First Z group\n",
      "-0.27643767542467007 [] +\n",
      "0.1790005760614066 [Z0]\n",
      "\n",
      "\n",
      "First qwc unitary\n",
      "0.7071067811865475 [X0] +\n",
      "0.7071067811865475 [Z0]\n",
      "\n",
      "\n",
      "First z unitary\n",
      "1.0 []\n"
     ]
    }
   ],
   "source": [
    "mcalc = MeasurementUnitaryGenerator('h2')\n",
    "print('\\n')\n",
    "print('First commuting group')\n",
    "print(mcalc.comm_groups[1])\n",
    "print('\\n')\n",
    "print('First QWC group')\n",
    "print(mcalc.qwc_groups[1])\n",
    "print('\\n')\n",
    "print('First Z group')\n",
    "print(mcalc.z_groups[1])\n",
    "print('\\n')\n",
    "print('First qwc unitary')\n",
    "print(mcalc.uqwcs[1])\n",
    "print('\\n')\n",
    "print('First z unitary')\n",
    "print(mcalc.uzs[1])"
   ]
  },
  {
   "cell_type": "markdown",
   "metadata": {},
   "source": [
    "## H<sub>2</sub>O\n",
    "Skip getting commuting groups as these steps are intractable. Skip straight ahead to getting QWC groups."
   ]
  },
  {
   "cell_type": "code",
   "execution_count": 5,
   "metadata": {
    "scrolled": false
   },
   "outputs": [
    {
     "name": "stdout",
     "output_type": "stream",
     "text": [
      "1) Initialise the molecule object in a given basis and with a provided mapping\n",
      "\t14 orbitals\n",
      "2) Optionally apply tapering\n",
      "\t10 orbitals\n",
      "More than 8 orbitals: skipping steps 3), 4) and 5) and directly getting qwc groups\n",
      "\t200 QWC groups, a 5.17 x reduction from 1035 terms\n",
      "6) Get unitaries for rotating everything to the measurable z-basis\n"
     ]
    },
    {
     "data": {
      "application/vnd.jupyter.widget-view+json": {
       "model_id": "b10b142d162c4572b7202648ee89a3fd",
       "version_major": 2,
       "version_minor": 0
      },
      "text/plain": [
       "HBox(children=(FloatProgress(value=0.0, max=200.0), HTML(value='')))"
      ]
     },
     "metadata": {},
     "output_type": "display_data"
    },
    {
     "name": "stdout",
     "output_type": "stream",
     "text": [
      "\n",
      "7) Finally, apply latter unitaries to move all qwc groups to z-basis\n"
     ]
    },
    {
     "data": {
      "application/vnd.jupyter.widget-view+json": {
       "model_id": "fb647c114acf4b128e4feb2100457e71",
       "version_major": 2,
       "version_minor": 0
      },
      "text/plain": [
       "HBox(children=(FloatProgress(value=0.0, max=200.0), HTML(value='')))"
      ]
     },
     "metadata": {},
     "output_type": "display_data"
    },
    {
     "name": "stdout",
     "output_type": "stream",
     "text": [
      "\n",
      "\n",
      "\n",
      "First QWC group\n",
      "-46.35740160289526 [] +\n",
      "0.0021618990497094402 [Y0 Z1 Z2 Z3 Z5 Z6 Y8] +\n",
      "-0.0021618990497094402 [Y0 Z1 Z2 Y8] +\n",
      "-0.0017952267657413302 [Y0 Z1 Z3 Z4 Z6 X7 Y8 X9] +\n",
      "-0.004721276878475687 [Y0 Y8 X9] +\n",
      "1.6462328281412955 [Z1] +\n",
      "0.12333444961877364 [Z1 Z2] +\n",
      "0.0037537905436206037 [Z1 Z2 Z3 Z5 Z6 X9] +\n",
      "0.16866356664010346 [Z1 Z3] +\n",
      "0.13693480693261512 [Z1 Z4] +\n",
      "0.3378644911679983 [Z1 Z5] +\n",
      "0.15105317022508946 [Z1 Z6] +\n",
      "1.185904752943987 [Z2] +\n",
      "0.14716615820292295 [Z2 Z3] +\n",
      "0.002210090959302922 [Z2 Z3 Z4 Z6 X7 X9] +\n",
      "0.13496957191310968 [Z2 Z4] +\n",
      "0.30264028366319506 [Z2 Z5] +\n",
      "0.1408322772493606 [Z2 Z6] +\n",
      "1.294980147036568 [Z3] +\n",
      "0.191189227748051 [Z3 Z4] +\n",
      "0.3472114393571394 [Z3 Z5] +\n",
      "0.11777797258841 [Z3 Z6] +\n",
      "1.294980147036568 [Z4] +\n",
      "0.3472114393571394 [Z4 Z5] +\n",
      "0.13636442553512224 [Z4 Z6] +\n",
      "2.730246966069517 [Z5] +\n",
      "0.2819519797578531 [Z5 Z6] +\n",
      "0.7861029297052462 [Z6]\n",
      "\n",
      "\n",
      "First Z group\n",
      "-46.35740160289523 [] +\n",
      "0.002161899049709439 [Z0 Z1 Z2 Z3 Z5 Z6 Z8] +\n",
      "-0.002161899049709439 [Z0 Z1 Z2 Z8] +\n",
      "-0.0017952267657413287 [Z0 Z1 Z3 Z4 Z6 Z7 Z8 Z9] +\n",
      "-0.004721276878475683 [Z0 Z8 Z9] +\n",
      "1.646232828141294 [Z1] +\n",
      "0.12333444961877359 [Z1 Z2] +\n",
      "0.0037537905436206003 [Z1 Z2 Z3 Z5 Z6 Z9] +\n",
      "0.16866356664010332 [Z1 Z3] +\n",
      "0.13693480693261503 [Z1 Z4] +\n",
      "0.33786449116799816 [Z1 Z5] +\n",
      "0.1510531702250893 [Z1 Z6] +\n",
      "1.1859047529439866 [Z2] +\n",
      "0.14716615820292284 [Z2 Z3] +\n",
      "0.00221009095930292 [Z2 Z3 Z4 Z6 Z7 Z9] +\n",
      "0.1349695719131096 [Z2 Z4] +\n",
      "0.30264028366319484 [Z2 Z5] +\n",
      "0.14083227724936045 [Z2 Z6] +\n",
      "1.2949801470365672 [Z3] +\n",
      "0.19118922774805083 [Z3 Z4] +\n",
      "0.3472114393571391 [Z3 Z5] +\n",
      "0.11777797258840988 [Z3 Z6] +\n",
      "1.2949801470365672 [Z4] +\n",
      "0.3472114393571391 [Z4 Z5] +\n",
      "0.13636442553512215 [Z4 Z6] +\n",
      "2.7302469660695152 [Z5] +\n",
      "0.28195197975785286 [Z5 Z6] +\n",
      "0.7861029297052458 [Z6]\n",
      "\n",
      "\n",
      "First z unitary\n",
      "0.24999999999999992 [Y0 X7 Y8 X9] +\n",
      "0.24999999999999992 [Y0 X7 Y8 Z9] +\n",
      "0.24999999999999992 [Y0 X7 Z8 X9] +\n",
      "0.24999999999999992 [Y0 X7 Z8 Z9] +\n",
      "0.24999999999999992 [Y0 Z7 Y8 X9] +\n",
      "0.24999999999999992 [Y0 Z7 Y8 Z9] +\n",
      "0.24999999999999992 [Y0 Z7 Z8 X9] +\n",
      "0.24999999999999992 [Y0 Z7 Z8 Z9] +\n",
      "0.24999999999999992 [Z0 X7 Y8 X9] +\n",
      "0.24999999999999992 [Z0 X7 Y8 Z9] +\n",
      "0.24999999999999992 [Z0 X7 Z8 X9] +\n",
      "0.24999999999999992 [Z0 X7 Z8 Z9] +\n",
      "0.24999999999999992 [Z0 Z7 Y8 X9] +\n",
      "0.24999999999999992 [Z0 Z7 Y8 Z9] +\n",
      "0.24999999999999992 [Z0 Z7 Z8 X9] +\n",
      "0.24999999999999992 [Z0 Z7 Z8 Z9]\n"
     ]
    }
   ],
   "source": [
    "mcalc = MeasurementUnitaryGenerator('h2o', apply_uzs=True)\n",
    "print('\\n')\n",
    "print('First QWC group')\n",
    "print(mcalc.qwc_groups[1])\n",
    "print('\\n')\n",
    "print('First Z group')\n",
    "print(mcalc.z_groups[1])\n",
    "print('\\n')\n",
    "print('First z unitary')\n",
    "print(mcalc.uzs[1])"
   ]
  },
  {
   "cell_type": "markdown",
   "metadata": {},
   "source": [
    "## H<sub>4</sub>"
   ]
  },
  {
   "cell_type": "code",
   "execution_count": 24,
   "metadata": {
    "scrolled": false
   },
   "outputs": [
    {
     "name": "stdout",
     "output_type": "stream",
     "text": [
      "1) Initialise the molecule object in a given basis and with a provided mapping\n",
      "\t8 orbitals\n",
      "2) Optionally apply tapering\n",
      "\t4 orbitals\n",
      "3) Get commuting groups\n",
      "\t5 commuting groups, a 9.20 x reduction from 46 terms\n",
      "4) For each commuting group get the unitary for transforming to qwc\n"
     ]
    },
    {
     "data": {
      "application/vnd.jupyter.widget-view+json": {
       "model_id": "7d345b9ccaa3419d81064305583a49eb",
       "version_major": 2,
       "version_minor": 0
      },
      "text/plain": [
       "HBox(children=(FloatProgress(value=0.0, max=5.0), HTML(value='')))"
      ]
     },
     "metadata": {},
     "output_type": "display_data"
    },
    {
     "name": "stdout",
     "output_type": "stream",
     "text": [
      "\n",
      "5) Apply unitaries to get the qwcs\n"
     ]
    },
    {
     "data": {
      "application/vnd.jupyter.widget-view+json": {
       "model_id": "f1c1deba73384188870abf04e65bc37e",
       "version_major": 2,
       "version_minor": 0
      },
      "text/plain": [
       "HBox(children=(FloatProgress(value=0.0, max=5.0), HTML(value='')))"
      ]
     },
     "metadata": {},
     "output_type": "display_data"
    },
    {
     "name": "stdout",
     "output_type": "stream",
     "text": [
      "\n",
      "6) Get unitaries for rotating everything to the measurable z-basis\n"
     ]
    },
    {
     "data": {
      "application/vnd.jupyter.widget-view+json": {
       "model_id": "4c223b5bda4043e4b5c3d973bc6d7eea",
       "version_major": 2,
       "version_minor": 0
      },
      "text/plain": [
       "HBox(children=(FloatProgress(value=0.0, max=5.0), HTML(value='')))"
      ]
     },
     "metadata": {},
     "output_type": "display_data"
    },
    {
     "name": "stdout",
     "output_type": "stream",
     "text": [
      "\n",
      "7) Finally, apply latter unitaries to move all qwc groups to z-basis\n"
     ]
    },
    {
     "data": {
      "application/vnd.jupyter.widget-view+json": {
       "model_id": "d8d01fe4bba24c30972d0df3ee79e866",
       "version_major": 2,
       "version_minor": 0
      },
      "text/plain": [
       "HBox(children=(FloatProgress(value=0.0, max=5.0), HTML(value='')))"
      ]
     },
     "metadata": {},
     "output_type": "display_data"
    },
    {
     "name": "stdout",
     "output_type": "stream",
     "text": [
      "\n",
      "\n",
      "\n",
      "First commuting group\n",
      "-0.6362710050108025 [] +\n",
      "-0.07052385292238096 [X0 Z1 Z2] +\n",
      "0.07052385292238096 [X0 Z2 Z3] +\n",
      "0.028555850825589 [Y0 X1 Y3] +\n",
      "-0.005103767726276638 [Y0 Y1 X3] +\n",
      "0.07114732950498256 [Y0 Z1 Y2 Z3] +\n",
      "-0.07114732950498256 [Y0 Y2] +\n",
      "0.07114732950498256 [Z0 X1 Z2 X3] +\n",
      "0.07114732950498256 [Z0 Y1 Z2 Y3] +\n",
      "0.005103767726276638 [Z0 Z1 X2] +\n",
      "-0.028555850825589 [Z0 X2 Z3] +\n",
      "-0.07811611442288481 [X1 Y2 Y3] +\n",
      "0.07811611442288481 [Y1 Y2 X3] +\n",
      "0.32806903436877016 [Z1 Z3]\n",
      "\n",
      "\n",
      "First QWC group\n",
      "-0.636271005010802 [] +\n",
      "0.07052385292238092 [Z0] +\n",
      "-0.07052385292238092 [Z0 X1] +\n",
      "0.0711473295049825 [Z0 X1 Z2] +\n",
      "-0.005103767726276633 [Z0 X1 Z3] +\n",
      "-0.0711473295049825 [Z0 Z2] +\n",
      "0.02855585082558898 [Z0 Z3] +\n",
      "0.32806903436876994 [X1] +\n",
      "0.005103767726276633 [X1 Z2] +\n",
      "0.07811611442288477 [X1 Z2 Z3] +\n",
      "-0.0711473295049825 [X1 Z3] +\n",
      "-0.02855585082558898 [Z2] +\n",
      "-0.07811611442288477 [Z2 Z3] +\n",
      "0.0711473295049825 [Z3]\n",
      "\n",
      "\n",
      "First Z group\n",
      "-0.6362710050108019 [] +\n",
      "0.0705238529223809 [Z0] +\n",
      "-0.0705238529223809 [Z0 Z1] +\n",
      "0.07114732950498248 [Z0 Z1 Z2] +\n",
      "-0.005103767726276632 [Z0 Z1 Z3] +\n",
      "-0.07114732950498248 [Z0 Z2] +\n",
      "0.028555850825588973 [Z0 Z3] +\n",
      "0.3280690343687699 [Z1] +\n",
      "0.005103767726276632 [Z1 Z2] +\n",
      "0.07811611442288476 [Z1 Z2 Z3] +\n",
      "-0.07114732950498248 [Z1 Z3] +\n",
      "-0.028555850825588973 [Z2] +\n",
      "-0.07811611442288476 [Z2 Z3] +\n",
      "0.07114732950498248 [Z3]\n",
      "\n",
      "\n",
      "First qwc unitary\n",
      "0.24999999999999992 [X0 X1] +\n",
      "(0.24999999999999992-0j) [X0 Y1 X2 Y3] +\n",
      "0.24999999999999992 [X0 Z1 Z3] +\n",
      "(-0.24999999999999992+0j) [X0 X2 X3] +\n",
      "(0.24999999999999992+0j) [Y0 X1 Y2 Z3] +\n",
      "(0.24999999999999992+0j) [Y0 Y1 Z2 X3] +\n",
      "(0.24999999999999992+0j) [Y0 Z1 Y2] +\n",
      "(0.24999999999999992+0j) [Y0 Z2 Y3] +\n",
      "0.24999999999999992 [Z0 X1 Z2 Z3] +\n",
      "(0.24999999999999992-0j) [Z0 Y1 Y2 X3] +\n",
      "0.24999999999999992 [Z0 Z1 Z2] +\n",
      "(0.24999999999999992+0j) [Z0 Y2 Y3] +\n",
      "0.24999999999999992 [X1 X2] +\n",
      "(-0.24999999999999992+0j) [Y1 Y3] +\n",
      "0.24999999999999992 [Z1 X2 Z3] +\n",
      "0.24999999999999992 [X3]\n",
      "\n",
      "\n",
      "First z unitary\n",
      "0.7071067811865475 [X1] +\n",
      "0.7071067811865475 [Z1]\n"
     ]
    }
   ],
   "source": [
    "mcalc = MeasurementUnitaryGenerator('h4', apply_uzs=True)\n",
    "print('\\n')\n",
    "print('First commuting group')\n",
    "print(mcalc.comm_groups[1])\n",
    "print('\\n')\n",
    "print('First QWC group')\n",
    "print(mcalc.qwc_groups[1])\n",
    "print('\\n')\n",
    "print('First Z group')\n",
    "print(mcalc.z_groups[1])\n",
    "print('\\n')\n",
    "print('First qwc unitary')\n",
    "print(mcalc.uqwcs[1])\n",
    "print('\\n')\n",
    "print('First z unitary')\n",
    "print(mcalc.uzs[1])"
   ]
  },
  {
   "cell_type": "markdown",
   "metadata": {},
   "source": [
    "## LiH"
   ]
  },
  {
   "cell_type": "code",
   "execution_count": 8,
   "metadata": {
    "scrolled": false
   },
   "outputs": [
    {
     "name": "stdout",
     "output_type": "stream",
     "text": [
      "1) Initialise the molecule object in a given basis and with a provided mapping\n",
      "\t12 orbitals\n",
      "2) Optionally apply tapering\n",
      "\t8 orbitals\n",
      "3) Get commuting groups\n",
      "\t41 commuting groups\n",
      "4) For each commuting group get the unitary for transforming to qwc\n"
     ]
    },
    {
     "data": {
      "application/vnd.jupyter.widget-view+json": {
       "model_id": "de465cb4549040048fd38384e9e28598",
       "version_major": 2,
       "version_minor": 0
      },
      "text/plain": [
       "HBox(children=(FloatProgress(value=0.0, max=41.0), HTML(value='')))"
      ]
     },
     "metadata": {},
     "output_type": "display_data"
    },
    {
     "name": "stdout",
     "output_type": "stream",
     "text": [
      "\n",
      "5) Apply unitaries to get the qwcs\n"
     ]
    },
    {
     "data": {
      "application/vnd.jupyter.widget-view+json": {
       "model_id": "07ea61ac51384d1ab55b90723c211b3a",
       "version_major": 2,
       "version_minor": 0
      },
      "text/plain": [
       "HBox(children=(FloatProgress(value=0.0, max=41.0), HTML(value='')))"
      ]
     },
     "metadata": {},
     "output_type": "display_data"
    },
    {
     "name": "stdout",
     "output_type": "stream",
     "text": [
      "\n",
      "6) Get unitaries for rotating everything to the measurable z-basis\n"
     ]
    },
    {
     "data": {
      "application/vnd.jupyter.widget-view+json": {
       "model_id": "0b7a43106b6d421a8720ac794ecb3f9b",
       "version_major": 2,
       "version_minor": 0
      },
      "text/plain": [
       "HBox(children=(FloatProgress(value=0.0, max=41.0), HTML(value='')))"
      ]
     },
     "metadata": {},
     "output_type": "display_data"
    },
    {
     "name": "stdout",
     "output_type": "stream",
     "text": [
      "\n",
      "7) Finally, apply latter unitaries to move all qwc groups to z-basis\n"
     ]
    },
    {
     "data": {
      "application/vnd.jupyter.widget-view+json": {
       "model_id": "83dcb288480c4aadae015308d07402c0",
       "version_major": 2,
       "version_minor": 0
      },
      "text/plain": [
       "HBox(children=(FloatProgress(value=0.0, max=41.0), HTML(value='')))"
      ]
     },
     "metadata": {},
     "output_type": "display_data"
    },
    {
     "name": "stdout",
     "output_type": "stream",
     "text": [
      "\n",
      "\n",
      "\n",
      "First commuting group\n",
      "-3.947119127137718 [] +\n",
      "-0.0009148940971918733 [X0 Y1 Y2 Z3 Z4 Z5 Z7] +\n",
      "-5.845579096240596e-05 [X0 X2 X3] +\n",
      "0.0009148940971918733 [Y0 Y1 X2 Z3 Z4 Z5 Z7] +\n",
      "-5.845579096240596e-05 [Y0 Y2 X3] +\n",
      "0.011733623912046789 [Z0 X1 Z2 X3] +\n",
      "-0.0028574469714684443 [Z0 Y1 Y3 Z4 Z5 Z6] +\n",
      "-0.00010502189355807878 [Z0 Y1 Z3 Z4 Z5 Y6 X7] +\n",
      "0.09486647602250253 [Z0 Z1 Z3 Z4 Z5 Z7] +\n",
      "0.05362141072261479 [Z0 Z2] +\n",
      "0.0010456709574065426 [Z0 Z2 X3 Z4 Z5 Y6 Y7] +\n",
      "0.08860943826798089 [Z0 Z2 Z4 Z5] +\n",
      "0.09041974869932769 [Z0 Z2 Z4 Z5 Z6 Z7] +\n",
      "-0.0015406700896984202 [X1 X3] +\n",
      "-2.844458479947759e-05 [Y1 Z2 Y3 Z4 Z5 Z7] +\n",
      "0.010540187409003523 [Y1 Z2 Y3 Z6] +\n",
      "0.0027757462268932272 [Y1 Z2 Y3 Z7] +\n",
      "0.00010502189355807878 [Y1 Z2 Z3 Y6 X7] +\n",
      "0.09899076578197372 [Z1 Z2 Z3 Z4 Z5 Z7] +\n",
      "-0.0010456709574065426 [X3 Y6 Y7] +\n",
      "0.008434569756845402 [X4 X5] +\n",
      "0.008434569756845402 [Y4 Y5] +\n",
      "0.2707726623751814 [Z4 Z5] +\n",
      "0.11409163501021498 [Z6 Z7]\n",
      "\n",
      "\n",
      "First QWC group\n",
      "-3.947119127137732 [] +\n",
      "0.05362141072261472 [X0] +\n",
      "-0.0009148940971918669 [X0 X1 Z2 X4] +\n",
      "0.0028574469714684287 [X0 X1 Z3 X4 X6] +\n",
      "0.09486647602250264 [X0 X1 X4] +\n",
      "0.00010502189355807852 [X0 X1 X4 X6 Z7] +\n",
      "5.8455790962405695e-05 [X0 Z2 Z3] +\n",
      "0.011733623912046796 [X0 Z3] +\n",
      "-0.0010456709574065413 [X0 Z3 X4 X6 Z7] +\n",
      "0.08860943826798036 [X0 X4] +\n",
      "0.09041974869932785 [X0 X4 X6] +\n",
      "0.0009148940971918669 [X1 Z2 X4] +\n",
      "-0.00277574622689324 [X1 Z3] +\n",
      "2.8444584799477626e-05 [X1 Z3 X4] +\n",
      "-0.010540187409003516 [X1 Z3 X6] +\n",
      "0.09899076578197354 [X1 X4] +\n",
      "-0.00010502189355807852 [X1 X6 Z7] +\n",
      "-5.8455790962405695e-05 [Z2 Z3] +\n",
      "-0.0015406700896984228 [Z3] +\n",
      "0.0010456709574065413 [Z3 X6 Z7] +\n",
      "0.27077266237518 [X4] +\n",
      "-0.008434569756845369 [X4 Z5] +\n",
      "0.008434569756845369 [Z5] +\n",
      "0.11409163501021517 [X6]\n",
      "\n",
      "\n",
      "First Z group\n",
      "-3.9471191271377304 [] +\n",
      "0.0536214107226147 [Z0] +\n",
      "-0.0009148940971918665 [Z0 Z1 Z2 Z4] +\n",
      "0.0028574469714684266 [Z0 Z1 Z3 Z4 Z6] +\n",
      "0.09486647602250262 [Z0 Z1 Z4] +\n",
      "0.00010502189355807845 [Z0 Z1 Z4 Z6 Z7] +\n",
      "5.8455790962405634e-05 [Z0 Z2 Z3] +\n",
      "0.01173362391204679 [Z0 Z3] +\n",
      "-0.0010456709574065402 [Z0 Z3 Z4 Z6 Z7] +\n",
      "0.0886094382679803 [Z0 Z4] +\n",
      "0.09041974869932783 [Z0 Z4 Z6] +\n",
      "0.0009148940971918665 [Z1 Z2 Z4] +\n",
      "-0.002775746226893238 [Z1 Z3] +\n",
      "2.84445847994776e-05 [Z1 Z3 Z4] +\n",
      "-0.010540187409003506 [Z1 Z3 Z6] +\n",
      "0.09899076578197351 [Z1 Z4] +\n",
      "-0.00010502189355807845 [Z1 Z6 Z7] +\n",
      "-5.8455790962405634e-05 [Z2 Z3] +\n",
      "-0.0015406700896984221 [Z3] +\n",
      "0.0010456709574065402 [Z3 Z6 Z7] +\n",
      "0.2707726623751797 [Z4] +\n",
      "-0.008434569756845364 [Z4 Z5] +\n",
      "0.008434569756845364 [Z5] +\n",
      "0.11409163501021506 [Z6]\n",
      "\n",
      "\n",
      "First qwc unitary\n",
      "(-0.06249999999999996+0j) [X0 X1 Z2 X3 X4 Z5 Y6 Y7] +\n",
      "0.06249999999999996 [X0 X1 Z2 X3 X4 Z5 X7] +\n",
      "(0.06249999999999996-0j) [X0 X1 Z2 X3 Y4 Y5 Y6 Y7] +\n",
      "(-0.06249999999999996+0j) [X0 X1 Z2 X3 Y4 Y5 X7] +\n",
      "(-0.06249999999999996+0j) [X0 X1 Z2 X3 Z4 Y6 Y7] +\n",
      "0.06249999999999996 [X0 X1 Z2 X3 Z4 X7] +\n",
      "(-0.06249999999999996+0j) [X0 X1 Z2 X3 X5 Y6 Y7] +\n",
      "0.06249999999999996 [X0 X1 Z2 X3 X5 X7] +\n",
      "0.06249999999999996 [X0 X1 Z2 Z3 X4 Z5 X6 Z7] +\n",
      "0.06249999999999996 [X0 X1 Z2 Z3 X4 Z5 Z6] +\n",
      "(-0.06249999999999996+0j) [X0 X1 Z2 Z3 Y4 Y5 X6 Z7] +\n",
      "(-0.06249999999999996+0j) [X0 X1 Z2 Z3 Y4 Y5 Z6] +\n",
      "0.06249999999999996 [X0 X1 Z2 Z3 Z4 X6 Z7] +\n",
      "0.06249999999999996 [X0 X1 Z2 Z3 Z4 Z6] +\n",
      "0.06249999999999996 [X0 X1 Z2 Z3 X5 X6 Z7] +\n",
      "0.06249999999999996 [X0 X1 Z2 Z3 X5 Z6] +\n",
      "(-0.06249999999999996+0j) [X0 Y1 Y3 X4 Z5 X6] +\n",
      "(-0.06249999999999996+0j) [X0 Y1 Y3 X4 Z5 Z6 Z7] +\n",
      "(0.06249999999999996+0j) [X0 Y1 Y3 Y4 Y5 X6] +\n",
      "(0.06249999999999996+0j) [X0 Y1 Y3 Y4 Y5 Z6 Z7] +\n",
      "(-0.06249999999999996+0j) [X0 Y1 Y3 Z4 X6] +\n",
      "(-0.06249999999999996+0j) [X0 Y1 Y3 Z4 Z6 Z7] +\n",
      "(-0.06249999999999996+0j) [X0 Y1 Y3 X5 X6] +\n",
      "(-0.06249999999999996+0j) [X0 Y1 Y3 X5 Z6 Z7] +\n",
      "(-0.06249999999999996+0j) [X0 Y1 X4 Z5 Y6 X7] +\n",
      "(-0.06249999999999996+0j) [X0 Y1 X4 Z5 Y7] +\n",
      "(0.06249999999999996-0j) [X0 Y1 Y4 Y5 Y6 X7] +\n",
      "(0.06249999999999996+0j) [X0 Y1 Y4 Y5 Y7] +\n",
      "(-0.06249999999999996+0j) [X0 Y1 Z4 Y6 X7] +\n",
      "(-0.06249999999999996+0j) [X0 Y1 Z4 Y7] +\n",
      "(-0.06249999999999996+0j) [X0 Y1 X5 Y6 X7] +\n",
      "(-0.06249999999999996+0j) [X0 Y1 X5 Y7] +\n",
      "(-0.06249999999999996+0j) [X0 Z1 Y3 X4 Z5 Y6 X7] +\n",
      "(-0.06249999999999996+0j) [X0 Z1 Y3 X4 Z5 Y7] +\n",
      "(0.06249999999999996+0j) [X0 Z1 Y3 Y4 Y5 Y6 X7] +\n",
      "(0.06249999999999996+0j) [X0 Z1 Y3 Y4 Y5 Y7] +\n",
      "(-0.06249999999999996+0j) [X0 Z1 Y3 Z4 Y6 X7] +\n",
      "(-0.06249999999999996+0j) [X0 Z1 Y3 Z4 Y7] +\n",
      "(-0.06249999999999996+0j) [X0 Z1 Y3 X5 Y6 X7] +\n",
      "(-0.06249999999999996+0j) [X0 Z1 Y3 X5 Y7] +\n",
      "0.06249999999999996 [X0 Z1 X4 Z5 X6] +\n",
      "0.06249999999999996 [X0 Z1 X4 Z5 Z6 Z7] +\n",
      "(-0.06249999999999996+0j) [X0 Z1 Y4 Y5 X6] +\n",
      "(-0.06249999999999996+0j) [X0 Z1 Y4 Y5 Z6 Z7] +\n",
      "0.06249999999999996 [X0 Z1 Z4 X6] +\n",
      "0.06249999999999996 [X0 Z1 Z4 Z6 Z7] +\n",
      "0.06249999999999996 [X0 Z1 X5 X6] +\n",
      "0.06249999999999996 [X0 Z1 X5 Z6 Z7] +\n",
      "0.06249999999999996 [X0 Z2 X3 X4 Z5 X6 Z7] +\n",
      "0.06249999999999996 [X0 Z2 X3 X4 Z5 Z6] +\n",
      "(-0.06249999999999996+0j) [X0 Z2 X3 Y4 Y5 X6 Z7] +\n",
      "(-0.06249999999999996+0j) [X0 Z2 X3 Y4 Y5 Z6] +\n",
      "0.06249999999999996 [X0 Z2 X3 Z4 X6 Z7] +\n",
      "0.06249999999999996 [X0 Z2 X3 Z4 Z6] +\n",
      "0.06249999999999996 [X0 Z2 X3 X5 X6 Z7] +\n",
      "0.06249999999999996 [X0 Z2 X3 X5 Z6] +\n",
      "(-0.06249999999999996+0j) [X0 Z2 Z3 X4 Z5 Y6 Y7] +\n",
      "0.06249999999999996 [X0 Z2 Z3 X4 Z5 X7] +\n",
      "(0.06249999999999996-0j) [X0 Z2 Z3 Y4 Y5 Y6 Y7] +\n",
      "(-0.06249999999999996+0j) [X0 Z2 Z3 Y4 Y5 X7] +\n",
      "(-0.06249999999999996+0j) [X0 Z2 Z3 Z4 Y6 Y7] +\n",
      "0.06249999999999996 [X0 Z2 Z3 Z4 X7] +\n",
      "(-0.06249999999999996+0j) [X0 Z2 Z3 X5 Y6 Y7] +\n",
      "0.06249999999999996 [X0 Z2 Z3 X5 X7] +\n",
      "(-0.06249999999999996+0j) [Y0 X1 Y2 X3 X4 Z5 X6 Z7] +\n",
      "(-0.06249999999999996+0j) [Y0 X1 Y2 X3 X4 Z5 Z6] +\n",
      "(0.06249999999999996+0j) [Y0 X1 Y2 X3 Y4 Y5 X6 Z7] +\n",
      "(0.06249999999999996+0j) [Y0 X1 Y2 X3 Y4 Y5 Z6] +\n",
      "(-0.06249999999999996+0j) [Y0 X1 Y2 X3 Z4 X6 Z7] +\n",
      "(-0.06249999999999996+0j) [Y0 X1 Y2 X3 Z4 Z6] +\n",
      "(-0.06249999999999996+0j) [Y0 X1 Y2 X3 X5 X6 Z7] +\n",
      "(-0.06249999999999996+0j) [Y0 X1 Y2 X3 X5 Z6] +\n",
      "(0.06249999999999996-0j) [Y0 X1 Y2 Z3 X4 Z5 Y6 Y7] +\n",
      "(-0.06249999999999996+0j) [Y0 X1 Y2 Z3 X4 Z5 X7] +\n",
      "(-0.06249999999999996+0j) [Y0 X1 Y2 Z3 Y4 Y5 Y6 Y7] +\n",
      "(0.06249999999999996+0j) [Y0 X1 Y2 Z3 Y4 Y5 X7] +\n",
      "(0.06249999999999996-0j) [Y0 X1 Y2 Z3 Z4 Y6 Y7] +\n",
      "(-0.06249999999999996+0j) [Y0 X1 Y2 Z3 Z4 X7] +\n",
      "(0.06249999999999996-0j) [Y0 X1 Y2 Z3 X5 Y6 Y7] +\n",
      "(-0.06249999999999996+0j) [Y0 X1 Y2 Z3 X5 X7] +\n",
      "(0.06249999999999996-0j) [Y0 Y1 X2 Y3 X4 Z5 Y6 X7] +\n",
      "(0.06249999999999996+0j) [Y0 Y1 X2 Y3 X4 Z5 Y7] +\n",
      "(-0.06249999999999996+0j) [Y0 Y1 X2 Y3 Y4 Y5 Y6 X7] +\n",
      "(-0.06249999999999996+0j) [Y0 Y1 X2 Y3 Y4 Y5 Y7] +\n",
      "(0.06249999999999996-0j) [Y0 Y1 X2 Y3 Z4 Y6 X7] +\n",
      "(0.06249999999999996+0j) [Y0 Y1 X2 Y3 Z4 Y7] +\n",
      "(0.06249999999999996-0j) [Y0 Y1 X2 Y3 X5 Y6 X7] +\n",
      "(0.06249999999999996+0j) [Y0 Y1 X2 Y3 X5 Y7] +\n",
      "(-0.06249999999999996+0j) [Y0 Y1 X2 X4 Z5 X6] +\n",
      "(-0.06249999999999996+0j) [Y0 Y1 X2 X4 Z5 Z6 Z7] +\n",
      "(0.06249999999999996+0j) [Y0 Y1 X2 Y4 Y5 X6] +\n",
      "(0.06249999999999996+0j) [Y0 Y1 X2 Y4 Y5 Z6 Z7] +\n",
      "(-0.06249999999999996+0j) [Y0 Y1 X2 Z4 X6] +\n",
      "(-0.06249999999999996+0j) [Y0 Y1 X2 Z4 Z6 Z7] +\n",
      "(-0.06249999999999996+0j) [Y0 Y1 X2 X5 X6] +\n",
      "(-0.06249999999999996+0j) [Y0 Y1 X2 X5 Z6 Z7] +\n",
      "(-0.06249999999999996+0j) [Y0 Z1 X2 Y3 X4 Z5 X6] +\n",
      "(-0.06249999999999996+0j) [Y0 Z1 X2 Y3 X4 Z5 Z6 Z7] +\n",
      "(0.06249999999999996+0j) [Y0 Z1 X2 Y3 Y4 Y5 X6] +\n",
      "(0.06249999999999996+0j) [Y0 Z1 X2 Y3 Y4 Y5 Z6 Z7] +\n",
      "(-0.06249999999999996+0j) [Y0 Z1 X2 Y3 Z4 X6] +\n",
      "(-0.06249999999999996+0j) [Y0 Z1 X2 Y3 Z4 Z6 Z7] +\n",
      "(-0.06249999999999996+0j) [Y0 Z1 X2 Y3 X5 X6] +\n",
      "(-0.06249999999999996+0j) [Y0 Z1 X2 Y3 X5 Z6 Z7] +\n",
      "(-0.06249999999999996+0j) [Y0 Z1 X2 X4 Z5 Y6 X7] +\n",
      "(-0.06249999999999996+0j) [Y0 Z1 X2 X4 Z5 Y7] +\n",
      "(0.06249999999999996+0j) [Y0 Z1 X2 Y4 Y5 Y6 X7] +\n",
      "(0.06249999999999996+0j) [Y0 Z1 X2 Y4 Y5 Y7] +\n",
      "(-0.06249999999999996+0j) [Y0 Z1 X2 Z4 Y6 X7] +\n",
      "(-0.06249999999999996+0j) [Y0 Z1 X2 Z4 Y7] +\n",
      "(-0.06249999999999996+0j) [Y0 Z1 X2 X5 Y6 X7] +\n",
      "(-0.06249999999999996+0j) [Y0 Z1 X2 X5 Y7] +\n",
      "(0.06249999999999996-0j) [Y0 Y2 X3 X4 Z5 Y6 Y7] +\n",
      "(-0.06249999999999996+0j) [Y0 Y2 X3 X4 Z5 X7] +\n",
      "(-0.06249999999999996+0j) [Y0 Y2 X3 Y4 Y5 Y6 Y7] +\n",
      "(0.06249999999999996+0j) [Y0 Y2 X3 Y4 Y5 X7] +\n",
      "(0.06249999999999996-0j) [Y0 Y2 X3 Z4 Y6 Y7] +\n",
      "(-0.06249999999999996+0j) [Y0 Y2 X3 Z4 X7] +\n",
      "(0.06249999999999996-0j) [Y0 Y2 X3 X5 Y6 Y7] +\n",
      "(-0.06249999999999996+0j) [Y0 Y2 X3 X5 X7] +\n",
      "(-0.06249999999999996+0j) [Y0 Y2 Z3 X4 Z5 X6 Z7] +\n",
      "(-0.06249999999999996+0j) [Y0 Y2 Z3 X4 Z5 Z6] +\n",
      "(0.06249999999999996+0j) [Y0 Y2 Z3 Y4 Y5 X6 Z7] +\n",
      "(0.06249999999999996+0j) [Y0 Y2 Z3 Y4 Y5 Z6] +\n",
      "(-0.06249999999999996+0j) [Y0 Y2 Z3 Z4 X6 Z7] +\n",
      "(-0.06249999999999996+0j) [Y0 Y2 Z3 Z4 Z6] +\n",
      "(-0.06249999999999996+0j) [Y0 Y2 Z3 X5 X6 Z7] +\n",
      "(-0.06249999999999996+0j) [Y0 Y2 Z3 X5 Z6] +\n",
      "(-0.06249999999999996+0j) [Z0 X1 X3 X4 Z5 Y6 Y7] +\n",
      "0.06249999999999996 [Z0 X1 X3 X4 Z5 X7] +\n",
      "(0.06249999999999996-0j) [Z0 X1 X3 Y4 Y5 Y6 Y7] +\n",
      "(-0.06249999999999996+0j) [Z0 X1 X3 Y4 Y5 X7] +\n",
      "(-0.06249999999999996+0j) [Z0 X1 X3 Z4 Y6 Y7] +\n",
      "0.06249999999999996 [Z0 X1 X3 Z4 X7] +\n",
      "(-0.06249999999999996+0j) [Z0 X1 X3 X5 Y6 Y7] +\n",
      "0.06249999999999996 [Z0 X1 X3 X5 X7] +\n",
      "0.06249999999999996 [Z0 X1 Z3 X4 Z5 X6 Z7] +\n",
      "0.06249999999999996 [Z0 X1 Z3 X4 Z5 Z6] +\n",
      "(-0.06249999999999996+0j) [Z0 X1 Z3 Y4 Y5 X6 Z7] +\n",
      "(-0.06249999999999996+0j) [Z0 X1 Z3 Y4 Y5 Z6] +\n",
      "0.06249999999999996 [Z0 X1 Z3 Z4 X6 Z7] +\n",
      "0.06249999999999996 [Z0 X1 Z3 Z4 Z6] +\n",
      "0.06249999999999996 [Z0 X1 Z3 X5 X6 Z7] +\n",
      "0.06249999999999996 [Z0 X1 Z3 X5 Z6] +\n",
      "(-0.06249999999999996+0j) [Z0 Y1 Z2 Y3 X4 Z5 X6] +\n",
      "(-0.06249999999999996+0j) [Z0 Y1 Z2 Y3 X4 Z5 Z6 Z7] +\n",
      "(0.06249999999999996+0j) [Z0 Y1 Z2 Y3 Y4 Y5 X6] +\n",
      "(0.06249999999999996+0j) [Z0 Y1 Z2 Y3 Y4 Y5 Z6 Z7] +\n",
      "(-0.06249999999999996+0j) [Z0 Y1 Z2 Y3 Z4 X6] +\n",
      "(-0.06249999999999996+0j) [Z0 Y1 Z2 Y3 Z4 Z6 Z7] +\n",
      "(-0.06249999999999996+0j) [Z0 Y1 Z2 Y3 X5 X6] +\n",
      "(-0.06249999999999996+0j) [Z0 Y1 Z2 Y3 X5 Z6 Z7] +\n",
      "(-0.06249999999999996+0j) [Z0 Y1 Z2 X4 Z5 Y6 X7] +\n",
      "(-0.06249999999999996+0j) [Z0 Y1 Z2 X4 Z5 Y7] +\n",
      "(0.06249999999999996-0j) [Z0 Y1 Z2 Y4 Y5 Y6 X7] +\n",
      "(0.06249999999999996+0j) [Z0 Y1 Z2 Y4 Y5 Y7] +\n",
      "(-0.06249999999999996+0j) [Z0 Y1 Z2 Z4 Y6 X7] +\n",
      "(-0.06249999999999996+0j) [Z0 Y1 Z2 Z4 Y7] +\n",
      "(-0.06249999999999996+0j) [Z0 Y1 Z2 X5 Y6 X7] +\n",
      "(-0.06249999999999996+0j) [Z0 Y1 Z2 X5 Y7] +\n",
      "(-0.06249999999999996+0j) [Z0 Z1 Z2 Y3 X4 Z5 Y6 X7] +\n",
      "(-0.06249999999999996+0j) [Z0 Z1 Z2 Y3 X4 Z5 Y7] +\n",
      "(0.06249999999999996+0j) [Z0 Z1 Z2 Y3 Y4 Y5 Y6 X7] +\n",
      "(0.06249999999999996+0j) [Z0 Z1 Z2 Y3 Y4 Y5 Y7] +\n",
      "(-0.06249999999999996+0j) [Z0 Z1 Z2 Y3 Z4 Y6 X7] +\n",
      "(-0.06249999999999996+0j) [Z0 Z1 Z2 Y3 Z4 Y7] +\n",
      "(-0.06249999999999996+0j) [Z0 Z1 Z2 Y3 X5 Y6 X7] +\n",
      "(-0.06249999999999996+0j) [Z0 Z1 Z2 Y3 X5 Y7] +\n",
      "0.06249999999999996 [Z0 Z1 Z2 X4 Z5 X6] +\n",
      "0.06249999999999996 [Z0 Z1 Z2 X4 Z5 Z6 Z7] +\n",
      "(-0.06249999999999996+0j) [Z0 Z1 Z2 Y4 Y5 X6] +\n",
      "(-0.06249999999999996+0j) [Z0 Z1 Z2 Y4 Y5 Z6 Z7] +\n",
      "0.06249999999999996 [Z0 Z1 Z2 Z4 X6] +\n",
      "0.06249999999999996 [Z0 Z1 Z2 Z4 Z6 Z7] +\n",
      "0.06249999999999996 [Z0 Z1 Z2 X5 X6] +\n",
      "0.06249999999999996 [Z0 Z1 Z2 X5 Z6 Z7] +\n",
      "0.06249999999999996 [Z0 X3 X4 Z5 X6 Z7] +\n",
      "0.06249999999999996 [Z0 X3 X4 Z5 Z6] +\n",
      "(-0.06249999999999996+0j) [Z0 X3 Y4 Y5 X6 Z7] +\n",
      "(-0.06249999999999996+0j) [Z0 X3 Y4 Y5 Z6] +\n",
      "0.06249999999999996 [Z0 X3 Z4 X6 Z7] +\n",
      "0.06249999999999996 [Z0 X3 Z4 Z6] +\n",
      "0.06249999999999996 [Z0 X3 X5 X6 Z7] +\n",
      "0.06249999999999996 [Z0 X3 X5 Z6] +\n",
      "(-0.06249999999999996+0j) [Z0 Z3 X4 Z5 Y6 Y7] +\n",
      "0.06249999999999996 [Z0 Z3 X4 Z5 X7] +\n",
      "(0.06249999999999996-0j) [Z0 Z3 Y4 Y5 Y6 Y7] +\n",
      "(-0.06249999999999996+0j) [Z0 Z3 Y4 Y5 X7] +\n",
      "(-0.06249999999999996+0j) [Z0 Z3 Z4 Y6 Y7] +\n",
      "0.06249999999999996 [Z0 Z3 Z4 X7] +\n",
      "(-0.06249999999999996+0j) [Z0 Z3 X5 Y6 Y7] +\n",
      "0.06249999999999996 [Z0 Z3 X5 X7] +\n",
      "0.06249999999999996 [X1 X2 X3 X4 Z5 X6 Z7] +\n",
      "0.06249999999999996 [X1 X2 X3 X4 Z5 Z6] +\n",
      "(-0.06249999999999996+0j) [X1 X2 X3 Y4 Y5 X6 Z7] +\n",
      "(-0.06249999999999996+0j) [X1 X2 X3 Y4 Y5 Z6] +\n",
      "0.06249999999999996 [X1 X2 X3 Z4 X6 Z7] +\n",
      "0.06249999999999996 [X1 X2 X3 Z4 Z6] +\n",
      "0.06249999999999996 [X1 X2 X3 X5 X6 Z7] +\n",
      "0.06249999999999996 [X1 X2 X3 X5 Z6] +\n",
      "(-0.06249999999999996+0j) [X1 X2 Z3 X4 Z5 Y6 Y7] +\n",
      "0.06249999999999996 [X1 X2 Z3 X4 Z5 X7] +\n",
      "(0.06249999999999996-0j) [X1 X2 Z3 Y4 Y5 Y6 Y7] +\n",
      "(-0.06249999999999996+0j) [X1 X2 Z3 Y4 Y5 X7] +\n",
      "(-0.06249999999999996+0j) [X1 X2 Z3 Z4 Y6 Y7] +\n",
      "0.06249999999999996 [X1 X2 Z3 Z4 X7] +\n",
      "(-0.06249999999999996+0j) [X1 X2 Z3 X5 Y6 Y7] +\n",
      "0.06249999999999996 [X1 X2 Z3 X5 X7] +\n",
      "(0.06249999999999996-0j) [Y1 Y2 Y3 X4 Z5 Y6 X7] +\n",
      "(0.06249999999999996+0j) [Y1 Y2 Y3 X4 Z5 Y7] +\n",
      "(-0.06249999999999996+0j) [Y1 Y2 Y3 Y4 Y5 Y6 X7] +\n",
      "(-0.06249999999999996+0j) [Y1 Y2 Y3 Y4 Y5 Y7] +\n",
      "(0.06249999999999996-0j) [Y1 Y2 Y3 Z4 Y6 X7] +\n",
      "(0.06249999999999996+0j) [Y1 Y2 Y3 Z4 Y7] +\n",
      "(0.06249999999999996-0j) [Y1 Y2 Y3 X5 Y6 X7] +\n",
      "(0.06249999999999996+0j) [Y1 Y2 Y3 X5 Y7] +\n",
      "(-0.06249999999999996+0j) [Y1 Y2 X4 Z5 X6] +\n",
      "(-0.06249999999999996+0j) [Y1 Y2 X4 Z5 Z6 Z7] +\n",
      "(0.06249999999999996+0j) [Y1 Y2 Y4 Y5 X6] +\n",
      "(0.06249999999999996+0j) [Y1 Y2 Y4 Y5 Z6 Z7] +\n",
      "(-0.06249999999999996+0j) [Y1 Y2 Z4 X6] +\n",
      "(-0.06249999999999996+0j) [Y1 Y2 Z4 Z6 Z7] +\n",
      "(-0.06249999999999996+0j) [Y1 Y2 X5 X6] +\n",
      "(-0.06249999999999996+0j) [Y1 Y2 X5 Z6 Z7] +\n",
      "(-0.06249999999999996+0j) [Z1 Y2 Y3 X4 Z5 X6] +\n",
      "(-0.06249999999999996+0j) [Z1 Y2 Y3 X4 Z5 Z6 Z7] +\n",
      "(0.06249999999999996+0j) [Z1 Y2 Y3 Y4 Y5 X6] +\n",
      "(0.06249999999999996+0j) [Z1 Y2 Y3 Y4 Y5 Z6 Z7] +\n",
      "(-0.06249999999999996+0j) [Z1 Y2 Y3 Z4 X6] +\n",
      "(-0.06249999999999996+0j) [Z1 Y2 Y3 Z4 Z6 Z7] +\n",
      "(-0.06249999999999996+0j) [Z1 Y2 Y3 X5 X6] +\n",
      "(-0.06249999999999996+0j) [Z1 Y2 Y3 X5 Z6 Z7] +\n",
      "(-0.06249999999999996+0j) [Z1 Y2 X4 Z5 Y6 X7] +\n",
      "(-0.06249999999999996+0j) [Z1 Y2 X4 Z5 Y7] +\n",
      "(0.06249999999999996+0j) [Z1 Y2 Y4 Y5 Y6 X7] +\n",
      "(0.06249999999999996+0j) [Z1 Y2 Y4 Y5 Y7] +\n",
      "(-0.06249999999999996+0j) [Z1 Y2 Z4 Y6 X7] +\n",
      "(-0.06249999999999996+0j) [Z1 Y2 Z4 Y7] +\n",
      "(-0.06249999999999996+0j) [Z1 Y2 X5 Y6 X7] +\n",
      "(-0.06249999999999996+0j) [Z1 Y2 X5 Y7] +\n",
      "(-0.06249999999999996+0j) [X2 X3 X4 Z5 Y6 Y7] +\n",
      "0.06249999999999996 [X2 X3 X4 Z5 X7] +\n",
      "(0.06249999999999996-0j) [X2 X3 Y4 Y5 Y6 Y7] +\n",
      "(-0.06249999999999996+0j) [X2 X3 Y4 Y5 X7] +\n",
      "(-0.06249999999999996+0j) [X2 X3 Z4 Y6 Y7] +\n",
      "0.06249999999999996 [X2 X3 Z4 X7] +\n",
      "(-0.06249999999999996+0j) [X2 X3 X5 Y6 Y7] +\n",
      "0.06249999999999996 [X2 X3 X5 X7] +\n",
      "0.06249999999999996 [X2 Z3 X4 Z5 X6 Z7] +\n",
      "0.06249999999999996 [X2 Z3 X4 Z5 Z6] +\n",
      "(-0.06249999999999996+0j) [X2 Z3 Y4 Y5 X6 Z7] +\n",
      "(-0.06249999999999996+0j) [X2 Z3 Y4 Y5 Z6] +\n",
      "0.06249999999999996 [X2 Z3 Z4 X6 Z7] +\n",
      "0.06249999999999996 [X2 Z3 Z4 Z6] +\n",
      "0.06249999999999996 [X2 Z3 X5 X6 Z7] +\n",
      "0.06249999999999996 [X2 Z3 X5 Z6]\n",
      "\n",
      "\n",
      "First z unitary\n",
      "0.24999999999999992 [X0 X1 X4 X6] +\n",
      "0.24999999999999992 [X0 X1 X4 Z6] +\n",
      "0.24999999999999992 [X0 X1 Z4 X6] +\n",
      "0.24999999999999992 [X0 X1 Z4 Z6] +\n",
      "0.24999999999999992 [X0 Z1 X4 X6] +\n",
      "0.24999999999999992 [X0 Z1 X4 Z6] +\n",
      "0.24999999999999992 [X0 Z1 Z4 X6] +\n",
      "0.24999999999999992 [X0 Z1 Z4 Z6] +\n",
      "0.24999999999999992 [Z0 X1 X4 X6] +\n",
      "0.24999999999999992 [Z0 X1 X4 Z6] +\n",
      "0.24999999999999992 [Z0 X1 Z4 X6] +\n",
      "0.24999999999999992 [Z0 X1 Z4 Z6] +\n",
      "0.24999999999999992 [Z0 Z1 X4 X6] +\n",
      "0.24999999999999992 [Z0 Z1 X4 Z6] +\n",
      "0.24999999999999992 [Z0 Z1 Z4 X6] +\n",
      "0.24999999999999992 [Z0 Z1 Z4 Z6]\n"
     ]
    }
   ],
   "source": [
    "mcalc = MeasurementUnitaryGenerator('lih', apply_uzs=True)\n",
    "print('\\n')\n",
    "print('First commuting group')\n",
    "print(mcalc.comm_groups[1])\n",
    "print('\\n')\n",
    "print('First QWC group')\n",
    "print(mcalc.qwc_groups[1])\n",
    "print('\\n')\n",
    "print('First Z group')\n",
    "print(mcalc.z_groups[1])\n",
    "print('\\n')\n",
    "print('First qwc unitary')\n",
    "print(mcalc.uqwcs[1])\n",
    "print('\\n')\n",
    "print('First z unitary')\n",
    "print(mcalc.uzs[1])"
   ]
  },
  {
   "cell_type": "markdown",
   "metadata": {},
   "source": [
    "## NH<sub>3</sub>\n",
    "Skip getting commuting groups as these steps are intractable. Skip straight ahead to getting QWC groups.\n",
    "\n",
    "Warning: to save time you might want to skip applying the z-basis transformations with `apply_uzs=False`"
   ]
  },
  {
   "cell_type": "code",
   "execution_count": 19,
   "metadata": {
    "scrolled": false
   },
   "outputs": [
    {
     "name": "stdout",
     "output_type": "stream",
     "text": [
      "1) Initialise the molecule object in a given basis and with a provided mapping\n",
      "\t16 orbitals\n",
      "2) Optionally apply tapering\n",
      "\t14 orbitals\n",
      "More than 8 orbitals: skipping steps 3), 4) and 5) and directly getting qwc groups\n",
      "\t959 QWC groups, a 3.76 x reduction from 3609 terms\n",
      "6) Get unitaries for rotating everything to the measurable z-basis\n"
     ]
    },
    {
     "data": {
      "application/vnd.jupyter.widget-view+json": {
       "model_id": "525995cdf10349ecaf2201fda59b3cfd",
       "version_major": 2,
       "version_minor": 0
      },
      "text/plain": [
       "HBox(children=(FloatProgress(value=0.0, max=959.0), HTML(value='')))"
      ]
     },
     "metadata": {},
     "output_type": "display_data"
    },
    {
     "name": "stdout",
     "output_type": "stream",
     "text": [
      "\n",
      "7) Finally, apply latter unitaries to move all qwc groups to z-basis\n"
     ]
    },
    {
     "data": {
      "application/vnd.jupyter.widget-view+json": {
       "model_id": "a8e5001320264ba5923badeed79145ef",
       "version_major": 2,
       "version_minor": 0
      },
      "text/plain": [
       "HBox(children=(FloatProgress(value=0.0, max=959.0), HTML(value='')))"
      ]
     },
     "metadata": {},
     "output_type": "display_data"
    },
    {
     "name": "stdout",
     "output_type": "stream",
     "text": [
      "\n",
      "\n",
      "\n",
      "First QWC group\n",
      "-34.413644501497416 [] +\n",
      "-0.00081303365904289 [Y0 Z1 Z2 Z3 Z4 Z5 Z6 Z7 Z8 Z9 Z10 Y11 X12 X13] +\n",
      "1.0772098183363803 [Z1] +\n",
      "0.13600689568262758 [Z1 Z2] +\n",
      "0.10606016163902365 [Z1 Z3] +\n",
      "0.13600689568262755 [Z1 Z4] +\n",
      "0.10606016163902378 [Z1 Z5] +\n",
      "0.14836407229820797 [Z1 Z6] +\n",
      "0.12295464996510772 [Z1 Z7] +\n",
      "0.13150100122363995 [Z1 Z8] +\n",
      "0.10855121194291724 [Z1 Z9] +\n",
      "0.13610484417123336 [Z1 Z10] +\n",
      "0.7684575395870031 [Z2] +\n",
      "0.14032184811826043 [Z2 Z3] +\n",
      "0.10748692518481216 [Z2 Z4] +\n",
      "0.11843189949596164 [Z2 Z5] +\n",
      "0.12437215825428041 [Z2 Z6] +\n",
      "0.13177108541979066 [Z2 Z7] +\n",
      "0.10788739359761279 [Z2 Z8] +\n",
      "0.12231181049825243 [Z2 Z9] +\n",
      "0.10428256107393341 [Z2 Z10] +\n",
      "0.7684575395870034 [Z3] +\n",
      "0.11843189949596164 [Z3 Z4] +\n",
      "0.10748692518481216 [Z3 Z5] +\n",
      "0.13177108541979066 [Z3 Z6] +\n",
      "0.12437215825428041 [Z3 Z7] +\n",
      "0.12231181049825243 [Z3 Z8] +\n",
      "0.10788739359761279 [Z3 Z9] +\n",
      "0.1375221381619795 [Z3 Z10] +\n",
      "0.7684575395870028 [Z4] +\n",
      "0.14032184811826073 [Z4 Z5] +\n",
      "0.12437215825428051 [Z4 Z6] +\n",
      "0.1317710854197907 [Z4 Z7] +\n",
      "0.10788739359761292 [Z4 Z8] +\n",
      "0.12231181049825253 [Z4 Z9] +\n",
      "0.11102398029714652 [Z4 Z10] +\n",
      "0.7684575395870028 [Z5] +\n",
      "0.1317710854197907 [Z5 Z6] +\n",
      "0.12437215825428051 [Z5 Z7] +\n",
      "0.12231181049825253 [Z5 Z8] +\n",
      "0.10788739359761292 [Z5 Z9] +\n",
      "0.12056645866274945 [Z5 Z10] +\n",
      "0.8371756137257456 [Z6] +\n",
      "0.18701759066369245 [Z6 Z7] +\n",
      "0.11062609262763162 [Z6 Z8] +\n",
      "0.12012285922207966 [Z6 Z9] +\n",
      "0.12741053974136962 [Z6 Z10] +\n",
      "0.8371756137257461 [Z7] +\n",
      "0.12012285922207966 [Z7 Z8] +\n",
      "0.11062609262763162 [Z7 Z9] +\n",
      "0.1379145972072241 [Z7 Z10] +\n",
      "0.4291714924118804 [Z8] +\n",
      "0.12916580118935223 [Z8 Z9] +\n",
      "0.09862865465364523 [Z8 Z10] +\n",
      "0.4291714924118803 [Z9] +\n",
      "0.12358230127755773 [Z9 Z10] +\n",
      "0.4569832446599611 [Z10] +\n",
      "-6.304223276335737e-05 [X12]\n",
      "\n",
      "\n",
      "First Z group\n",
      "-34.413644501497394 [] +\n",
      "-0.0008130336590428893 [Z0 Z1 Z2 Z3 Z4 Z5 Z6 Z7 Z8 Z9 Z10 Z11 Z12 Z13] +\n",
      "1.0772098183363796 [Z1] +\n",
      "0.13600689568262747 [Z1 Z2] +\n",
      "0.10606016163902356 [Z1 Z3] +\n",
      "0.13600689568262744 [Z1 Z4] +\n",
      "0.10606016163902371 [Z1 Z5] +\n",
      "0.14836407229820783 [Z1 Z6] +\n",
      "0.12295464996510758 [Z1 Z7] +\n",
      "0.1315010012236399 [Z1 Z8] +\n",
      "0.10855121194291711 [Z1 Z9] +\n",
      "0.1361048441712333 [Z1 Z10] +\n",
      "0.7684575395870025 [Z2] +\n",
      "0.14032184811826026 [Z2 Z3] +\n",
      "0.10748692518481208 [Z2 Z4] +\n",
      "0.1184318994959615 [Z2 Z5] +\n",
      "0.12437215825428029 [Z2 Z6] +\n",
      "0.1317710854197905 [Z2 Z7] +\n",
      "0.10788739359761274 [Z2 Z8] +\n",
      "0.12231181049825235 [Z2 Z9] +\n",
      "0.10428256107393331 [Z2 Z10] +\n",
      "0.7684575395870028 [Z3] +\n",
      "0.1184318994959615 [Z3 Z4] +\n",
      "0.10748692518481208 [Z3 Z5] +\n",
      "0.1317710854197905 [Z3 Z6] +\n",
      "0.12437215825428029 [Z3 Z7] +\n",
      "0.12231181049825235 [Z3 Z8] +\n",
      "0.10788739359761274 [Z3 Z9] +\n",
      "0.13752213816197936 [Z3 Z10] +\n",
      "0.7684575395870024 [Z4] +\n",
      "0.14032184811826062 [Z4 Z5] +\n",
      "0.12437215825428045 [Z4 Z6] +\n",
      "0.13177108541979063 [Z4 Z7] +\n",
      "0.1078873935976128 [Z4 Z8] +\n",
      "0.1223118104982524 [Z4 Z9] +\n",
      "0.11102398029714644 [Z4 Z10] +\n",
      "0.7684575395870024 [Z5] +\n",
      "0.13177108541979063 [Z5 Z6] +\n",
      "0.12437215825428045 [Z5 Z7] +\n",
      "0.1223118104982524 [Z5 Z8] +\n",
      "0.1078873935976128 [Z5 Z9] +\n",
      "0.12056645866274934 [Z5 Z10] +\n",
      "0.8371756137257447 [Z6] +\n",
      "0.1870175906636923 [Z6 Z7] +\n",
      "0.11062609262763151 [Z6 Z8] +\n",
      "0.12012285922207956 [Z6 Z9] +\n",
      "0.12741053974136957 [Z6 Z10] +\n",
      "0.8371756137257456 [Z7] +\n",
      "0.12012285922207956 [Z7 Z8] +\n",
      "0.11062609262763151 [Z7 Z9] +\n",
      "0.137914597207224 [Z7 Z10] +\n",
      "0.42917149241188013 [Z8] +\n",
      "0.12916580118935214 [Z8 Z9] +\n",
      "0.0986286546536452 [Z8 Z10] +\n",
      "0.42917149241188013 [Z9] +\n",
      "0.12358230127755765 [Z9 Z10] +\n",
      "0.4569832446599608 [Z10] +\n",
      "-6.304223276335732e-05 [Z12]\n",
      "\n",
      "\n",
      "First z unitary\n",
      "0.24999999999999992 [Y0 Y11 X12 X13] +\n",
      "0.24999999999999992 [Y0 Y11 X12 Z13] +\n",
      "0.24999999999999992 [Y0 Y11 Z12 X13] +\n",
      "0.24999999999999992 [Y0 Y11 Z12 Z13] +\n",
      "0.24999999999999992 [Y0 Z11 X12 X13] +\n",
      "0.24999999999999992 [Y0 Z11 X12 Z13] +\n",
      "0.24999999999999992 [Y0 Z11 Z12 X13] +\n",
      "0.24999999999999992 [Y0 Z11 Z12 Z13] +\n",
      "0.24999999999999992 [Z0 Y11 X12 X13] +\n",
      "0.24999999999999992 [Z0 Y11 X12 Z13] +\n",
      "0.24999999999999992 [Z0 Y11 Z12 X13] +\n",
      "0.24999999999999992 [Z0 Y11 Z12 Z13] +\n",
      "0.24999999999999992 [Z0 Z11 X12 X13] +\n",
      "0.24999999999999992 [Z0 Z11 X12 Z13] +\n",
      "0.24999999999999992 [Z0 Z11 Z12 X13] +\n",
      "0.24999999999999992 [Z0 Z11 Z12 Z13]\n"
     ]
    }
   ],
   "source": [
    "mcalc = MeasurementUnitaryGenerator('nh3', apply_uzs=True)\n",
    "print('\\n')\n",
    "print('First QWC group')\n",
    "print(mcalc.qwc_groups[1])\n",
    "print('\\n')\n",
    "print('First Z group')\n",
    "print(mcalc.z_groups[1])\n",
    "print('\\n')\n",
    "print('First z unitary')\n",
    "print(mcalc.uzs[1])"
   ]
  },
  {
   "cell_type": "markdown",
   "metadata": {},
   "source": [
    "## N<sub>2</sub>\n",
    "Skip getting commuting groups as these steps are intractable. Skip straight ahead to getting QWC groups.\n",
    "\n",
    "Warning: to save time you might want to skip applying the z-basis transformations with `apply_uzs=False`"
   ]
  },
  {
   "cell_type": "code",
   "execution_count": 18,
   "metadata": {
    "scrolled": false
   },
   "outputs": [
    {
     "name": "stdout",
     "output_type": "stream",
     "text": [
      "1) Initialise the molecule object in a given basis and with a provided mapping\n",
      "\t20 orbitals\n",
      "2) Optionally apply tapering\n",
      "\t16 orbitals\n",
      "More than 8 orbitals: skipping steps 3), 4) and 5) and directly getting qwc groups\n",
      "\t680 QWC groups, a 4.34 x reduction from 2951 terms\n",
      "6) Get unitaries for rotating everything to the measurable z-basis\n"
     ]
    },
    {
     "data": {
      "application/vnd.jupyter.widget-view+json": {
       "model_id": "975378b0387f43e5a4a201fb5f831030",
       "version_major": 2,
       "version_minor": 0
      },
      "text/plain": [
       "HBox(children=(FloatProgress(value=0.0, max=680.0), HTML(value='')))"
      ]
     },
     "metadata": {},
     "output_type": "display_data"
    },
    {
     "name": "stdout",
     "output_type": "stream",
     "text": [
      "\n",
      "7) Finally, apply latter unitaries to move all qwc groups to z-basis\n"
     ]
    },
    {
     "data": {
      "application/vnd.jupyter.widget-view+json": {
       "model_id": "acd6d33280d94f2c9455b94f97963c44",
       "version_major": 2,
       "version_minor": 0
      },
      "text/plain": [
       "HBox(children=(FloatProgress(value=0.0, max=680.0), HTML(value='')))"
      ]
     },
     "metadata": {},
     "output_type": "display_data"
    },
    {
     "name": "stdout",
     "output_type": "stream",
     "text": [
      "\n",
      "\n",
      "\n",
      "First QWC group\n",
      "-66.82850881574544 [] +\n",
      "9.563301651472461 [Z0] +\n",
      "-8.745925056048934e-05 [Z0 X1 Y7 Z8 Z9 Z10 Z11 Z12 Y13] +\n",
      "0.04758098481143379 [Z0 X1 X14 Z15] +\n",
      "0.18023887084369627 [Z0 Z2] +\n",
      "-0.005824718860252173 [Z0 Z2 Z3 Z4 Z5 Z6 X14] +\n",
      "0.003212498244432343 [Z0 Z2 Z4 Z6 Y7 Z8 Z10 Z12 Y13 Z15] +\n",
      "-0.16818202264181578 [Z0 Z2 Z4 Z6 Z8 Z10 Z12 Z15] +\n",
      "0.16494698146964537 [Z0 Z3] +\n",
      "0.1574850800510944 [Z0 Z4] +\n",
      "0.16839241530030746 [Z0 Z5] +\n",
      "0.1650909592962415 [Z0 Z6] +\n",
      "0.1681931653702476 [Z0 Z8] +\n",
      "0.1658266762913248 [Z0 Z9] +\n",
      "0.17749543250218083 [Z0 Z10] +\n",
      "0.17403023288530975 [Z0 Z11] +\n",
      "0.17749543250218075 [Z0 Z12] +\n",
      "0.20707041559534994 [Z0 Z15] +\n",
      "0.0011148794780630508 [X1 Z2 Z3 Z4 Z5 Z6 Y7 Z8 Z9 Z10 Z11 Z12 Y13 X14] +\n",
      "-0.0032834895171798494 [X1 Z2 Z3 Z4 Z5 Z6 Z15] +\n",
      "1.7411017750776425 [Z2] +\n",
      "0.12590654018141012 [Z2 Z3] +\n",
      "0.10809968817868348 [Z2 Z4] +\n",
      "0.13333369645075033 [Z2 Z5] +\n",
      "0.11882440493025873 [Z2 Z6] +\n",
      "0.148444898668402 [Z2 Z8] +\n",
      "0.12379026212730872 [Z2 Z9] +\n",
      "0.14445795674212672 [Z2 Z10] +\n",
      "0.13262916427709556 [Z2 Z11] +\n",
      "0.1444579567421267 [Z2 Z12] +\n",
      "0.14797296183421868 [Z2 Z15] +\n",
      "1.3313371241536993 [Z3] +\n",
      "0.1336170280522893 [Z3 Z4] +\n",
      "0.08396916102358346 [Z3 Z5] +\n",
      "0.13638793070398741 [Z3 Z6] +\n",
      "0.11248279279565485 [Z3 Z8] +\n",
      "0.12601015218312328 [Z3 Z9] +\n",
      "0.11105912490565026 [Z3 Z10] +\n",
      "0.13166237151770085 [Z3 Z11] +\n",
      "0.1110591249056502 [Z3 Z12] +\n",
      "0.13723434989805958 [Z3 Z15] +\n",
      "1.3313371241536995 [Z4] +\n",
      "0.13638793070398741 [Z4 Z5] +\n",
      "0.08396916102358346 [Z4 Z6] +\n",
      "0.12601015218312328 [Z4 Z8] +\n",
      "0.11248279279565485 [Z4 Z9] +\n",
      "0.13166237151770085 [Z4 Z10] +\n",
      "0.11105912490565026 [Z4 Z11] +\n",
      "0.1316623715177008 [Z4 Z12] +\n",
      "0.12440449361388004 [Z4 Z15] +\n",
      "1.2583510205077564 [Z5] +\n",
      "0.14388431187801548 [Z5 Z6] +\n",
      "0.12074167445547807 [Z5 Z8] +\n",
      "0.12764410360047673 [Z5 Z9] +\n",
      "0.12360128787520157 [Z5 Z10] +\n",
      "0.13243499713088064 [Z5 Z11] +\n",
      "0.12360128787520153 [Z5 Z12] +\n",
      "0.14621556928910764 [Z5 Z15] +\n",
      "1.2583510205077566 [Z6] +\n",
      "0.12764410360047673 [Z6 Z8] +\n",
      "0.12074167445547807 [Z6 Z9] +\n",
      "0.13243499713088064 [Z6 Z10] +\n",
      "0.12360128787520157 [Z6 Z11] +\n",
      "0.13243499713088058 [Z6 Z12] +\n",
      "0.12018492681834589 [Z6 Z15] +\n",
      "0.00010259120667392542 [Y7 Z8 Z9 Z10 Z11 Z12 Y13 X14 Z15] +\n",
      "1.290508914729879 [Z8] +\n",
      "0.14315242153137053 [Z8 Z9] +\n",
      "0.12759034578302728 [Z8 Z10] +\n",
      "0.13248696242710284 [Z8 Z11] +\n",
      "0.09455701550542879 [Z8 Z12] +\n",
      "0.150589775548054 [Z8 Z15] +\n",
      "1.290508914729879 [Z9] +\n",
      "0.13248696242710284 [Z9 Z10] +\n",
      "0.12759034578302728 [Z9 Z11] +\n",
      "0.14365562670660303 [Z9 Z12] +\n",
      "0.14220248848494507 [Z9 Z15] +\n",
      "1.153973278757323 [Z10] +\n",
      "0.14776717897087943 [Z10 Z11] +\n",
      "0.1294270600560468 [Z10 Z12] +\n",
      "0.15108451817956808 [Z10 Z15] +\n",
      "1.1539732787573234 [Z11] +\n",
      "0.13554043302765764 [Z11 Z12] +\n",
      "0.1402170983237295 [Z11 Z15] +\n",
      "1.1539732787573211 [Z12] +\n",
      "0.15108451817956803 [Z12 Z15] +\n",
      "1.0590587331244947 [Z15]\n",
      "\n",
      "\n",
      "First Z group\n",
      "-66.8285088157454 [] +\n",
      "9.563301651472454 [Z0] +\n",
      "-8.745925056048927e-05 [Z0 Z1 Z7 Z8 Z9 Z10 Z11 Z12 Z13] +\n",
      "0.04758098481143377 [Z0 Z1 Z14 Z15] +\n",
      "0.1802388708436961 [Z0 Z2] +\n",
      "-0.0058247188602521685 [Z0 Z2 Z3 Z4 Z5 Z6 Z14] +\n",
      "0.003212498244432342 [Z0 Z2 Z4 Z6 Z7 Z8 Z10 Z12 Z13 Z15] +\n",
      "-0.16818202264181567 [Z0 Z2 Z4 Z6 Z8 Z10 Z12 Z15] +\n",
      "0.1649469814696452 [Z0 Z3] +\n",
      "0.15748508005109424 [Z0 Z4] +\n",
      "0.16839241530030735 [Z0 Z5] +\n",
      "0.16509095929624135 [Z0 Z6] +\n",
      "0.16819316537024745 [Z0 Z8] +\n",
      "0.16582667629132472 [Z0 Z9] +\n",
      "0.17749543250218072 [Z0 Z10] +\n",
      "0.1740302328853097 [Z0 Z11] +\n",
      "0.17749543250218067 [Z0 Z12] +\n",
      "0.2070704155953499 [Z0 Z15] +\n",
      "0.00111487947806305 [Z1 Z2 Z3 Z4 Z5 Z6 Z7 Z8 Z9 Z10 Z11 Z12 Z13 Z14] +\n",
      "-0.0032834895171798477 [Z1 Z2 Z3 Z4 Z5 Z6 Z15] +\n",
      "1.7411017750776414 [Z2] +\n",
      "0.12590654018140995 [Z2 Z3] +\n",
      "0.10809968817868337 [Z2 Z4] +\n",
      "0.13333369645075027 [Z2 Z5] +\n",
      "0.11882440493025868 [Z2 Z6] +\n",
      "0.1484448986684019 [Z2 Z8] +\n",
      "0.1237902621273086 [Z2 Z9] +\n",
      "0.1444579567421266 [Z2 Z10] +\n",
      "0.13262916427709542 [Z2 Z11] +\n",
      "0.14445795674212653 [Z2 Z12] +\n",
      "0.14797296183421857 [Z2 Z15] +\n",
      "1.3313371241536984 [Z3] +\n",
      "0.13361702805228923 [Z3 Z4] +\n",
      "0.08396916102358339 [Z3 Z5] +\n",
      "0.13638793070398728 [Z3 Z6] +\n",
      "0.11248279279565482 [Z3 Z8] +\n",
      "0.12601015218312317 [Z3 Z9] +\n",
      "0.1110591249056502 [Z3 Z10] +\n",
      "0.13166237151770074 [Z3 Z11] +\n",
      "0.11105912490565008 [Z3 Z12] +\n",
      "0.13723434989805947 [Z3 Z15] +\n",
      "1.3313371241536986 [Z4] +\n",
      "0.13638793070398728 [Z4 Z5] +\n",
      "0.08396916102358339 [Z4 Z6] +\n",
      "0.12601015218312317 [Z4 Z8] +\n",
      "0.11248279279565482 [Z4 Z9] +\n",
      "0.13166237151770074 [Z4 Z10] +\n",
      "0.1110591249056502 [Z4 Z11] +\n",
      "0.13166237151770072 [Z4 Z12] +\n",
      "0.12440449361387995 [Z4 Z15] +\n",
      "1.2583510205077555 [Z5] +\n",
      "0.14388431187801534 [Z5 Z6] +\n",
      "0.12074167445547795 [Z5 Z8] +\n",
      "0.12764410360047668 [Z5 Z9] +\n",
      "0.12360128787520151 [Z5 Z10] +\n",
      "0.1324349971308805 [Z5 Z11] +\n",
      "0.12360128787520147 [Z5 Z12] +\n",
      "0.14621556928910756 [Z5 Z15] +\n",
      "1.2583510205077562 [Z6] +\n",
      "0.12764410360047668 [Z6 Z8] +\n",
      "0.12074167445547795 [Z6 Z9] +\n",
      "0.1324349971308805 [Z6 Z10] +\n",
      "0.12360128787520151 [Z6 Z11] +\n",
      "0.13243499713088047 [Z6 Z12] +\n",
      "0.12018492681834575 [Z6 Z15] +\n",
      "0.00010259120667392534 [Z7 Z8 Z9 Z10 Z11 Z12 Z13 Z14 Z15] +\n",
      "1.290508914729878 [Z8] +\n",
      "0.14315242153137042 [Z8 Z9] +\n",
      "0.12759034578302716 [Z8 Z10] +\n",
      "0.13248696242710276 [Z8 Z11] +\n",
      "0.09455701550542873 [Z8 Z12] +\n",
      "0.1505897755480539 [Z8 Z15] +\n",
      "1.290508914729878 [Z9] +\n",
      "0.13248696242710276 [Z9 Z10] +\n",
      "0.12759034578302716 [Z9 Z11] +\n",
      "0.14365562670660292 [Z9 Z12] +\n",
      "0.14220248848494493 [Z9 Z15] +\n",
      "1.1539732787573223 [Z10] +\n",
      "0.14776717897087938 [Z10 Z11] +\n",
      "0.1294270600560467 [Z10 Z12] +\n",
      "0.15108451817956797 [Z10 Z15] +\n",
      "1.1539732787573225 [Z11] +\n",
      "0.13554043302765753 [Z11 Z12] +\n",
      "0.1402170983237294 [Z11 Z15] +\n",
      "1.1539732787573203 [Z12] +\n",
      "0.15108451817956792 [Z12 Z15] +\n",
      "1.0590587331244943 [Z15]\n",
      "\n",
      "\n",
      "First z unitary\n",
      "0.24999999999999992 [X1 Y7 Y13 X14] +\n",
      "0.24999999999999992 [X1 Y7 Y13 Z14] +\n",
      "0.24999999999999992 [X1 Y7 Z13 X14] +\n",
      "0.24999999999999992 [X1 Y7 Z13 Z14] +\n",
      "0.24999999999999992 [X1 Z7 Y13 X14] +\n",
      "0.24999999999999992 [X1 Z7 Y13 Z14] +\n",
      "0.24999999999999992 [X1 Z7 Z13 X14] +\n",
      "0.24999999999999992 [X1 Z7 Z13 Z14] +\n",
      "0.24999999999999992 [Z1 Y7 Y13 X14] +\n",
      "0.24999999999999992 [Z1 Y7 Y13 Z14] +\n",
      "0.24999999999999992 [Z1 Y7 Z13 X14] +\n",
      "0.24999999999999992 [Z1 Y7 Z13 Z14] +\n",
      "0.24999999999999992 [Z1 Z7 Y13 X14] +\n",
      "0.24999999999999992 [Z1 Z7 Y13 Z14] +\n",
      "0.24999999999999992 [Z1 Z7 Z13 X14] +\n",
      "0.24999999999999992 [Z1 Z7 Z13 Z14]\n"
     ]
    }
   ],
   "source": [
    "mcalc = MeasurementUnitaryGenerator('n2', apply_uzs=True)\n",
    "print('\\n')\n",
    "print('First QWC group')\n",
    "print(mcalc.qwc_groups[1])\n",
    "print('\\n')\n",
    "print('First Z group')\n",
    "print(mcalc.z_groups[1])\n",
    "print('\\n')\n",
    "print('First z unitary')\n",
    "print(mcalc.uzs[1])"
   ]
  },
  {
   "cell_type": "code",
   "execution_count": 130,
   "metadata": {
    "scrolled": false
   },
   "outputs": [
    {
     "name": "stdout",
     "output_type": "stream",
     "text": [
      "9\n"
     ]
    },
    {
     "data": {
      "application/vnd.jupyter.widget-view+json": {
       "model_id": "",
       "version_major": 2,
       "version_minor": 0
      },
      "text/plain": [
       "HBox(children=(FloatProgress(value=0.0, max=914.0), HTML(value='')))"
      ]
     },
     "metadata": {},
     "output_type": "display_data"
    },
    {
     "name": "stdout",
     "output_type": "stream",
     "text": [
      "\n",
      "(1024, 1024)\n",
      "\n",
      "The eigenvalues in the effective Hamiltonian: \n",
      " [-93.26860559 -93.26860559 -93.26754809 ...  -5.52744095  -5.52686937\n",
      "  -5.52686937]\n"
     ]
    }
   ],
   "source": [
    "from functools import reduce\n",
    "\n",
    "# Identity \n",
    "I = np.asarray([[1.,0.],[0.,1.]])\n",
    "# Pauli X\n",
    "X = np.asarray([[0.,1.],[1.,0.]])\n",
    "# Pauli Y\n",
    "Y = np.asarray([[0.,-1j],[1j,0.]])\n",
    "# Pauli Z\n",
    "Z = np.asarray([[1, 0], [0, -1]])\n",
    "\n",
    "def operatorfromstring(pauli_string, max_orbitals):\n",
    "    \"\"\"\n",
    "    Generate a many-body operator from a list of single-qubit \n",
    "    pauli matrices.\n",
    "    ---------------------------------------------------------\n",
    "    Input    pauli_string: str , (ex: [X,Z,X,Y,...])\n",
    "    \n",
    "    Output   pauli_op: np.array, shape = [2**N,2**N]\n",
    "    \"\"\"\n",
    "    op_list = []\n",
    "    eye_num = 0\n",
    "    \n",
    "    for k in range(len(pauli_string)):\n",
    "        if (pauli_string[k][1] == 'X'):\n",
    "            op_list.append(X)\n",
    "        elif (pauli_string[k][1] == 'Y'):\n",
    "            op_list.append(Y)\n",
    "        elif (pauli_string[k][1] == 'Z'):\n",
    "            op_list.append(Z)\n",
    "        else:\n",
    "            op_list.append(I)\n",
    "            \n",
    "    if not op_list:\n",
    "            op_list.append(I)\n",
    "            \n",
    "    if len(op_list) < max_orbitals:\n",
    "        eye_num = max_orbitals - len(op_list)\n",
    "        for e in range(eye_num):\n",
    "            op_list.append(I)         \n",
    "\n",
    "    return reduce(np.kron,op_list)\n",
    "\n",
    "def hamiltonianQ(pauli_list, interactions, max_orbitals):\n",
    "    \"\"\"\n",
    "    Generate a many-body hamiltonian\n",
    "    ---------------------------------------------------------\n",
    "    Input    pauli_list: list of pauli strings\n",
    "             interactions: list of interaction strengths\n",
    "    \n",
    "    Output   hamiltonian: np.array, shape = [2**N,2**N]\n",
    "    \"\"\"\n",
    "    N = max_orbitals\n",
    "    hamiltonian = np.zeros((1<<N,1<<N),dtype=complex)\n",
    "    for i,pauli in tqdm(enumerate(pauli_list), total=len(pauli_list)):\n",
    "        hamiltonian += interactions[i]*operatorfromstring(pauli, N)\n",
    "    return hamiltonian\n",
    "\n",
    "def eigensolve(hamiltonian):\n",
    "    \"\"\"\n",
    "    Compute ground state energy and wavefunction\n",
    "    \"\"\"\n",
    "    (eigenvalues,eigenstates) = np.linalg.eigh(hamiltonian)\n",
    "    return eigenvalues[0],eigenstates[:,0]\n",
    "\n",
    "\n",
    "pauli_list = []\n",
    "interaction_list = []\n",
    "max_orbitals = 0\n",
    "#Generate pauli operations list and coefficient list(interactions)\n",
    "for pauli, interaction in trunc_hamq.terms.items():\n",
    "    pauli_list.append(pauli)\n",
    "    interaction_list.append(interaction)\n",
    "\n",
    "#Identify Number Max Oribitals    \n",
    "for x in list(trunc_hamq.terms.keys()):\n",
    "    _max = 0\n",
    "    for y in x:\n",
    "        if y[0] > _max:\n",
    "            _max = y[0]\n",
    "max_orbitals = _max + 1\n",
    "print(max_orbitals)\n",
    "\n",
    "h2_matrix = hamiltonianQ(pauli_list, interaction_list, 10)\n",
    "print(h2_matrix.shape)\n",
    "# Obtain the eigenvalues\n",
    "eigvals, _ = np.linalg.eigh(h2_matrix)\n",
    "\n",
    "print(\"\\nThe eigenvalues in the effective Hamiltonian: \\n {}\".format(eigvals))"
   ]
  },
  {
   "cell_type": "markdown",
   "metadata": {},
   "source": [
    "## Demonstration of SVD truncation with H<sub>2</sub>O\n",
    "The truncation allows as to apply FC partitioning in a reasonable amount of time (if we are to store the result for later use). This was not possible without SVD truncation."
   ]
  },
  {
   "cell_type": "code",
   "execution_count": 7,
   "metadata": {},
   "outputs": [
    {
     "name": "stdout",
     "output_type": "stream",
     "text": [
      "1) Initialise the molecule object in a given basis and with a provided mapping\n",
      "\t14 orbitals\n",
      "1.5) Applying (experimental) SVD truncation\n",
      "\t Reduced number of terms from 1086 to 726\n",
      "2) Optionally apply tapering\n",
      "\t8 orbitals\n",
      "3) Get commuting groups\n",
      "\t25 commuting groups, a 18.20 x reduction from 455 terms\n",
      "4) For each commuting group get the unitary for transforming to qwc\n"
     ]
    },
    {
     "data": {
      "application/vnd.jupyter.widget-view+json": {
       "model_id": "28840f77af3140868d068d747af5c33f",
       "version_major": 2,
       "version_minor": 0
      },
      "text/plain": [
       "HBox(children=(FloatProgress(value=0.0, max=25.0), HTML(value='')))"
      ]
     },
     "metadata": {},
     "output_type": "display_data"
    },
    {
     "name": "stdout",
     "output_type": "stream",
     "text": [
      "\n",
      "5) Apply unitaries to get the qwcs\n"
     ]
    },
    {
     "data": {
      "application/vnd.jupyter.widget-view+json": {
       "model_id": "f047b657d7ad47aba15224379c628432",
       "version_major": 2,
       "version_minor": 0
      },
      "text/plain": [
       "HBox(children=(FloatProgress(value=0.0, max=25.0), HTML(value='')))"
      ]
     },
     "metadata": {},
     "output_type": "display_data"
    },
    {
     "name": "stdout",
     "output_type": "stream",
     "text": [
      "\n",
      "6) Get unitaries for rotating everything to the measurable z-basis\n"
     ]
    },
    {
     "data": {
      "application/vnd.jupyter.widget-view+json": {
       "model_id": "ea3f6ee96f4b4fdfa4caadcc0a53924c",
       "version_major": 2,
       "version_minor": 0
      },
      "text/plain": [
       "HBox(children=(FloatProgress(value=0.0, max=25.0), HTML(value='')))"
      ]
     },
     "metadata": {},
     "output_type": "display_data"
    },
    {
     "name": "stdout",
     "output_type": "stream",
     "text": [
      "\n",
      "7) Finally, apply latter unitaries to move all qwc groups to z-basis\n"
     ]
    },
    {
     "data": {
      "application/vnd.jupyter.widget-view+json": {
       "model_id": "8c6dd80f975e4d23baaae6cacb0b1703",
       "version_major": 2,
       "version_minor": 0
      },
      "text/plain": [
       "HBox(children=(FloatProgress(value=0.0, max=25.0), HTML(value='')))"
      ]
     },
     "metadata": {},
     "output_type": "display_data"
    },
    {
     "name": "stdout",
     "output_type": "stream",
     "text": [
      "\n",
      "\n",
      "\n",
      "First QWC group\n",
      "-49.92467561227807 [] +\n",
      "0.007534638979133925 [Z0 Z1 Z2 Z5] +\n",
      "-0.0038778906914301637 [Z0 Z1 Z5 X6] +\n",
      "0.0023979598531481024 [Z0 Z2 Z3] +\n",
      "0.005620334803878947 [Z0 Z3 X6] +\n",
      "-0.0023979598531481024 [Z1 Z2 Z3] +\n",
      "0.014344949913924435 [Z1 Z2 Z3 Z4 X6] +\n",
      "-0.0009814622557134092 [Z1 Z2 Z5] +\n",
      "0.001872841184818052 [Z1 Z3 Z4] +\n",
      "0.0065378272498456975 [Z1 Z3 X6] +\n",
      "-0.019146086763794822 [Z1 Z5 X6] +\n",
      "-0.002800230165301063 [Z2 Z3] +\n",
      "-0.0019902586634875687 [Z2 Z4 Z5 X6] +\n",
      "0.0027628364944506764 [Z2 Z5] +\n",
      "0.00790494860459345 [Z2 X6] +\n",
      "-0.004124245319122281 [Z3 X6] +\n",
      "-0.0037931595150485224 [Z4 Z5] +\n",
      "0.0010472411329209544 [Z5 X6] +\n",
      "0.0006621069555075297 [X6] +\n",
      "0.12871675695493404 [X6 Z7]\n",
      "\n",
      "\n",
      "First Z group\n",
      "-49.924675612278065 [] +\n",
      "0.007534638979133923 [Z0 Z1 Z2 Z5] +\n",
      "-0.003877890691430163 [Z0 Z1 Z5 Z6] +\n",
      "0.002397959853148102 [Z0 Z2 Z3] +\n",
      "0.005620334803878946 [Z0 Z3 Z6] +\n",
      "-0.002397959853148102 [Z1 Z2 Z3] +\n",
      "0.014344949913924434 [Z1 Z2 Z3 Z4 Z6] +\n",
      "-0.000981462255713409 [Z1 Z2 Z5] +\n",
      "0.0018728411848180516 [Z1 Z3 Z4] +\n",
      "0.006537827249845696 [Z1 Z3 Z6] +\n",
      "-0.01914608676379482 [Z1 Z5 Z6] +\n",
      "-0.0028002301653010627 [Z2 Z3] +\n",
      "-0.0019902586634875682 [Z2 Z4 Z5 Z6] +\n",
      "0.0027628364944506756 [Z2 Z5] +\n",
      "0.007904948604593448 [Z2 Z6] +\n",
      "-0.00412424531912228 [Z3 Z6] +\n",
      "-0.003793159515048522 [Z4 Z5] +\n",
      "0.0010472411329209542 [Z5 Z6] +\n",
      "0.0006621069555075296 [Z6] +\n",
      "0.128716756954934 [Z6 Z7]\n",
      "\n",
      "\n",
      "First z unitary\n",
      "0.7071067811865475 [X6] +\n",
      "0.7071067811865475 [Z6]\n"
     ]
    }
   ],
   "source": [
    "mcalc = MeasurementUnitaryGenerator('h2o', apply_uzs=True, svd_truncation_thresh=50)\n",
    "print('\\n')\n",
    "print('First QWC group')\n",
    "print(mcalc.qwc_groups[1])\n",
    "print('\\n')\n",
    "print('First Z group')\n",
    "print(mcalc.z_groups[1])\n",
    "print('\\n')\n",
    "print('First z unitary')\n",
    "print(mcalc.uzs[1])"
   ]
  },
  {
   "cell_type": "code",
   "execution_count": null,
   "metadata": {},
   "outputs": [],
   "source": []
  }
 ],
 "metadata": {
  "kernelspec": {
   "display_name": "Python 3",
   "language": "python",
   "name": "python3"
  },
  "language_info": {
   "codemirror_mode": {
    "name": "ipython",
    "version": 3
   },
   "file_extension": ".py",
   "mimetype": "text/x-python",
   "name": "python",
   "nbconvert_exporter": "python",
   "pygments_lexer": "ipython3",
   "version": "3.7.1"
  }
 },
 "nbformat": 4,
 "nbformat_minor": 2
}
