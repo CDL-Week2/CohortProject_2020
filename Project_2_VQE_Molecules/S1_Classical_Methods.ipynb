{
 "cells": [
  {
   "cell_type": "markdown",
   "metadata": {},
   "source": [
    "# Review of classical electronic structure methods \n",
    "\n",
    "In order to assess the performance of quantum computing algorithms in addressing the electronic structure problem, we will briefly review a few commonly employed classical electronic structure methods of varying level of approximation. \n",
    "\n",
    "## Hartree-Fock\n",
    "\n",
    "The Hartree-Fock (HF) method employs a **mean-field approximation**, where Coulomb correlation of electrons is neglected. The HF wavefunction is hence restricted to the form of a single Slater determinant, for which the optimal form may be acquired by an optimization of the underlying single particle basis (orbitals). Once the optimal HF orbitals have been found, the HF state may be written as \n",
    "\n",
    "$$ | \\text{HF} \\rangle = \\prod_{p \\in \\text{occ}} \\hat a^\\dagger_p | \\text{vac} \\rangle $$\n",
    "\n",
    "where $\\hat a^\\dagger_p$ creates an electron in the $p^{\\rm{th}}$ optimized HF spin orbital, and  $| \\text{vac} \\rangle$ is the vacuum state (all spin-orbitals unoccupied). Due to the restriction to a single Slater determinant, the HF energy may be obtained very efficiently and can be applied to very large molecules, however it becomes qualitatively incorrect when **electronic correlations** become sufficiently strong. The HF wavefunction is often used as a starting point in more accurate treatments of electronic correlation. \n",
    "\n",
    "## Coupled cluster\n",
    "\n",
    "The Coupled cluster (CC) method introduces electronic correlation to the wavefunction ansatz by operating on the HF reference state with the exponential of excitation operators\n",
    "\n",
    "$$|\\text{CC} \\rangle = e^{\\hat T} | \\text{HF}\\rangle, \\quad \\hat T = \\hat T_1 + \\hat T_2 + ...$$\n",
    "\n",
    "where $\\hat T_1 = \\sum_{ia} t^{a}_i \\hat a^\\dagger_a \\hat a_i$ are referred to as 'singles', $\\hat T_2 = \\sum_{ijab} t^{ab}_{ij} \\hat a^\\dagger_a \\hat a^\\dagger_b \\hat a_i \\hat a_j$ as 'doubles', etc. When the excitation rank is truncated to only singles (S) and doubles (D), $\\hat T = \\hat T_1 + \\hat T_2$, the corresponding ansatz is referred to as CCSD. Since the number of possible single and double excitations for a system of $N$ electrons in $M$ orbitals is polynomial in $M$, one can efficiently solve a system of equations to obtain the optimized CCSD amplitudes. CCSD often gives accurate energies and can be applied to modestly sized chemical systems. However, due to its implementation, it can **violate the variational principle** and give energies lower than the ground state.\n",
    "\n",
    "## Full Configuration Interaction\n",
    "The full configuration interaction (FCI) method yields the **exact ground state energy** within a given basis set. The FCI wavefunction is written as a linear combination of all possible $N$-particle Slater determinants over the orbital basis\n",
    "$$|\\text{FCI} \\rangle =  \\left( \\sum_{ia} C^{a}_i \\hat a^\\dagger_a \\hat a_i + \\sum_{ijab} C^{ab}_{ij} \\hat a^\\dagger_a \\hat a^\\dagger_b \\hat a_i \\hat a_j + ...  \\right) | \\text{HF} \\rangle $$\n",
    "where the sum includes up to $N$-electron excitations, and hence there are an exponential number of coefficients to optimize in $| \\text{FCI} \\rangle$. Due to its **exponential complexity**, FCI is often reserved for only the smallest chemical systems. However, it serves as a useful result to compare to when assessing tractable electronic structure methods."
   ]
  },
  {
   "cell_type": "markdown",
   "metadata": {},
   "source": [
    "# Benchmarking for electronic PESs in minimal basis (STO-3G)\n",
    "\n",
    "We will apply HF, CCSD, and FCI to obtaining the PESs for a few molecular dissociation processes in minimal (STO-3G) basis."
   ]
  },
  {
   "cell_type": "code",
   "execution_count": 1,
   "metadata": {},
   "outputs": [],
   "source": [
    "import numpy as np\n",
    "import matplotlib.pyplot as plt\n",
    "from utility import get_molecular_data, obtain_PES\n",
    "\n",
    "basis = 'sto-3g'"
   ]
  },
  {
   "cell_type": "markdown",
   "metadata": {},
   "source": [
    "## H<sub>2</sub>"
   ]
  },
  {
   "cell_type": "code",
   "execution_count": 2,
   "metadata": {},
   "outputs": [],
   "source": [
    "bond_lengths = np.linspace(0.2,2.6,15)"
   ]
  },
  {
   "cell_type": "code",
   "execution_count": 3,
   "metadata": {},
   "outputs": [
    {
     "name": "stdout",
     "output_type": "stream",
     "text": [
      "E = 0.15748213365503272 Eh\n",
      "E = -0.8488991062024303 Eh\n",
      "E = -1.0882281844069168 Eh\n",
      "E = -1.136928959400571 Eh\n",
      "E = -1.1229570527982327 Eh\n",
      "E = -1.0887645364963472 Eh\n",
      "E = -1.050442037218747 Eh\n",
      "E = -1.0154682491653277 Eh\n",
      "E = -0.987392996293216 Eh\n",
      "E = -0.9670259116093083 Eh\n",
      "E = -0.9534242125062942 Eh\n",
      "E = -0.9449089870950516 Eh\n",
      "E = -0.9398197912188275 Eh\n",
      "E = -0.9368706035283361 Eh\n",
      "E = -0.9351960308386078 Eh\n"
     ]
    }
   ],
   "source": [
    "#Run FCI\n",
    "FCI_PES = obtain_PES('h2', bond_lengths, basis, method='fci')"
   ]
  },
  {
   "cell_type": "code",
   "execution_count": 4,
   "metadata": {},
   "outputs": [
    {
     "name": "stdout",
     "output_type": "stream",
     "text": [
      "E = 0.16412595411335862 Eh\n",
      "E = -0.8397057843499789 Eh\n",
      "E = -1.074887931719117 Eh\n",
      "E = -1.1175258568986912 Eh\n",
      "E = -1.0951595815644795 Eh\n",
      "E = -1.0495617842752072 Eh\n",
      "E = -0.9960202460350677 Eh\n",
      "E = -0.9415475409906814 Eh\n",
      "E = -0.8899750208893146 Eh\n",
      "E = -0.8432718025417755 Eh\n",
      "E = -0.8022428650141384 Eh\n",
      "E = -0.7669825247359998 Eh\n",
      "E = -0.7371545448988288 Eh\n",
      "E = -0.7121961606082431 Eh\n",
      "E = -0.6914700512624794 Eh\n"
     ]
    }
   ],
   "source": [
    "#Run HF\n",
    "HF_PES = obtain_PES('h2', bond_lengths, basis,  method='hf')"
   ]
  },
  {
   "cell_type": "code",
   "execution_count": 5,
   "metadata": {},
   "outputs": [
    {
     "name": "stdout",
     "output_type": "stream",
     "text": [
      "E = 0.15748412056436217 Eh\n",
      "E = -0.8488985094851161 Eh\n",
      "E = -1.0882310174307857 Eh\n",
      "E = -1.1369333351418656 Eh\n",
      "E = -1.1229593878059763 Eh\n",
      "E = -1.0887606905920533 Eh\n",
      "E = -1.050426089327126 Eh\n",
      "E = -1.015441636439638 Eh\n",
      "E = -0.9873692257052735 Eh\n",
      "E = -0.9670168314563374 Eh\n",
      "E = -0.9534301294889956 Eh\n",
      "E = -0.9449225613845066 Eh\n",
      "E = -0.9398332746700124 Eh\n",
      "E = -0.9368793989542732 Eh\n",
      "E = -0.9351989265367034 Eh\n"
     ]
    }
   ],
   "source": [
    "#Run CCSD\n",
    "CCSD_PES = obtain_PES('h2', bond_lengths, basis,  method='ccsd')"
   ]
  },
  {
   "cell_type": "code",
   "execution_count": 6,
   "metadata": {},
   "outputs": [
    {
     "data": {
      "text/plain": [
       "<matplotlib.legend.Legend at 0x7ffa4b40c8d0>"
      ]
     },
     "execution_count": 6,
     "metadata": {},
     "output_type": "execute_result"
    },
    {
     "data": {
      "image/png": "[encoded data removed]",
      "text/plain": [
       "<Figure size 432x288 with 1 Axes>"
      ]
     },
     "metadata": {
      "needs_background": "light"
     },
     "output_type": "display_data"
    }
   ],
   "source": [
    "#Plot H2 PESs\n",
    "\n",
    "plt.title('H2 dissociation, STO-3G')\n",
    "plt.xlabel('R, Angstrom')\n",
    "plt.ylabel('E, Hartree')\n",
    "\n",
    "plt.plot(bond_lengths, FCI_PES, label='FCI')\n",
    "plt.scatter(bond_lengths, HF_PES, label='HF', color='orange')\n",
    "plt.scatter(bond_lengths, CCSD_PES, label='CCSD', color='purple')\n",
    "plt.legend()"
   ]
  },
  {
   "cell_type": "markdown",
   "metadata": {},
   "source": [
    "<img src=\"figs/testimage.png\">"
   ]
  },
  {
   "cell_type": "markdown",
   "metadata": {},
   "source": [
    "## H<sub>2</sub>O symmetric O-H dissociation"
   ]
  },
  {
   "cell_type": "code",
   "execution_count": 7,
   "metadata": {},
   "outputs": [],
   "source": [
    "bond_lengths = np.linspace(0.5,2.7,15)"
   ]
  },
  {
   "cell_type": "code",
   "execution_count": 8,
   "metadata": {},
   "outputs": [
    {
     "name": "stdout",
     "output_type": "stream",
     "text": [
      "E = -73.14278405998414 Eh\n",
      "E = -74.47523205268014 Eh\n",
      "E = -74.90413378058017 Eh\n",
      "E = -75.01383133956654 Eh\n",
      "E = -75.00356512166928 Eh\n",
      "E = -74.95170869126783 Eh\n",
      "E = -74.89218648216018 Eh\n",
      "E = -74.83923063661699 Eh\n",
      "E = -74.79866365936574 Eh\n",
      "E = -74.77161515186775 Eh\n",
      "E = -74.75568947214684 Eh\n",
      "E = -74.74704715251242 Eh\n",
      "E = -74.74248898749448 Eh\n",
      "E = -74.74007426712959 Eh\n",
      "Could not converge\n"
     ]
    }
   ],
   "source": [
    "#Run FCI\n",
    "FCI_PES = obtain_PES('h2o', bond_lengths, basis, method='fci')"
   ]
  },
  {
   "cell_type": "code",
   "execution_count": 9,
   "metadata": {},
   "outputs": [
    {
     "name": "stdout",
     "output_type": "stream",
     "text": [
      "E = -73.12948161321476 Eh\n",
      "E = -74.45343797011796 Eh\n",
      "E = -74.87055361047916 Eh\n",
      "E = -74.96308510923626 Eh\n",
      "E = -74.92817508740148 Eh\n",
      "E = -74.84281942863211 Eh\n",
      "E = -74.74051950148022 Eh\n",
      "E = -74.63577758413845 Eh\n",
      "E = -74.53576638656821 Eh\n",
      "E = -74.44494384742121 Eh\n",
      "E = -74.36975504260424 Eh\n",
      "E = -74.29778481417813 Eh\n",
      "E = -74.2416722005104 Eh\n",
      "E = -74.27129957698466 Eh\n",
      "Could not converge\n"
     ]
    }
   ],
   "source": [
    "#Run HF\n",
    "HF_PES = obtain_PES('h2o', bond_lengths, basis,  method='hf')"
   ]
  },
  {
   "cell_type": "code",
   "execution_count": 10,
   "metadata": {},
   "outputs": [
    {
     "name": "stdout",
     "output_type": "stream",
     "text": [
      "E = -73.14276363918694 Eh\n",
      "E = -74.47519485717145 Eh\n",
      "E = -74.90406353010552 Eh\n",
      "E = -75.01370018934803 Eh\n",
      "E = -75.00330155818898 Eh\n",
      "E = -74.95116757042634 Eh\n",
      "E = -74.89128367467829 Eh\n",
      "E = -74.83853401139109 Eh\n",
      "E = -74.80070162376026 Eh\n",
      "E = -74.7810573871734 Eh\n",
      "E = -74.74394274758566 Eh\n",
      "E = -74.77972801511767 Eh\n",
      "E = -74.7833896345312 Eh\n",
      "E = -74.64224434262873 Eh\n",
      "Could not converge\n"
     ]
    }
   ],
   "source": [
    "#Run CCSD\n",
    "CCSD_PES = obtain_PES('h2o', bond_lengths, basis,  method='ccsd')"
   ]
  },
  {
   "cell_type": "code",
   "execution_count": 11,
   "metadata": {},
   "outputs": [
    {
     "data": {
      "text/plain": [
       "<matplotlib.legend.Legend at 0x7ffa9869fe10>"
      ]
     },
     "execution_count": 11,
     "metadata": {},
     "output_type": "execute_result"
    },
    {
     "data": {
      "image/png": "[encoded data removed]",
      "text/plain": [
       "<Figure size 432x288 with 1 Axes>"
      ]
     },
     "metadata": {
      "needs_background": "light"
     },
     "output_type": "display_data"
    }
   ],
   "source": [
    "#Plot H2O PESs\n",
    "\n",
    "plt.title('H2O symmetric dissociation, STO-3G')\n",
    "plt.xlabel('R, Angstrom')\n",
    "plt.ylabel('E, Hartree')\n",
    "\n",
    "plt.plot(bond_lengths, FCI_PES, label='FCI')\n",
    "plt.scatter(bond_lengths, HF_PES, label='HF', color='orange')\n",
    "plt.scatter(bond_lengths, CCSD_PES, label='CCSD', color='purple')\n",
    "plt.legend()"
   ]
  },
  {
   "cell_type": "markdown",
   "metadata": {},
   "source": [
    "## LiH"
   ]
  },
  {
   "cell_type": "code",
   "execution_count": null,
   "metadata": {},
   "outputs": [
    {
     "name": "stdout",
     "output_type": "stream",
     "text": [
      "Running FCI\n",
      "E = -7.050225036066642 Eh\n",
      "E = -7.319318938170493 Eh\n",
      "E = -7.505051767361807 Eh\n",
      "E = -7.634167329728353 Eh\n",
      "E = -7.723423721347238 Eh\n",
      "E = -7.784460280267016 Eh\n",
      "E = -7.825536957974943 Eh\n",
      "E = -7.852430853316401 Eh\n",
      "E = -7.869139976429565 Eh\n",
      "E = -7.878453652319019 Eh\n",
      "E = -7.882362286810953 Eh\n",
      "E = -7.882324378871222 Eh\n",
      "E = -7.8794335165319636 Eh\n",
      "E = -7.874524024942922 Eh\n",
      "E = -7.868240793792822 Eh\n",
      "E = -7.861087772411142 Eh\n",
      "E = -7.853462904979664 Eh\n",
      "E = -7.8456836231164235 Eh\n",
      "E = -7.8380050025471135 Eh\n",
      "E = -7.830631624342838 Eh\n",
      "E = -7.823723883389364 Eh\n",
      "E = -7.8173999273756625 Eh\n",
      "E = -7.8117353390570266 Eh\n",
      "E = -7.806763402503807 Eh\n",
      "E = -7.802478452788826 Eh\n",
      "E = -7.798843159455239 Eh\n",
      "E = -7.795798533270906 Eh\n",
      "E = -7.793274300625994 Eh\n",
      "E = -7.791197565942319 Eh\n",
      "E = -7.789498785374102 Eh\n",
      "E = -7.788115123260219 Eh\n",
      "Running HF\n",
      "E = -7.0284717535917025 Eh\n",
      "E = -7.299610442693042 Eh\n",
      "E = -7.4860204040661715 Eh\n",
      "E = -7.615847732045305 Eh\n",
      "E = -7.705830270834717 Eh\n",
      "E = -7.767438446509383 Eh\n",
      "E = -7.808820265798591 Eh\n",
      "E = -7.835694662390294 Eh\n",
      "E = -7.85203467637742 Eh\n",
      "E = -7.86062131505413 Eh\n",
      "E = -7.863441868065388 Eh\n",
      "E = -7.861950402903201 Eh\n",
      "E = -7.857231938312342 Eh\n",
      "E = -7.850107259191326 Eh\n",
      "E = -7.841202658643016 Eh\n",
      "E = -7.830998803612782 Eh\n",
      "E = -7.81986656068295 Eh\n",
      "E = -7.808094112982564 Eh\n",
      "E = -7.795907892710426 Eh\n",
      "E = -7.783488814132521 Eh\n",
      "E = -7.770984662573619 Eh\n",
      "E = -7.758519166159427 Eh\n",
      "E = -7.746198175823739 Eh\n",
      "E = -7.734113419610024 Eh\n",
      "E = -7.722344387131093 Eh\n",
      "E = -7.710958961728265 Eh\n",
      "E = -7.700013407146114 Eh\n",
      "E = -7.689552215347576 Eh\n"
     ]
    }
   ],
   "source": [
    "bond_lengths = np.linspace(0.5,3.5,31)\n",
    "print('Running FCI')\n",
    "FCI_PES = obtain_PES('lih', bond_lengths, basis, method='fci')\n",
    "print('Running HF')\n",
    "HF_PES = obtain_PES('lih', bond_lengths, basis,  method='hf')\n",
    "print('Running CCSD')\n",
    "CCSD_PES = obtain_PES('lih', bond_lengths, basis,  method='ccsd')"
   ]
  },
  {
   "cell_type": "code",
   "execution_count": null,
   "metadata": {},
   "outputs": [],
   "source": [
    "plt.title('LiH dissociation, STO-3G')\n",
    "plt.xlabel('R, Angstrom')\n",
    "plt.ylabel('E, Hartree')\n",
    "\n",
    "plt.plot(bond_lengths, FCI_PES, label='FCI')\n",
    "plt.scatter(bond_lengths, HF_PES, label='HF', color='orange')\n",
    "plt.scatter(bond_lengths, CCSD_PES, label='CCSD', color='purple')\n",
    "plt.legend()"
   ]
  },
  {
   "cell_type": "markdown",
   "metadata": {},
   "source": [
    "## H<sub>4</sub> angle"
   ]
  },
  {
   "cell_type": "code",
   "execution_count": null,
   "metadata": {},
   "outputs": [],
   "source": [
    "angles = np.linspace(85,95,21)\n",
    "print('Running FCI')\n",
    "FCI_PES = obtain_PES('h4', angles, basis, method='fci')\n",
    "print('Running HF')\n",
    "HF_PES = obtain_PES('h4', angles, basis,  method='hf')\n",
    "print('Running CCSD')\n",
    "CCSD_PES = obtain_PES('h4', angles, basis,  method='ccsd')"
   ]
  },
  {
   "cell_type": "code",
   "execution_count": null,
   "metadata": {},
   "outputs": [],
   "source": [
    "fig = plt.figure(figsize=(5,5))\n",
    "ax.set_title('H4 angle, STO-3G')\n",
    "ax.set_xlabel('Angle, Degrees')\n",
    "ax.set_ylabel('E, Hartree')\n",
    "ax = fig.add_subplot(1,1,1)\n",
    "ax.plot(angles, FCI_PES, label='FCI')\n",
    "ax.scatter(angles, HF_PES, label='HF', color='orange')\n",
    "ax.scatter(angles, CCSD_PES, label='CCSD', color='purple')\n",
    "ax.legend()"
   ]
  },
  {
   "cell_type": "markdown",
   "metadata": {},
   "source": [
    "## N<sub>2</sub>"
   ]
  },
  {
   "cell_type": "code",
   "execution_count": null,
   "metadata": {},
   "outputs": [],
   "source": [
    "bond_lengths = np.linspace(0.6,1.8,26)\n",
    "print('Running FCI')\n",
    "FCI_PES = obtain_PES('n2', bond_lengths, basis, method='fci')\n",
    "print('Running HF')\n",
    "HF_PES = obtain_PES('n2', bond_lengths, basis,  method='hf')\n",
    "print('Running CCSD')\n",
    "CCSD_PES = obtain_PES('n2', bond_lengths, basis,  method='ccsd')"
   ]
  },
  {
   "cell_type": "code",
   "execution_count": null,
   "metadata": {},
   "outputs": [],
   "source": [
    "plt.title('N2 dissociation, STO-3G')\n",
    "plt.xlabel('R, Angstrom')\n",
    "plt.ylabel('E, Hartree')\n",
    "\n",
    "plt.plot(bond_lengths, FCI_PES, label='FCI')\n",
    "plt.scatter(bond_lengths, HF_PES, label='HF', color='orange')\n",
    "plt.scatter(bond_lengths, CCSD_PES, label='CCSD', color='purple')\n",
    "plt.legend()"
   ]
  },
  {
   "cell_type": "markdown",
   "metadata": {},
   "source": [
    "## NH<sub>3</sub>"
   ]
  },
  {
   "cell_type": "code",
   "execution_count": null,
   "metadata": {},
   "outputs": [],
   "source": [
    "bond_lengths = np.linspace(0.5,2.0,16)\n",
    "print('Running FCI')\n",
    "FCI_PES = obtain_PES('nh3', bond_lengths, basis, method='fci')\n",
    "print('Running HF')\n",
    "HF_PES = obtain_PES('nh3', bond_lengths, basis,  method='hf')\n",
    "print('Running CCSD')\n",
    "CCSD_PES = obtain_PES('nh3', bond_lengths, basis,  method='ccsd')"
   ]
  },
  {
   "cell_type": "code",
   "execution_count": null,
   "metadata": {},
   "outputs": [],
   "source": [
    "plt.title('NH3 dissociation, STO-3G')\n",
    "plt.xlabel('R, Angstrom')\n",
    "plt.ylabel('E, Hartree')\n",
    "\n",
    "plt.plot(bond_lengths, FCI_PES, label='FCI')\n",
    "plt.scatter(bond_lengths, HF_PES, label='HF', color='orange')\n",
    "plt.scatter(bond_lengths, CCSD_PES, label='CCSD', color='purple')\n",
    "plt.legend()"
   ]
  },
  {
   "cell_type": "code",
   "execution_count": null,
   "metadata": {},
   "outputs": [],
   "source": []
  }
 ],
 "metadata": {
  "kernelspec": {
   "display_name": "Python 3",
   "language": "python",
   "name": "python3"
  },
  "language_info": {
   "codemirror_mode": {
    "name": "ipython",
    "version": 3
   },
   "file_extension": ".py",
   "mimetype": "text/x-python",
   "name": "python",
   "nbconvert_exporter": "python",
   "pygments_lexer": "ipython3",
   "version": "3.7.7"
  }
 },
 "nbformat": 4,
 "nbformat_minor": 2
}
