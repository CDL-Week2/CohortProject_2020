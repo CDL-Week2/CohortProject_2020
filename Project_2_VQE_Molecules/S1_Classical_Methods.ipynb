{
 "cells": [
  {
   "cell_type": "markdown",
   "metadata": {},
   "source": [
    "# Review of classical electronic structure methods \n",
    "\n",
    "In order to assess the performance of quantum computing algorithms in addressing the electronic structure problem, we will briefly review a few commonly employed classical electronic structure methods of varying level of approximation. \n",
    "\n",
    "## Hartree-Fock\n",
    "\n",
    "The Hartree-Fock (HF) method employs a **mean-field approximation**, where Coulomb correlation of electrons is neglected. The HF wavefunction is hence restricted to the form of a single Slater determinant, for which the optimal form may be acquired by an optimization of the underlying single particle basis (orbitals). Once the optimal HF orbitals have been found, the HF state may be written as \n",
    "\n",
    "$$ | \\text{HF} \\rangle = \\prod_{p \\in \\text{occ}} \\hat a^\\dagger_p | \\text{vac} \\rangle $$\n",
    "\n",
    "where $\\hat a^\\dagger_p$ creates an electron in the $p^{\\rm{th}}$ optimized HF spin orbital, and  $| \\text{vac} \\rangle$ is the vacuum state (all spin-orbitals unoccupied). Due to the restriction to a single Slater determinant, the HF energy may be obtained very efficiently and can be applied to very large molecules, however it becomes qualitatively incorrect when **electronic correlations** become sufficiently strong. The HF wavefunction is often used as a starting point in more accurate treatments of electronic correlation. \n",
    "\n",
    "## Coupled cluster\n",
    "\n",
    "The Coupled cluster (CC) method introduces electronic correlation to the wavefunction ansatz by operating on the HF reference state with the exponential of excitation operators\n",
    "\n",
    "$$|\\text{CC} \\rangle = e^{\\hat T} | \\text{HF}\\rangle, \\quad \\hat T = \\hat T_1 + \\hat T_2 + ...$$\n",
    "\n",
    "where $\\hat T_1 = \\sum_{ia} t^{a}_i \\hat a^\\dagger_a \\hat a_i$ are referred to as 'singles', $\\hat T_2 = \\sum_{ijab} t^{ab}_{ij} \\hat a^\\dagger_a \\hat a^\\dagger_b \\hat a_i \\hat a_j$ as 'doubles', etc. When the excitation rank is truncated to only singles (S) and doubles (D), $\\hat T = \\hat T_1 + \\hat T_2$, the corresponding ansatz is referred to as CCSD. Since the number of possible single and double excitations for a system of $N$ electrons in $M$ orbitals is polynomial in $M$, one can efficiently solve a system of equations to obtain the optimized CCSD amplitudes. CCSD often gives accurate energies and can be applied to modestly sized chemical systems. However, due to its implementation, it can **violate the variational principle** and give energies lower than the ground state.\n",
    "\n",
    "## Full Configuration Interaction\n",
    "The full configuration interaction (FCI) method yields the **exact ground state energy** within a given basis set. The FCI wavefunction is written as a linear combination of all possible $N$-particle Slater determinants over the orbital basis\n",
    "$$|\\text{FCI} \\rangle =  \\left( \\sum_{ia} C^{a}_i \\hat a^\\dagger_a \\hat a_i + \\sum_{ijab} C^{ab}_{ij} \\hat a^\\dagger_a \\hat a^\\dagger_b \\hat a_i \\hat a_j + ...  \\right) | \\text{HF} \\rangle $$\n",
    "where the sum includes up to $N$-electron excitations, and hence there are an exponential number of coefficients to optimize in $| \\text{FCI} \\rangle$. Due to its **exponential complexity**, FCI is often reserved for only the smallest chemical systems. However, it serves as a useful result to compare to when assessing tractable electronic structure methods."
   ]
  },
  {
   "cell_type": "markdown",
   "metadata": {},
   "source": [
    "# Benchmarking for electronic PESs in minimal basis (STO-3G)\n",
    "\n",
    "We will apply HF, CCSD, and FCI to obtaining the PESs for a few molecular dissociation processes in minimal (STO-3G) basis."
   ]
  },
  {
   "cell_type": "code",
   "execution_count": 1,
   "metadata": {},
   "outputs": [],
   "source": [
    "import numpy as np\n",
    "import matplotlib.pyplot as plt\n",
    "from utility import get_molecular_data, obtain_PES\n",
    "\n",
    "basis = 'sto-3g'"
   ]
  },
  {
   "cell_type": "markdown",
   "metadata": {},
   "source": [
    "## H<sub>2</sub>"
   ]
  },
  {
   "cell_type": "code",
   "execution_count": 2,
   "metadata": {},
   "outputs": [],
   "source": [
    "bond_lengths = np.linspace(0.2,2.6,15)"
   ]
  },
  {
   "cell_type": "code",
   "execution_count": 3,
   "metadata": {},
   "outputs": [
    {
     "name": "stdout",
     "output_type": "stream",
     "text": [
      "E = 0.15748213365503494 Eh\n",
      "E = -0.8488991062024307 Eh\n",
      "E = -1.088228184406917 Eh\n",
      "E = -1.1369289594005694 Eh\n",
      "E = -1.122957052798233 Eh\n",
      "E = -1.0887645364963472 Eh\n",
      "E = -1.050442037218747 Eh\n",
      "E = -1.0154681711140932 Eh\n",
      "E = -0.9873930555210572 Eh\n",
      "E = -0.9670259116093078 Eh\n",
      "E = -0.9534242388722525 Eh\n",
      "E = -0.9449089870950522 Eh\n",
      "E = -0.9398197912188271 Eh\n",
      "E = -0.9368706035283363 Eh\n",
      "E = -0.9351960308386074 Eh\n"
     ]
    }
   ],
   "source": [
    "#Run FCI\n",
    "FCI_PES = obtain_PES('h2', bond_lengths, basis, method='fci')"
   ]
  },
  {
   "cell_type": "code",
   "execution_count": 4,
   "metadata": {},
   "outputs": [
    {
     "name": "stdout",
     "output_type": "stream",
     "text": [
      "E = 0.16412595411336117 Eh\n",
      "E = -0.8397057843499895 Eh\n",
      "E = -1.0748879317191191 Eh\n",
      "E = -1.1175258568986786 Eh\n",
      "E = -1.0951595815644826 Eh\n",
      "E = -1.049561784275208 Eh\n",
      "E = -0.9960202460350617 Eh\n",
      "E = -0.9415474099692247 Eh\n",
      "E = -0.8899751417971353 Eh\n",
      "E = -0.8432718025417775 Eh\n",
      "E = -0.8022429584004123 Eh\n",
      "E = -0.7669825247359986 Eh\n",
      "E = -0.7371545448988277 Eh\n",
      "E = -0.7121961606082434 Eh\n",
      "E = -0.691470051262483 Eh\n"
     ]
    }
   ],
   "source": [
    "#Run HF\n",
    "HF_PES = obtain_PES('h2', bond_lengths, basis,  method='hf')"
   ]
  },
  {
   "cell_type": "code",
   "execution_count": 5,
   "metadata": {},
   "outputs": [
    {
     "name": "stdout",
     "output_type": "stream",
     "text": [
      "E = 0.1574841205643646 Eh\n",
      "E = -0.8488985094851168 Eh\n",
      "E = -1.088231017430786 Eh\n",
      "E = -1.1369333351418642 Eh\n",
      "E = -1.1229593878059771 Eh\n",
      "E = -1.088760690592053 Eh\n",
      "E = -1.050426089327125 Eh\n",
      "E = -1.015441558375805 Eh\n",
      "E = -0.9873692849076258 Eh\n",
      "E = -0.9670168314563384 Eh\n",
      "E = -0.953430155825735 Eh\n",
      "E = -0.9449225613845055 Eh\n",
      "E = -0.9398332746700121 Eh\n",
      "E = -0.9368793989542723 Eh\n",
      "E = -0.935198926536707 Eh\n"
     ]
    }
   ],
   "source": [
    "#Run CCSD\n",
    "CCSD_PES = obtain_PES('h2', bond_lengths, basis,  method='ccsd')"
   ]
  },
  {
   "cell_type": "code",
   "execution_count": 7,
   "metadata": {},
   "outputs": [
    {
     "data": {
      "text/plain": [
       "<matplotlib.legend.Legend at 0x7f8c3f7a56d8>"
      ]
     },
     "execution_count": 7,
     "metadata": {},
     "output_type": "execute_result"
    },
    {
     "data": {
      "image/png": "[encoded data removed]",
      "text/plain": [
       "<Figure size 432x288 with 1 Axes>"
      ]
     },
     "metadata": {
      "needs_background": "light"
     },
     "output_type": "display_data"
    }
   ],
   "source": [
    "#Plot H2 PESs\n",
    "\n",
    "plt.title('H2 dissociation, STO-3G')\n",
    "plt.xlabel('R, Angstrom')\n",
    "plt.ylabel('E, Hartree')\n",
    "\n",
    "plt.plot(bond_lengths, FCI_PES, label='FCI')\n",
    "plt.scatter(bond_lengths, HF_PES, label='HF', color='orange')\n",
    "plt.scatter(bond_lengths, CCSD_PES, label='CCSD', color='purple')\n",
    "plt.legend()"
   ]
  },
  {
   "cell_type": "markdown",
   "metadata": {},
   "source": [
    "<img src=\"figs/testimage.png\">"
   ]
  },
  {
   "cell_type": "markdown",
   "metadata": {},
   "source": [
    "## H<sub>2</sub>O symmetric O-H dissociation"
   ]
  },
  {
   "cell_type": "code",
   "execution_count": 8,
   "metadata": {},
   "outputs": [],
   "source": [
    "bond_lengths = np.linspace(0.5,2.7,15)"
   ]
  },
  {
   "cell_type": "code",
   "execution_count": 9,
   "metadata": {},
   "outputs": [
    {
     "name": "stdout",
     "output_type": "stream",
     "text": [
      "E = -73.14278405998363 Eh\n",
      "E = -74.47523205267969 Eh\n",
      "E = -74.90413378058078 Eh\n",
      "E = -75.0138313395661 Eh\n",
      "E = -75.00356512166883 Eh\n",
      "E = -74.95170869126758 Eh\n",
      "E = -74.89218648216085 Eh\n",
      "E = -74.83923063661703 Eh\n",
      "E = -74.7986636593667 Eh\n",
      "E = -74.77161515186945 Eh\n",
      "E = -74.75568947214511 Eh\n",
      "E = -74.74704715250861 Eh\n",
      "E = -74.74248898749319 Eh\n",
      "E = -74.74007426523073 Eh\n",
      "Could not converge\n"
     ]
    }
   ],
   "source": [
    "#Run FCI\n",
    "FCI_PES = obtain_PES('h2o', bond_lengths, basis, method='fci')"
   ]
  },
  {
   "cell_type": "code",
   "execution_count": 10,
   "metadata": {},
   "outputs": [
    {
     "name": "stdout",
     "output_type": "stream",
     "text": [
      "E = -73.12948161321033 Eh\n",
      "E = -74.45343797012085 Eh\n",
      "E = -74.87055361047595 Eh\n",
      "E = -74.96308510924827 Eh\n",
      "E = -74.92817508739459 Eh\n",
      "E = -74.84281942864168 Eh\n",
      "E = -74.74051950149057 Eh\n",
      "E = -74.63577758414064 Eh\n",
      "E = -74.53576638656533 Eh\n",
      "E = -74.44494384742792 Eh\n",
      "E = -74.3697550426047 Eh\n",
      "E = -74.29778481417918 Eh\n",
      "E = -74.24167220051214 Eh\n",
      "E = -74.27129957698052 Eh\n",
      "Could not converge\n"
     ]
    }
   ],
   "source": [
    "#Run HF\n",
    "HF_PES = obtain_PES('h2o', bond_lengths, basis,  method='hf')"
   ]
  },
  {
   "cell_type": "code",
   "execution_count": 11,
   "metadata": {},
   "outputs": [
    {
     "name": "stdout",
     "output_type": "stream",
     "text": [
      "E = -73.14276363918698 Eh\n",
      "E = -74.47519485717142 Eh\n",
      "E = -74.90406353010556 Eh\n",
      "E = -75.01370018934797 Eh\n",
      "E = -75.00330155818912 Eh\n",
      "E = -74.95116757042634 Eh\n",
      "E = -74.89128367467829 Eh\n",
      "E = -74.83853401139106 Eh\n",
      "E = -74.80070162376008 Eh\n",
      "E = -74.78105738717342 Eh\n",
      "E = -74.74394274758097 Eh\n",
      "E = -74.77972801511771 Eh\n",
      "E = -74.78338963453061 Eh\n",
      "E = -74.64224434263171 Eh\n",
      "Could not converge\n"
     ]
    }
   ],
   "source": [
    "#Run CCSD\n",
    "CCSD_PES = obtain_PES('h2o', bond_lengths, basis,  method='ccsd')"
   ]
  },
  {
   "cell_type": "code",
   "execution_count": 12,
   "metadata": {},
   "outputs": [
    {
     "data": {
      "text/plain": [
       "<matplotlib.legend.Legend at 0x7f8c3f17a5f8>"
      ]
     },
     "execution_count": 12,
     "metadata": {},
     "output_type": "execute_result"
    },
    {
     "data": {
      "image/png": "[encoded data removed]",
      "text/plain": [
       "<Figure size 432x288 with 1 Axes>"
      ]
     },
     "metadata": {
      "needs_background": "light"
     },
     "output_type": "display_data"
    }
   ],
   "source": [
    "#Plot H2O PESs\n",
    "\n",
    "plt.title('H2O symmetric dissociation, STO-3G')\n",
    "plt.xlabel('R, Angstrom')\n",
    "plt.ylabel('E, Hartree')\n",
    "\n",
    "plt.plot(bond_lengths, FCI_PES, label='FCI')\n",
    "plt.scatter(bond_lengths, HF_PES, label='HF', color='orange')\n",
    "plt.scatter(bond_lengths, CCSD_PES, label='CCSD', color='purple')\n",
    "plt.legend()"
   ]
  },
  {
   "cell_type": "markdown",
   "metadata": {},
   "source": [
    "## LiH"
   ]
  },
  {
   "cell_type": "code",
   "execution_count": 17,
   "metadata": {},
   "outputs": [
    {
     "name": "stdout",
     "output_type": "stream",
     "text": [
      "Running FCI\n",
      "E = -7.050225036066637 Eh\n",
      "E = -7.319318938170454 Eh\n",
      "E = -7.505051767361835 Eh\n",
      "E = -7.634167329728379 Eh\n",
      "E = -7.723423721347273 Eh\n",
      "E = -7.784460280267082 Eh\n",
      "E = -7.825536957974927 Eh\n",
      "E = -7.8524308533163865 Eh\n",
      "E = -7.869139976429576 Eh\n",
      "E = -7.878453652319026 Eh\n",
      "E = -7.882362286810916 Eh\n",
      "E = -7.882324378871238 Eh\n",
      "E = -7.879433516531942 Eh\n",
      "E = -7.874524024942904 Eh\n",
      "E = -7.868240793792813 Eh\n",
      "E = -7.861087772411115 Eh\n",
      "E = -7.853462904979717 Eh\n",
      "E = -7.8456836231164875 Eh\n",
      "E = -7.838005002547126 Eh\n",
      "E = -7.830631624342899 Eh\n",
      "E = -7.823723883389371 Eh\n",
      "E = -7.817399927375675 Eh\n",
      "E = -7.811735339056934 Eh\n",
      "E = -7.8067634025037576 Eh\n",
      "E = -7.802478452788829 Eh\n",
      "E = -7.798843159455177 Eh\n",
      "E = -7.7957985332709185 Eh\n",
      "E = -7.7932743006258836 Eh\n",
      "E = -7.791197565942271 Eh\n",
      "E = -7.789498785374276 Eh\n",
      "E = -7.788115123260274 Eh\n",
      "Running HF\n",
      "E = -7.028471753592102 Eh\n",
      "E = -7.29961044269316 Eh\n",
      "E = -7.4860204040660925 Eh\n",
      "E = -7.615847732045232 Eh\n",
      "E = -7.705830270835124 Eh\n",
      "E = -7.767438446509458 Eh\n",
      "E = -7.8088202657986585 Eh\n",
      "E = -7.8356946623903205 Eh\n",
      "E = -7.852034676377341 Eh\n",
      "E = -7.860621315054116 Eh\n",
      "E = -7.863441868065342 Eh\n",
      "E = -7.86195040290313 Eh\n",
      "E = -7.8572319383122835 Eh\n",
      "E = -7.850107259191395 Eh\n",
      "E = -7.841202658643036 Eh\n",
      "E = -7.8309988036128 Eh\n",
      "E = -7.81986656068287 Eh\n",
      "E = -7.808094112982488 Eh\n",
      "E = -7.7959078927104635 Eh\n",
      "E = -7.783488814132545 Eh\n",
      "E = -7.770984662573538 Eh\n",
      "E = -7.758519166159384 Eh\n",
      "E = -7.746198175823762 Eh\n",
      "E = -7.734113419609981 Eh\n",
      "E = -7.722344387131097 Eh\n",
      "E = -7.710958961728229 Eh\n",
      "E = -7.700013407146129 Eh\n",
      "E = -7.689552215347505 Eh\n",
      "E = -7.679608169290748 Eh\n",
      "E = -7.670202787853027 Eh\n",
      "E = -7.661347172773938 Eh\n",
      "Running CCSD\n",
      "E = -7.050156294294406 Eh\n",
      "E = -7.319296369458233 Eh\n",
      "E = -7.505041804061142 Eh\n",
      "E = -7.634160527656581 Eh\n",
      "E = -7.72341741930697 Eh\n",
      "E = -7.784453781342631 Eh\n",
      "E = -7.825530117618341 Eh\n",
      "E = -7.852423447969323 Eh\n",
      "E = -7.869131686034383 Eh\n",
      "E = -7.878444199417258 Eh\n",
      "E = -7.882351449527866 Eh\n",
      "E = -7.88231209752962 Eh\n",
      "E = -7.87941981551502 Eh\n",
      "E = -7.874508895995593 Eh\n",
      "E = -7.868224101324969 Eh\n",
      "E = -7.861069226073758 Eh\n",
      "E = -7.853442051456517 Eh\n",
      "E = -7.845659832192282 Eh\n",
      "E = -7.837977472710681 Eh\n",
      "E = -7.830599382289908 Eh\n",
      "E = -7.823685850858551 Eh\n",
      "E = -7.817355013474615 Eh\n",
      "E = -7.811682577240453 Eh\n",
      "E = -7.8067020909297025 Eh\n",
      "E = -7.802408241683296 Eh\n",
      "E = -7.798764080782398 Eh\n",
      "E = -7.795710917913033 Eh\n",
      "E = -7.793178734937731 Eh\n",
      "E = -7.791094696651084 Eh\n",
      "E = -7.789389227862761 Eh\n",
      "E = -7.787999544493281 Eh\n"
     ]
    }
   ],
   "source": [
    "bond_lengths = np.linspace(0.5,3.5,31)\n",
    "print('Running FCI')\n",
    "FCI_PES = obtain_PES('lih', bond_lengths, basis, method='fci')\n",
    "print('Running HF')\n",
    "HF_PES = obtain_PES('lih', bond_lengths, basis,  method='hf')\n",
    "print('Running CCSD')\n",
    "CCSD_PES = obtain_PES('lih', bond_lengths, basis,  method='ccsd')"
   ]
  },
  {
   "cell_type": "code",
   "execution_count": 18,
   "metadata": {},
   "outputs": [
    {
     "data": {
      "text/plain": [
       "<matplotlib.legend.Legend at 0x7f8c2390eb70>"
      ]
     },
     "execution_count": 18,
     "metadata": {},
     "output_type": "execute_result"
    },
    {
     "data": {
      "image/png": "[encoded data removed]",
      "text/plain": [
       "<Figure size 432x288 with 1 Axes>"
      ]
     },
     "metadata": {
      "needs_background": "light"
     },
     "output_type": "display_data"
    }
   ],
   "source": [
    "plt.title('LiH dissociation, STO-3G')\n",
    "plt.xlabel('R, Angstrom')\n",
    "plt.ylabel('E, Hartree')\n",
    "\n",
    "plt.plot(bond_lengths, FCI_PES, label='FCI')\n",
    "plt.scatter(bond_lengths, HF_PES, label='HF', color='orange')\n",
    "plt.scatter(bond_lengths, CCSD_PES, label='CCSD', color='purple')\n",
    "plt.legend()"
   ]
  },
  {
   "cell_type": "markdown",
   "metadata": {},
   "source": [
    "## H<sub>4</sub> angle"
   ]
  },
  {
   "cell_type": "code",
   "execution_count": 4,
   "metadata": {},
   "outputs": [
    {
     "name": "stdout",
     "output_type": "stream",
     "text": [
      "Running FCI\n",
      "E = -1.9867261151116669 Eh\n",
      "E = -1.9837530747912604 Eh\n",
      "E = -1.9809876600812362 Eh\n",
      "E = -1.9784558966242 Eh\n",
      "E = -1.9761849765158965 Eh\n",
      "E = -1.97420249223009 Eh\n",
      "E = -1.9725353916283392 Eh\n",
      "E = -1.9712086838516676 Eh\n",
      "E = -1.9702439840851032 Eh\n",
      "E = -1.9696580521829739 Eh\n",
      "E = -1.9694615253790517 Eh\n",
      "E = -1.969658052182969 Eh\n",
      "E = -1.9702439840851014 Eh\n",
      "E = -1.9712086838516671 Eh\n",
      "E = -1.9725353916283392 Eh\n",
      "E = -1.9742024922300896 Eh\n",
      "E = -1.9761849765158996 Eh\n",
      "E = -1.9784558966242072 Eh\n",
      "E = -1.9809876600812322 Eh\n",
      "E = -1.983753074791248 Eh\n",
      "E = -1.9867261151116735 Eh\n",
      "Running HF\n",
      "E = -1.8473793344555305 Eh\n",
      "E = -1.8407925357369153 Eh\n",
      "E = -1.8341616355001356 Eh\n",
      "E = -1.8274861159746665 Eh\n",
      "E = -1.8207654212300612 Eh\n",
      "E = -1.8139989576965778 Eh\n",
      "E = -1.8071860930044046 Eh\n",
      "E = -1.8003261569910856 Eh\n",
      "E = -1.793418440266031 Eh\n",
      "E = -1.7864621949208466 Eh\n",
      "E = -1.7794566334077375 Eh\n",
      "E = -1.7864621949207011 Eh\n",
      "E = -1.7934184402660238 Eh\n",
      "E = -1.8003261569911366 Eh\n",
      "E = -1.8071860930043164 Eh\n",
      "E = -1.8139989576967057 Eh\n",
      "E = -1.820765421230071 Eh\n",
      "E = -1.8274861159745641 Eh\n",
      "E = -1.834161635500113 Eh\n",
      "E = -1.8407925357368284 Eh\n",
      "E = -1.847379334455513 Eh\n",
      "Running CCSD\n",
      "E = -1.9881001465424437 Eh\n",
      "E = -1.9853959867658686 Eh\n",
      "E = -1.982948514709693 Eh\n",
      "E = -1.9807905424277612 Eh\n",
      "E = -1.9789558063938792 Eh\n",
      "E = -1.9774775610627993 Eh\n",
      "E = -1.9763868042291606 Eh\n",
      "E = -1.9757101943075466 Eh\n",
      "E = -1.975467925821415 Eh\n",
      "E = -1.9756718867341783 Eh\n",
      "E = -1.976324400037211 Eh\n",
      "E = -1.9756718867341538 Eh\n",
      "E = -1.9754679258214036 Eh\n",
      "E = -1.975710194307552 Eh\n",
      "E = -1.9763868042291528 Eh\n",
      "E = -1.9774775610628206 Eh\n",
      "E = -1.9789558063938792 Eh\n",
      "E = -1.9807905424277497 Eh\n",
      "E = -1.9829485147096944 Eh\n",
      "E = -1.985395986765858 Eh\n",
      "E = -1.988100146542446 Eh\n"
     ]
    }
   ],
   "source": [
    "angles = np.linspace(85,95,21)\n",
    "print('Running FCI')\n",
    "FCI_PES = obtain_PES('h4', angles, basis, method='fci')\n",
    "print('Running HF')\n",
    "HF_PES = obtain_PES('h4', angles, basis,  method='hf')\n",
    "print('Running CCSD')\n",
    "CCSD_PES = obtain_PES('h4', angles, basis,  method='ccsd')"
   ]
  },
  {
   "cell_type": "code",
   "execution_count": 10,
   "metadata": {},
   "outputs": [
    {
     "data": {
      "text/plain": [
       "<matplotlib.legend.Legend at 0x7ffb531f3588>"
      ]
     },
     "execution_count": 10,
     "metadata": {},
     "output_type": "execute_result"
    },
    {
     "data": {
      "image/png": "[encoded data removed]",
      "text/plain": [
       "<Figure size 360x360 with 1 Axes>"
      ]
     },
     "metadata": {
      "needs_background": "light"
     },
     "output_type": "display_data"
    }
   ],
   "source": [
    "fig = plt.figure(figsize=(5,5))\n",
    "ax.set_title('H4 angle, STO-3G')\n",
    "ax.set_xlabel('Angle, Degrees')\n",
    "ax.set_ylabel('E, Hartree')\n",
    "ax = fig.add_subplot(1,1,1)\n",
    "ax.plot(angles, FCI_PES, label='FCI')\n",
    "ax.scatter(angles, HF_PES, label='HF', color='orange')\n",
    "ax.scatter(angles, CCSD_PES, label='CCSD', color='purple')\n",
    "ax.legend()"
   ]
  },
  {
   "cell_type": "markdown",
   "metadata": {},
   "source": [
    "## N<sub>2</sub>"
   ]
  },
  {
   "cell_type": "code",
   "execution_count": 7,
   "metadata": {},
   "outputs": [
    {
     "name": "stdout",
     "output_type": "stream",
     "text": [
      "Running FCI\n",
      "E = -103.93173261594437 Eh\n",
      "E = -104.94737459787737 Eh\n",
      "E = -105.71074449175751 Eh\n",
      "E = -106.2822208031208 Eh\n",
      "E = -106.70717761198145 Eh\n",
      "E = -107.02005357696656 Eh\n",
      "E = -107.24719734052454 Eh\n",
      "E = -107.4088992831745 Eh\n",
      "E = -107.52085191000079 Eh\n",
      "E = -107.59521361339424 Eh\n",
      "E = -107.6414006750823 Eh\n",
      "E = -107.66669047944974 Eh\n",
      "E = -107.67668869523908 Eh\n",
      "E = -107.6756948079022 Eh\n",
      "E = -107.66699020566313 Eh\n",
      "E = -107.65306693239377 Eh\n",
      "E = -107.63581064455737 Eh\n",
      "E = -107.6166473152899 Eh\n",
      "E = -107.59665980008009 Eh\n",
      "E = -107.57667775005528 Eh\n",
      "E = -107.55734274959379 Eh\n",
      "E = -107.5391502176973 Eh\n",
      "E = -107.52247087963558 Eh\n",
      "E = -107.50755746580218 Eh\n",
      "E = -107.49454544627453 Eh\n",
      "E = -107.48345735007983 Eh\n",
      "Running HF\n",
      "E = -103.88092057888046 Eh\n",
      "E = -104.88882594511189 Eh\n",
      "E = -105.64408755662939 Eh\n",
      "E = -106.2072017931744 Eh\n",
      "E = -106.62342000730675 Eh\n",
      "E = -106.92700924509579 Eh\n",
      "E = -107.14417363438199 Eh\n",
      "E = -107.29509907974948 Eh\n",
      "E = -107.39540800266141 Eh\n",
      "E = -107.45721515321372 Eh\n",
      "E = -107.48991314504941 Eh\n",
      "E = -107.50077082165222 Eh\n",
      "E = -107.49539651904693 Eh\n",
      "E = -107.47809987537653 Eh\n",
      "E = -107.45217590183071 Eh\n",
      "E = -107.42012926859155 Eh\n",
      "E = -107.38385254675035 Eh\n",
      "E = -107.34476856553239 Eh\n",
      "E = -107.30394407484062 Eh\n",
      "E = -107.26217973380201 Eh\n",
      "E = -107.22008010444043 Eh\n",
      "E = -107.17810666955495 Eh\n",
      "E = -107.13661664981038 Eh\n",
      "E = -107.09589032009946 Eh\n",
      "E = -107.05614942953281 Eh\n",
      "E = -107.01756913686384 Eh\n",
      "Running CCSD\n",
      "E = -103.93126599044346 Eh\n",
      "E = -104.94678383545323 Eh\n",
      "E = -105.71000959675007 Eh\n",
      "E = -106.28131901286704 Eh\n",
      "E = -106.70607934629655 Eh\n",
      "E = -107.01871946142427 Eh\n",
      "E = -107.24557576059613 Eh\n",
      "E = -107.40692403517251 Eh\n",
      "E = -107.51843992571605 Eh\n",
      "E = -107.59226312309218 Eh\n",
      "E = -107.6377904033401 Eh\n",
      "E = -107.66228076231418 Eh\n",
      "E = -107.67132558453562 Eh\n",
      "E = -107.6692183752515 Eh\n",
      "E = -107.65924859665164 Eh\n",
      "E = -107.64393796044939 Eh\n",
      "E = -107.62523347939273 Eh\n",
      "E = -107.60466753549876 Eh\n",
      "E = -107.58349198536185 Eh\n",
      "E = -107.56278913509546 Eh\n",
      "E = -107.5435582941081 Eh\n",
      "E = -107.52677264213 Eh\n",
      "E = -107.51340313761858 Eh\n",
      "E = -107.50441455565813 Eh\n",
      "E = -107.50072191991298 Eh\n",
      "E = -107.50300115099965 Eh\n"
     ]
    }
   ],
   "source": [
    "bond_lengths = np.linspace(0.6,1.8,26)\n",
    "print('Running FCI')\n",
    "FCI_PES = obtain_PES('n2', bond_lengths, basis, method='fci')\n",
    "print('Running HF')\n",
    "HF_PES = obtain_PES('n2', bond_lengths, basis,  method='hf')\n",
    "print('Running CCSD')\n",
    "CCSD_PES = obtain_PES('n2', bond_lengths, basis,  method='ccsd')"
   ]
  },
  {
   "cell_type": "code",
   "execution_count": 8,
   "metadata": {},
   "outputs": [
    {
     "data": {
      "text/plain": [
       "<matplotlib.legend.Legend at 0x7fd1b59cb160>"
      ]
     },
     "execution_count": 8,
     "metadata": {},
     "output_type": "execute_result"
    },
    {
     "data": {
      "image/png": "[encoded data removed]",
      "text/plain": [
       "<Figure size 432x288 with 1 Axes>"
      ]
     },
     "metadata": {
      "needs_background": "light"
     },
     "output_type": "display_data"
    }
   ],
   "source": [
    "plt.title('N2 dissociation, STO-3G')\n",
    "plt.xlabel('R, Angstrom')\n",
    "plt.ylabel('E, Hartree')\n",
    "\n",
    "plt.plot(bond_lengths, FCI_PES, label='FCI')\n",
    "plt.scatter(bond_lengths, HF_PES, label='HF', color='orange')\n",
    "plt.scatter(bond_lengths, CCSD_PES, label='CCSD', color='purple')\n",
    "plt.legend()"
   ]
  },
  {
   "cell_type": "markdown",
   "metadata": {},
   "source": [
    "## NH<sub>3</sub>"
   ]
  },
  {
   "cell_type": "code",
   "execution_count": 4,
   "metadata": {},
   "outputs": [
    {
     "name": "stdout",
     "output_type": "stream",
     "text": [
      "Running FCI\n",
      "E = -52.44294693856378 Eh\n",
      "E = -54.02186571673829 Eh\n",
      "E = -54.836917757371914 Eh\n",
      "E = -55.24927893152996 Eh\n",
      "E = -55.442954204425575 Eh\n",
      "E = -55.51550624532096 Eh\n",
      "E = -55.52037253827211 Eh\n",
      "E = -55.488500869594404 Eh\n",
      "E = -55.438919861637686 Eh\n",
      "E = -55.38352758559788 Eh\n",
      "E = -55.32940782498629 Eh\n",
      "E = -55.280389022541 Eh\n",
      "E = -55.238353570820784 Eh\n",
      "E = -55.20412358666226 Eh\n",
      "E = -55.177779108292846 Eh\n",
      "E = -55.158658572365326 Eh\n",
      "Running HF\n",
      "E = -52.4238823524732 Eh\n",
      "E = -53.997099870426496 Eh\n",
      "E = -54.805156004873 Eh\n",
      "E = -55.20908480827171 Eh\n",
      "E = -55.39249807107991 Eh\n",
      "E = -55.45240918247021 Eh\n",
      "E = -55.441550716846024 Eh\n",
      "E = -55.39003645248074 Eh\n",
      "E = -55.31601299925026 Eh\n",
      "E = -55.23063681617511 Eh\n",
      "E = -55.14063759474523 Eh\n",
      "E = -55.049985832089575 Eh\n",
      "E = -54.96108639627829 Eh\n",
      "E = -54.875540052529 Eh\n",
      "E = -54.79454629440963 Eh\n",
      "E = -54.71914671257696 Eh\n",
      "Running CCSD\n",
      "E = -52.44291428982965 Eh\n",
      "E = -54.021825443963856 Eh\n",
      "E = -54.83686549565489 Eh\n",
      "E = -55.24920439849324 Eh\n",
      "E = -55.442836405289064 Eh\n",
      "E = -55.51530420183659 Eh\n",
      "E = -55.52001524855139 Eh\n",
      "E = -55.487884167281976 Eh\n",
      "E = -55.437919603752356 Eh\n",
      "E = -55.382039097498115 Eh\n",
      "E = -55.32744612930015 Eh\n",
      "E = -55.27836778431833 Eh\n",
      "E = -55.23782673806196 Eh\n",
      "E = -55.20967076013533 Eh\n",
      "E = -55.200868513484814 Eh\n",
      "E = -55.21574516729633 Eh\n"
     ]
    }
   ],
   "source": [
    "bond_lengths = np.linspace(0.5,2.0,16)\n",
    "print('Running FCI')\n",
    "FCI_PES = obtain_PES('nh3', bond_lengths, basis, method='fci')\n",
    "print('Running HF')\n",
    "HF_PES = obtain_PES('nh3', bond_lengths, basis,  method='hf')\n",
    "print('Running CCSD')\n",
    "CCSD_PES = obtain_PES('nh3', bond_lengths, basis,  method='ccsd')"
   ]
  },
  {
   "cell_type": "code",
   "execution_count": 5,
   "metadata": {},
   "outputs": [
    {
     "data": {
      "text/plain": [
       "<matplotlib.legend.Legend at 0x7fa6dbdc9630>"
      ]
     },
     "execution_count": 5,
     "metadata": {},
     "output_type": "execute_result"
    },
    {
     "data": {
      "image/png": "[encoded data removed]",
      "text/plain": [
       "<Figure size 432x288 with 1 Axes>"
      ]
     },
     "metadata": {
      "needs_background": "light"
     },
     "output_type": "display_data"
    }
   ],
   "source": [
    "plt.title('NH3 dissociation, STO-3G')\n",
    "plt.xlabel('R, Angstrom')\n",
    "plt.ylabel('E, Hartree')\n",
    "\n",
    "plt.plot(bond_lengths, FCI_PES, label='FCI')\n",
    "plt.scatter(bond_lengths, HF_PES, label='HF', color='orange')\n",
    "plt.scatter(bond_lengths, CCSD_PES, label='CCSD', color='purple')\n",
    "plt.legend()"
   ]
  },
  {
   "cell_type": "code",
   "execution_count": null,
   "metadata": {},
   "outputs": [],
   "source": []
  }
 ],
 "metadata": {
  "kernelspec": {
   "display_name": "Python 3",
   "language": "python",
   "name": "python3"
  },
  "language_info": {
   "codemirror_mode": {
    "name": "ipython",
    "version": 3
   },
   "file_extension": ".py",
   "mimetype": "text/x-python",
   "name": "python",
   "nbconvert_exporter": "python",
   "pygments_lexer": "ipython3",
   "version": "3.7.1"
  }
 },
 "nbformat": 4,
 "nbformat_minor": 2
}
