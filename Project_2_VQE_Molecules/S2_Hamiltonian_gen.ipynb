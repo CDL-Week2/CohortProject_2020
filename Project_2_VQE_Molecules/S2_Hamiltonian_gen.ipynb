{
 "cells": [
  {
   "cell_type": "markdown",
   "metadata": {},
   "source": [
    "# Generating Qubit Hamiltonians"
   ]
  },
  {
   "cell_type": "code",
   "execution_count": 16,
   "metadata": {},
   "outputs": [],
   "source": [
    "from utility import *\n",
    "from functools import reduce"
   ]
  },
  {
   "cell_type": "markdown",
   "metadata": {},
   "source": [
    "Specify the Qubit Hamiltonian of a molecule by its name, internuclear distances, basis set, and fermion-to-qubit transformation.\n",
    "Here, we show the resulting Hamiltonian for $H_2$ in STO-3G with $1\\overset{\\circ}{A}$ between the $H$ atoms. "
   ]
  },
  {
   "cell_type": "code",
   "execution_count": 17,
   "metadata": {},
   "outputs": [],
   "source": [
    "# Identity \n",
    "I = np.asarray([[1.,0.],[0.,1.]])\n",
    "# Pauli X\n",
    "X = np.asarray([[0.,1.],[1.,0.]])\n",
    "# Pauli Y\n",
    "Y = np.asarray([[0.,-1j],[1j,0.]])\n",
    "# Pauli Z\n",
    "Z = np.asarray([[1, 0], [0, -1]])"
   ]
  },
  {
   "cell_type": "code",
   "execution_count": 18,
   "metadata": {},
   "outputs": [],
   "source": [
    "def operatorfromstring(pauli_string, max_orbitals):\n",
    "    \"\"\"\n",
    "    Generate a many-body operator from a list of single-qubit \n",
    "    pauli matrices.\n",
    "    ---------------------------------------------------------\n",
    "    Input    pauli_string: str , (ex: [X,Z,X,Y,...])\n",
    "    \n",
    "    Output   pauli_op: np.array, shape = [2**N,2**N]\n",
    "    \"\"\"\n",
    "    op_list = []\n",
    "    eye_num = 0\n",
    "    \n",
    "    for k in range(len(pauli_string)):\n",
    "        if (pauli_string[k][1] == 'X'):\n",
    "            op_list.append(X)\n",
    "        elif (pauli_string[k][1] == 'Y'):\n",
    "            op_list.append(Y)\n",
    "        elif (pauli_string[k][1] == 'Z'):\n",
    "            op_list.append(Z)\n",
    "        else:\n",
    "            op_list.append(I)\n",
    "            \n",
    "    if not op_list:\n",
    "            op_list.append(I)\n",
    "            \n",
    "    if len(op_list) < max_orbitals:\n",
    "        eye_num = max_orbitals - len(op_list)\n",
    "        for e in range(eye_num):\n",
    "            op_list.append(I)         \n",
    "\n",
    "    return reduce(np.kron,op_list)\n",
    "\n",
    "def hamiltonianQ(pauli_list, interactions, max_orbitals):\n",
    "    \"\"\"\n",
    "    Generate a many-body hamiltonian\n",
    "    ---------------------------------------------------------\n",
    "    Input    pauli_list: list of pauli strings\n",
    "             interactions: list of interaction strengths\n",
    "    \n",
    "    Output   hamiltonian: np.array, shape = [2**N,2**N]\n",
    "    \"\"\"\n",
    "    N = max_orbitals\n",
    "    hamiltonian = np.zeros((1<<N,1<<N),dtype=complex)\n",
    "    for i,pauli in enumerate(pauli_list):\n",
    "        \n",
    "        hamiltonian += interactions[i]*operatorfromstring(pauli, N)\n",
    "    return hamiltonian\n",
    "\n",
    "def eigensolve(hamiltonian):\n",
    "    \"\"\"\n",
    "    Compute ground state energy and wavefunction\n",
    "    \"\"\"\n",
    "    (eigenvalues,eigenstates) = np.linalg.eigh(hamiltonian)\n",
    "    return eigenvalues[0],eigenstates[:,0]"
   ]
  },
  {
   "cell_type": "code",
   "execution_count": 19,
   "metadata": {
    "tags": []
   },
   "outputs": [
    {
     "name": "stdout",
     "output_type": "stream",
     "text": [
      "-0.32760818967480887 [] +\n",
      "-0.04919764587136755 [X0 X1 Y2 Y3] +\n",
      "0.04919764587136755 [X0 Y1 Y2 X3] +\n",
      "0.04919764587136755 [Y0 X1 X2 Y3] +\n",
      "-0.04919764587136755 [Y0 Y1 X2 X3] +\n",
      "0.13716572937099508 [Z0] +\n",
      "0.15660062488237947 [Z0 Z1] +\n",
      "0.10622904490856075 [Z0 Z2] +\n",
      "0.15542669077992832 [Z0 Z3] +\n",
      "0.13716572937099503 [Z1] +\n",
      "0.15542669077992832 [Z1 Z2] +\n",
      "0.10622904490856075 [Z1 Z3] +\n",
      "-0.13036292057109117 [Z2] +\n",
      "0.16326768673564346 [Z2 Z3] +\n",
      "-0.13036292057109117 [Z3]\n"
     ]
    }
   ],
   "source": [
    "qubit_transf = 'jw' # Jordan-Wigner transformations\n",
    "h2 = get_qubit_hamiltonian(mol='h2', geometry=1, basis='sto3g', qubit_transf=qubit_transf)\n",
    "print(h2)"
   ]
  },
  {
   "cell_type": "markdown",
   "metadata": {},
   "source": [
    "Alternatively, the qubit-tapering technique can find a smaller effective Hamitlonian by subsitituting operators with $\\pm 1$. This technique is detailed in Bravyi's work ([Bravyi et al., \"Tapering off qubits to simulate fermionic Hamiltonians\", arXiv:1701.08213](https://arxiv.org/abs/1701.08213)). "
   ]
  },
  {
   "cell_type": "code",
   "execution_count": 20,
   "metadata": {
    "tags": []
   },
   "outputs": [
    {
     "name": "stdout",
     "output_type": "stream",
     "text": [
      "The effective Hamiltonian:\n",
      " -0.5310513494337641 [] +\n",
      "0.1967905834854702 [X0] +\n",
      "-0.5350572998841725 [Z0]\n"
     ]
    }
   ],
   "source": [
    "print(\"The effective Hamiltonian:\\n {}\".format(taper_hamiltonian(h2, n_spin_orbitals=12, n_electrons=2, qubit_transf=qubit_transf))) "
   ]
  },
  {
   "cell_type": "markdown",
   "metadata": {},
   "source": [
    "We can verify that this new Hamiltonian indeed includes the ground state. "
   ]
  },
  {
   "cell_type": "code",
   "execution_count": 22,
   "metadata": {
    "tags": []
   },
   "outputs": [
    {
     "name": "stdout",
     "output_type": "stream",
     "text": [
      "The ground state energy:\n",
      "E = -1.1011503301329566 Eh\n",
      "\n",
      "The eigenvalues in the effective Hamiltonian: \n",
      " [-1.10115033  0.03904763]\n"
     ]
    }
   ],
   "source": [
    "print(\"The ground state energy:\")\n",
    "obtain_PES('h2', [1], 'sto-3g', 'fci')\n",
    "\n",
    "# Building the matrix representation of the effective Hamiltonian\n",
    "hamiltonian = taper_hamiltonian(h2, n_spin_orbitals=12, n_electrons=2, qubit_transf=qubit_transf)\n",
    "pauli_list = []\n",
    "interaction_list = []\n",
    "max_orbitals = 0\n",
    "#Generate pauli operations list and coefficient list(interactions)\n",
    "for pauli, interaction in hamiltonian.terms.items():\n",
    "    pauli_list.append(pauli)\n",
    "    interaction_list.append(interaction)\n",
    "\n",
    "#Identify Number Max Oribitals    \n",
    "for x in list(hamiltonian.terms.keys()):\n",
    "    _max = 0\n",
    "    for y in x:\n",
    "        if y[0] > _max:\n",
    "            _max = y[0]\n",
    "max_orbitals = _max + 1\n",
    "\n",
    "\n",
    "h2_matrix = hamiltonianQ(pauli_list, interaction_list, max_orbitals)\n",
    "\n",
    "# Obtain the eigenvalues\n",
    "eigvals, _ = np.linalg.eigh(h2_matrix)\n",
    "\n",
    "print(\"\\nThe eigenvalues in the effective Hamiltonian: \\n {}\".format(eigvals))\n",
    "\n",
    "# Obtain the eigenvalues\n",
    "#eigvals, _ = np.linalg.eigh(h2_matrix)\n",
    "#print(\"\\nThe eigenvalues in the effective Hamiltonian: \\n {}\".format(eigvals))\n",
    "\n",
    "#print(hamiltonian.terms)\n",
    "#len(list(hamiltonian.terms.keys())[1])\n",
    "#max(len(x) for x in list(hamiltonian.terms.keys())) \n",
    "\n",
    "#list(hamiltonian.terms.keys())[9]\n",
    "#print(hamiltonian.terms.get(()))\n",
    "#print(pauli_list )\n",
    "#print(operatorfromstring(pauli_list[2], max_orbitals))\n",
    "#print(len(pauli_list[2]))\n",
    "#eye_list = []\n",
    "#eye_num = max_orbitals - len(pauli_list[2])\n",
    "\n",
    "#for e in range(eye_num):\n",
    "  #  eye_list.append(I)\n",
    "\n",
    "#reduce(np.kron,eye_list)"
   ]
  },
  {
   "cell_type": "markdown",
   "metadata": {},
   "source": [
    "# LiH"
   ]
  },
  {
   "cell_type": "code",
   "execution_count": null,
   "metadata": {},
   "outputs": [],
   "source": [
    "#########Assumptions made\n",
    "#Made the assumption based on energy graphs from last notebook\n",
    "#The hamiltonian outputs the number qubits needed to represent the molecule \n",
    "#mapping fermonic states to qubit states --> Qubit representation of hamiltonian\n",
    "#Jordon-Wigner --> Fermion to Qubit Mapping\n",
    "qubit_transf = 'jw' # Jordan-Wigner transformations\n",
    "lih = get_qubit_hamiltonian(mol='lih', geometry=2, basis='sto3g', qubit_transf=qubit_transf)\n",
    "print(lih)"
   ]
  },
  {
   "cell_type": "code",
   "execution_count": null,
   "metadata": {},
   "outputs": [],
   "source": [
    "#########Assumptions made\n",
    "#\n",
    "print(\"The effective Hamiltonian:\\n {}\".format(taper_hamiltonian(lih, n_spin_orbitals=12, n_electrons=4, qubit_transf=qubit_transf))) "
   ]
  },
  {
   "cell_type": "code",
   "execution_count": null,
   "metadata": {},
   "outputs": [],
   "source": [
    "hamiltonian = taper_hamiltonian(lih, n_spin_orbitals=12, n_electrons=4, qubit_transf=qubit_transf)\n",
    "#test = list(hamiltonian)[200]\n",
    "#print(test)\n",
    "#test = str(test)\n",
    "#print(test.split())\n",
    "#test = test[test.find('[')+1 : test.find(']')]\n",
    "#test.split()\n",
    "pauli_list = []\n",
    "interaction_list = []\n",
    "for pauli, interaction in hamiltonian.terms.items():\n",
    "    pauli_list.append(pauli)\n",
    "    interaction_list.append(interaction)\n",
    "    \n",
    "#print(pauli_list[1])\n",
    "#print(interaction_list[1])\n",
    "#operatorfromstring(pauli_list[1])\n",
    "H = hamiltonianQ(pauli_list,interaction_list)"
   ]
  },
  {
   "cell_type": "code",
   "execution_count": null,
   "metadata": {},
   "outputs": [],
   "source": [
    "Z"
   ]
  },
  {
   "cell_type": "code",
   "execution_count": null,
   "metadata": {},
   "outputs": [],
   "source": [
    "print(\"The ground state energy:\")\n",
    "obtain_PES('lih', [1], 'sto-3g', 'fci')\n",
    "\n",
    "# Building the matrix representation of the effective Hamiltonian\n",
    "I, X, Z = np.identity(2), np.array([[0, 1], [1, 0]]), np.array([[1, 0], [0, -1]])\n",
    "h2_matrix = -0.53105134 * I + 0.19679058 * X - 0.53505729 * Z\n",
    "\n",
    "# Obtain the eigenvalues\n",
    "eigvals, _ = np.linalg.eigh(h2_matrix)\n",
    "print(\"\\nThe eigenvalues in the effective Hamiltonian: \\n {}\".format(eigvals))"
   ]
  },
  {
   "cell_type": "markdown",
   "metadata": {},
   "source": [
    "# H4"
   ]
  },
  {
   "cell_type": "code",
   "execution_count": null,
   "metadata": {},
   "outputs": [],
   "source": [
    "#########Assumptions made\n",
    "#Chose geometry value from ground state energy aproximation in first notebook 86 something close to a local min\n",
    "\n",
    "qubit_transf = 'jw' # Jordan-Wigner transformations\n",
    "h4 = get_qubit_hamiltonian(mol='h4', geometry=86, basis='sto3g', qubit_transf=qubit_transf)\n",
    "print(h4)"
   ]
  },
  {
   "cell_type": "code",
   "execution_count": null,
   "metadata": {},
   "outputs": [],
   "source": [
    "print(\"The effective Hamiltonian:\\n {}\".format(taper_hamiltonian(h4, n_spin_orbitals=8, n_electrons=220, qubit_transf=qubit_transf))) "
   ]
  },
  {
   "cell_type": "code",
   "execution_count": null,
   "metadata": {},
   "outputs": [],
   "source": []
  }
 ],
 "metadata": {
  "kernelspec": {
   "display_name": "Python 3",
   "language": "python",
   "name": "python3"
  },
  "language_info": {
   "codemirror_mode": {
    "name": "ipython",
    "version": 3
   },
   "file_extension": ".py",
   "mimetype": "text/x-python",
   "name": "python",
   "nbconvert_exporter": "python",
   "pygments_lexer": "ipython3",
   "version": "3.7.7"
  }
 },
 "nbformat": 4,
 "nbformat_minor": 2
}
