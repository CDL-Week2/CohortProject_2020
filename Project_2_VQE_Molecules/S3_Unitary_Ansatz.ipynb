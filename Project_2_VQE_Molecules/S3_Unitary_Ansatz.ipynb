{
 "cells": [
  {
   "cell_type": "markdown",
   "metadata": {},
   "source": [
    "# Unitary ansatz entering the VQE\n",
    "\n",
    "The final energy output of a VQE calculation will crucially depend on the ansatz/form of the parameterized unitary $\\hat U(\\boldsymbol{\\theta})$ employed in state preparation. Here we review two popular approaches, the unitary coupled cluster and qubit coupled cluster methodologies, and benchmark them for energy calculations of small molecules."
   ]
  },
  {
   "cell_type": "code",
   "execution_count": 1,
   "metadata": {},
   "outputs": [],
   "source": [
    "import numpy as np\n",
    "import tequila as tq\n",
    "from utility import *\n",
    "threshold = 1e-6 #Cutoff for UCC MP2 amplitudes and QCC ranking gradients"
   ]
  },
  {
   "cell_type": "markdown",
   "metadata": {},
   "source": [
    "## Unitary Coupled Cluster (UCC)\n",
    "\n",
    "The UCC ansatz is obtained by 'unitarizing' the traditional coupled cluster ansatz,\n",
    "$$ e^{\\hat T} \\rightarrow e^{\\hat T - \\hat T^\\dagger} \\equiv \\hat U_{\\text{UCC}}$$\n",
    "\n",
    "\n",
    "Due to non-commutativity of terms in $\\hat T - \\hat T^\\dagger$, the UCC ansatz does not have a straightforward decomposition in terms of circuit primitives implementable on the quantum computer. Therefore, to obtain a form which can be compiled, we employ the Trotter approximation. The accuracy of the circuit ansatz relative to the exact UCC operator will be dependent on how many Trotter steps are employed. The number of Trotter steps is commonly set to its minimal value of one to avoid excessive circuit depth."
   ]
  },
  {
   "cell_type": "code",
   "execution_count": 2,
   "metadata": {},
   "outputs": [],
   "source": [
    "trotter_steps = 1"
   ]
  },
  {
   "cell_type": "markdown",
   "metadata": {},
   "source": [
    "### H2 in STO-3G basis\n",
    "\n",
    "Below is a sample VQE simulation using the UCCSD ansatz compiled using a single trotter step for H$_2$ in minimal basis at $R=2.5$ (Angstrom). For comparison, we can run FCI to obtain the true ground state energy.\n"
   ]
  },
  {
   "cell_type": "code",
   "execution_count": 3,
   "metadata": {},
   "outputs": [
    {
     "name": "stdout",
     "output_type": "stream",
     "text": [
      "Number of spin-orbitals (qubits): 4 \n",
      "\n",
      "FCI energy: -0.9360549199436612\n"
     ]
    }
   ],
   "source": [
    "xyz_data = get_molecular_data('h2', geometry=2.5, xyz_format=True)\n",
    "basis='sto-3g'\n",
    "\n",
    "h2 = tq.quantumchemistry.Molecule(geometry=xyz_data, basis_set=basis)\n",
    "\n",
    "print('Number of spin-orbitals (qubits): {} \\n'.format(2*h2.n_orbitals))\n",
    "\n",
    "E_FCI = h2.compute_energy(method='fci')\n",
    "\n",
    "print('FCI energy: {}'.format(E_FCI))"
   ]
  },
  {
   "cell_type": "markdown",
   "metadata": {},
   "source": [
    "The UCCSD VQE optimization is of the form\n",
    "$$E = \\min_{\\boldsymbol{\\theta}} \\langle \\text{HF} | \\hat U_{\\text{UCC}}^\\dagger(\\boldsymbol{\\theta}) \\hat H  \\hat U_{\\text{UCC}} (\\boldsymbol{\\theta}) | \\text{HF} \\rangle $$\n",
    "To expedite the optimization process, we can set the initial guess of the amplitudes to zero, i.e. the optimization will begin at the Hartree Fock state. This heuristic is best suited for when Hartree Fock is believed to be in qualitative agreement with the true ground state. To further alleviate quantum resources, we can estimate the amplitudes using classical electronic structure methods (here, MP2 perturbation theory), and only include the unitaries with non-zero estimated amplitudes."
   ]
  },
  {
   "cell_type": "code",
   "execution_count": 4,
   "metadata": {},
   "outputs": [
    {
     "name": "stdout",
     "output_type": "stream",
     "text": [
      "\n",
      "Hamiltonian has 15 terms\n",
      "\n",
      "\n",
      "Number of UCCSD amplitudes: 1 \n",
      "\n",
      "\n",
      "Starting optimization:\n",
      "\n",
      "Optimizer: <class 'tequila.optimizers.optimizer_scipy.OptimizerSciPy'> \n",
      "backend         : qulacs\n",
      "samples         : None\n",
      "save_history    : True\n",
      "noise           : None\n",
      "\n",
      "Method          : BFGS\n",
      "Objective       : 1 expectationvalues\n",
      "gradient        : 32 expectationvalues\n",
      "\n",
      "active variables : 1\n",
      "\n",
      "E=-0.70294360  angles= {(1, 0, 1, 0): 0.0}  samples= None\n",
      "E=-0.92698008  angles= {(1, 0, 1, 0): -0.5644201636314392}  samples= None\n",
      "E=-0.93354955  angles= {(1, 0, 1, 0): -0.756477668453395}  samples= None\n",
      "E=-0.93605486  angles= {(1, 0, 1, 0): -0.6900732739717247}  samples= None\n",
      "E=-0.93605492  angles= {(1, 0, 1, 0): -0.6904080632337539}  samples= None\n",
      "E=-0.93605492  angles= {(1, 0, 1, 0): -0.6904070264134937}  samples= None\n",
      "Optimization terminated successfully.\n",
      "         Current function value: -0.936055\n",
      "         Iterations: 5\n",
      "         Function evaluations: 6\n",
      "         Gradient evaluations: 6\n",
      "\n",
      "Obtained UCCSD energy: -0.936054919943661\n"
     ]
    }
   ],
   "source": [
    "H = h2.make_hamiltonian()\n",
    "\n",
    "print(\"\\nHamiltonian has {} terms\\n\".format(len(H)))\n",
    "\n",
    "U_UCCSD = h2.make_uccsd_ansatz(initial_amplitudes='MP2',threshold=threshold, trotter_steps=trotter_steps)\n",
    "\n",
    "E = tq.ExpectationValue(H=H, U=U_UCCSD)\n",
    "\n",
    "print('\\nNumber of UCCSD amplitudes: {} \\n'.format(len(E.extract_variables())))\n",
    "\n",
    "print('\\nStarting optimization:\\n')\n",
    "\n",
    "result = tq.minimize(objective=E, method=\"BFGS\", initial_values={k:0.0 for k in E.extract_variables()}, tol=1e-6)\n",
    "\n",
    "print('\\nObtained UCCSD energy: {}'.format(result.energy))"
   ]
  },
  {
   "cell_type": "markdown",
   "metadata": {},
   "source": [
    "We see that the converged UCCSD energy is in exact agreement with the FCI energy, as expected for a $2$-electron system. \n",
    "\n",
    "### H2O in 6-31G basis\n",
    "\n",
    "Now let us try a larger problem of H$_2$O in 6-31G basis. However, we will restrict the active space. The unrestricted problem leads to a $14$-qubit Hamiltonian, and $34$ UCCSD amplitudes to optimize even after neglecting the zero MP2 amplitudes. Therefore, we will remove some orbital degrees of freedom which are less important in accurately describing the electronic structure. By freezing all orbitals other than $0b_1$, $1b_1$, $2a_1$, and $3a_1$, we reduce the problem to an $8$-qubit Hamiltonian with $8$ UCCSD variational amplitudes."
   ]
  },
  {
   "cell_type": "code",
   "execution_count": null,
   "metadata": {},
   "outputs": [],
   "source": [
    "xyz_data = get_molecular_data('h2o', geometry=1, xyz_format=True)\n",
    "\n",
    "basis = '6-31g'\n",
    "active = {'B1':[0,1], 'A1':[2,3]}\n",
    "h2o = tq.quantumchemistry.Molecule(geometry=xyz_data, basis_set = basis, active_orbitals = active)\n",
    "\n",
    "print('Number of spin-orbitals (qubits): {} \\n'.format(2*h2o.n_orbitals))\n",
    "\n",
    "E_FCI = h2o.compute_energy(method='fci')\n",
    "\n",
    "print('FCI energy: {}'.format(E_FCI))"
   ]
  },
  {
   "cell_type": "markdown",
   "metadata": {},
   "source": [
    "We will then run the UCCSD VQE simulation (***warning: tq.minimize will take several minutes - 1 hour + to converge for a VQE instance of this size.*** Smaller active spaces can be employed to lower VQE simulation runtimes)."
   ]
  },
  {
   "cell_type": "code",
   "execution_count": null,
   "metadata": {},
   "outputs": [],
   "source": [
    "H = h2o.make_hamiltonian()\n",
    "\n",
    "print(\"\\nHamiltonian has {} terms\\n\".format(len(H)))\n",
    "\n",
    "U_UCCSD = h2o.make_uccsd_ansatz(initial_amplitudes='MP2',threshold=threshold, trotter_steps=trotter_steps)\n",
    "\n",
    "E = tq.ExpectationValue(H=H, U=U_UCCSD)\n",
    "\n",
    "print('\\nNumber of UCCSD amplitudes: {} \\n'.format(len(E.extract_variables())))\n",
    "\n",
    "print('\\nStarting optimization:\\n')\n",
    "\n",
    "result = tq.minimize(objective=E, method=\"BFGS\", initial_values={k:0.0 for k in E.extract_variables()}, tol=1e-4)\n",
    "\n",
    "print('\\nObtained UCCSD energy: {}'.format(result.energy))"
   ]
  },
  {
   "cell_type": "markdown",
   "metadata": {},
   "source": [
    "We obtain a UCCSD energy within chemical accuracy (< 1.6 miliHartree from FCI energy) for the H$_2$O molecule near equilibrium geometry. As the bond distance approaches the dissociation limit, the energy deviation from FCI is typically expected to increase as electronic correlations increase during covalent bond-breaking. Furthermore, as HF becomes energetically more distant from the FCI wavefunction, the initial guess of all amplitudes being zero may lead to a local minimum. One can then instead initialize the amplitudes using random guesses, and repeat for $n$ samples to attempt to find the global minimum. To facilitate this, one can run the commented lines below. This will execute $n$ instances of tq.minimize for uniformly random initial parameters in interval $[0, 2\\pi]$ and return the lowest optimization result."
   ]
  },
  {
   "cell_type": "code",
   "execution_count": null,
   "metadata": {},
   "outputs": [],
   "source": [
    "#n=10\n",
    "#result = minimize_E_random_guesses(objective=E, method='BFGS', tol=1e-4, n=n)"
   ]
  },
  {
   "cell_type": "markdown",
   "metadata": {},
   "source": [
    "## Qubit Coupled Cluster (QCC)\n",
    "\n",
    "In contrast to UCC, the QCC methodology makes no direct reference to fermionic algebra and seeks to construct an efficient ansatz directly in qubit-space by finding multi-qubit Pauli strings (entanglers) which lower energy. This is done through an energy-lowering heuristic employing the energy gradient with respect to a Pauli strings variational amplitude. As opposed to UCCSD, the circuit depth and number of parameter is chosen to meet hardware limitations, i.e. one must choose how many exponentiated Pauli strings will be entering the QCC ansatz.\n",
    "\n",
    "### H2 in STO-3G basis\n",
    "\n",
    "Below we perform the entangler screening protocol for H2 in minimal basis, and obtain one grouping of entanglers with non-zero energy gradient. We then select one of them to be used in the QCC VQE simulation."
   ]
  },
  {
   "cell_type": "code",
   "execution_count": 5,
   "metadata": {},
   "outputs": [
    {
     "name": "stdout",
     "output_type": "stream",
     "text": [
      "\n",
      "Hamiltonian has 15 terms\n",
      "\n",
      "Grouping gradient magnitudes (Grouping : Gradient magnitude):\n",
      "1 : 0.2822\n",
      "\n",
      "Selected entanglers:\n",
      "1.0 [X0 Y1 X2 X3]\n"
     ]
    }
   ],
   "source": [
    "xyz_data = get_molecular_data('h2', geometry=2.5, xyz_format=True)\n",
    "basis='sto-3g'\n",
    "\n",
    "h2 = tq.quantumchemistry.Molecule(geometry=xyz_data, basis_set='sto-3g')\n",
    "\n",
    "hf_reference = hf_occ(2*h2.n_orbitals, h2.n_electrons)\n",
    "\n",
    "H = h2.make_hamiltonian()\n",
    "\n",
    "print(\"\\nHamiltonian has {} terms\\n\".format(len(H)))\n",
    "\n",
    "#Define number of entanglers to enter ansatz\n",
    "n_ents = 1\n",
    "\n",
    "#Rank entanglers using energy gradient criterion\n",
    "ranked_entangler_groupings = generate_QCC_gradient_groupings(H.to_openfermion(), \n",
    "                                                             2*h2.n_orbitals, \n",
    "                                                             hf_reference, \n",
    "                                                             cutoff=threshold)\n",
    "\n",
    "print('Grouping gradient magnitudes (Grouping : Gradient magnitude):')\n",
    "for i in range(len(ranked_entangler_groupings)):\n",
    "    print('{} : {}'.format(i+1,ranked_entangler_groupings[i][1]))\n",
    "\n",
    "\n",
    "entanglers = get_QCC_entanglers(ranked_entangler_groupings, n_ents, 2*h2.n_orbitals)\n",
    "\n",
    "print('\\nSelected entanglers:')\n",
    "for ent in entanglers:\n",
    "    print(ent)\n",
    "\n"
   ]
  },
  {
   "cell_type": "markdown",
   "metadata": {},
   "source": [
    "Once the QCC ranking procedure has been ran, we can simulate the QCC VQE optimization with the generated entanglers. The VQE optimization for the QCC ansatz is of the form\n",
    "$$E = \\min_{\\boldsymbol{\\Omega}, \\boldsymbol{\\tau}} \\langle \\boldsymbol{\\Omega} | U_{\\text{ENT}}^\\dagger (\\boldsymbol{\\tau}) \\hat H  U_{\\text{ENT}} (\\boldsymbol{\\tau}) | \\boldsymbol{\\Omega} \\rangle $$\n",
    "where $\\boldsymbol{\\Omega}$ denote collective Euler angles parameterizing single-qubit rotations, and $\\boldsymbol{\\tau}$ are entangler amplitudes. "
   ]
  },
  {
   "cell_type": "code",
   "execution_count": 6,
   "metadata": {},
   "outputs": [
    {
     "name": "stdout",
     "output_type": "stream",
     "text": [
      "Optimizer: <class 'tequila.optimizers.optimizer_scipy.OptimizerSciPy'> \n",
      "backend         : qulacs\n",
      "samples         : None\n",
      "save_history    : True\n",
      "noise           : None\n",
      "\n",
      "Method          : BFGS\n",
      "Objective       : 1 expectationvalues\n",
      "gradient        : 18 expectationvalues\n",
      "\n",
      "active variables : 9\n",
      "\n",
      "E=-0.70294360  angles= {beta_0: 3.141592653589793, gamma_0: 0.0, beta_1: 3.141592653589793, gamma_1: 0.0, beta_2: 0.0, gamma_2: 0.0, beta_3: 0.0, gamma_3: 0.0, tau_0: 0.0}  samples= None\n",
      "E=-0.77938639  angles= {beta_0: 3.141592653589793, gamma_0: 0.0, beta_1: 3.141592653589793, gamma_1: 0.0, beta_2: 0.0, gamma_2: 0.0, beta_3: 0.0, gamma_3: 0.0, tau_0: 0.2822100520133972}  samples= None\n",
      "E=-0.93592356  angles= {beta_0: 3.141592653589793, gamma_0: 0.0, beta_1: 3.141592653589793, gamma_1: 0.0, beta_2: 0.0, gamma_2: 0.0, beta_3: 0.0, gamma_3: 0.0, tau_0: 1.411050260066986}  samples= None\n",
      "E=-0.93603455  angles= {beta_0: 3.141592653589793, gamma_0: 0.0, beta_1: 3.141592653589793, gamma_1: 0.0, beta_2: 0.0, gamma_2: 0.0, beta_3: 0.0, gamma_3: 0.0, tau_0: 1.3689076316049542}  samples= None\n",
      "E=-0.93605492  angles= {beta_0: 3.141592653589793, gamma_0: 0.0, beta_1: 3.141592653589793, gamma_1: 0.0, beta_2: 0.0, gamma_2: 0.0, beta_3: 0.0, gamma_3: 0.0, tau_0: 1.380815153240581}  samples= None\n",
      "Optimization terminated successfully.\n",
      "         Current function value: -0.936055\n",
      "         Iterations: 3\n",
      "         Function evaluations: 5\n",
      "         Gradient evaluations: 5\n",
      "\n",
      "Obtained QCC energy (1 entanglers): -0.9360549199434915\n"
     ]
    }
   ],
   "source": [
    "#Mean-field part of U (Omega):    \n",
    "U_MF = construct_QMF_ansatz(n_qubits = 2*h2.n_orbitals)\n",
    "#Entangling part of U:\n",
    "U_ENT = construct_QCC_ansatz(entanglers)\n",
    "\n",
    "U_QCC = U_MF + U_ENT\n",
    "\n",
    "E = tq.ExpectationValue(H=H, U=U_QCC)\n",
    "\n",
    "initial_vals = init_qcc_params(hf_reference, E.extract_variables())\n",
    "\n",
    "#Minimize wrt the entangler amplitude and MF angles:\n",
    "result = tq.minimize(objective=E, method=\"BFGS\", initial_values=initial_vals, tol=1.e-6)\n",
    "\n",
    "print('\\nObtained QCC energy ({} entanglers): {}'.format(len(entanglers), result.energy))"
   ]
  },
  {
   "cell_type": "markdown",
   "metadata": {},
   "source": [
    "We see that the QCC energy converged to the FCI energy with only a single entangler! \n",
    "\n",
    "### H2O in 6-31G basis\n",
    "\n",
    "Let us move on to the problem of H$_2$O in 6-31G basis using the same active space as the UCCSD example."
   ]
  },
  {
   "cell_type": "code",
   "execution_count": 7,
   "metadata": {},
   "outputs": [
    {
     "name": "stdout",
     "output_type": "stream",
     "text": [
      "There are known issues with some psi4 methods and frozen virtual orbitals. Proceed with fingers crossed for hf.\n",
      "\n",
      "Hamiltonian has 185 terms\n",
      "\n",
      "Grouping gradient magnitudes (Grouping : Gradient magnitude):\n",
      "1 : 0.0758\n",
      "2 : 0.0371\n",
      "3 : 0.0371\n",
      "4 : 0.031\n",
      "5 : 0.0301\n",
      "6 : 0.0249\n",
      "7 : 0.0198\n",
      "8 : 0.0198\n",
      "9 : 0.0173\n",
      "10 : 0.0173\n",
      "11 : 0.0\n",
      "12 : 0.0\n",
      "\n",
      "Selected entanglers:\n",
      "1.0 [X0 Y1 X6 X7]\n",
      "1.0 [X0 Y3 X5 X6]\n",
      "1.0 [X1 Y2 X4 X7]\n",
      "1.0 [X2 Y3 X4 X5]\n",
      "1.0 [X0 Y1 X4 X5]\n",
      "1.0 [X2 Y3 X6 X7]\n"
     ]
    }
   ],
   "source": [
    "xyz_data = get_molecular_data('h2o', geometry=1, xyz_format=True)\n",
    "\n",
    "basis = '6-31g'\n",
    "active = {'B1':[0,1], 'A1':[2,3]}\n",
    "h2o = tq.quantumchemistry.Molecule(geometry=xyz_data, basis_set = basis, active_orbitals = active)\n",
    "hf_reference = hf_occ(2*h2o.n_orbitals, h2o.n_electrons)\n",
    "\n",
    "\n",
    "H = h2o.make_hamiltonian()\n",
    "\n",
    "print(\"\\nHamiltonian has {} terms\\n\".format(len(H)))\n",
    "\n",
    "#Define number of entanglers to enter ansatz\n",
    "n_ents = 6\n",
    "\n",
    "#Rank entanglers using energy gradient criterion\n",
    "ranked_entangler_groupings = generate_QCC_gradient_groupings(H.to_openfermion(), \n",
    "                                                             2*h2o.n_orbitals, \n",
    "                                                             hf_reference, \n",
    "                                                             cutoff=threshold)\n",
    "\n",
    "print('Grouping gradient magnitudes (Grouping : Gradient magnitude):')\n",
    "for i in range(len(ranked_entangler_groupings)):\n",
    "    print('{} : {}'.format(i+1,ranked_entangler_groupings[i][1]))\n",
    "\n",
    "entanglers = get_QCC_entanglers(ranked_entangler_groupings, n_ents, 2*h2o.n_orbitals)\n",
    "\n",
    "print('\\nSelected entanglers:')\n",
    "for ent in entanglers:\n",
    "    print(ent)"
   ]
  },
  {
   "cell_type": "markdown",
   "metadata": {},
   "source": [
    "With the 6 chosen entanglers, we can then run the QCC VQE simulation."
   ]
  },
  {
   "cell_type": "code",
   "execution_count": 8,
   "metadata": {},
   "outputs": [
    {
     "name": "stdout",
     "output_type": "stream",
     "text": [
      "Optimizer: <class 'tequila.optimizers.optimizer_scipy.OptimizerSciPy'> \n",
      "backend         : qulacs\n",
      "samples         : None\n",
      "save_history    : True\n",
      "noise           : None\n",
      "\n",
      "Method          : BFGS\n",
      "Objective       : 1 expectationvalues\n",
      "gradient        : 44 expectationvalues\n",
      "\n",
      "active variables : 22\n",
      "\n",
      "E=-75.98071144  angles= {beta_0: 3.141592653589793, gamma_0: 0.0, beta_1: 3.141592653589793, gamma_1: 0.0, beta_2: 3.141592653589793, gamma_2: 0.0, beta_3: 3.141592653589793, gamma_3: 0.0, beta_4: 0.0, gamma_4: 0.0, beta_5: 0.0, gamma_5: 0.0, beta_6: 0.0, gamma_6: 0.0, beta_7: 0.0, gamma_7: 0.0, tau_0: 0.0, tau_1: 0.0, tau_2: 0.0, tau_3: 0.0, tau_4: 0.0, tau_5: 0.0}  samples= None\n",
      "E=-75.98783364  angles= {beta_0: 3.141592653589793, gamma_0: 0.0, beta_1: 3.141592653589793, gamma_1: 0.0, beta_2: 3.141592653589793, gamma_2: 0.0, beta_3: 3.141592653589793, gamma_3: 0.0, beta_4: 0.0, gamma_4: 0.0, beta_5: 0.0, gamma_5: 0.0, beta_6: 0.0, gamma_6: 0.0, beta_7: 0.0, gamma_7: 0.0, tau_0: 0.07584381103515625, tau_1: 0.037105560302734375, tau_2: 0.037105560302734375, tau_3: 0.030994415283203125, tau_4: 0.030078887939453125, tau_5: 0.02489471435546875}  samples= None\n",
      "E=-75.98857329  angles= {beta_0: 3.141592653589793, gamma_0: 0.0, beta_1: 3.141592653589793, gamma_1: 0.0, beta_2: 3.141592653589793, gamma_2: 0.0, beta_3: 3.141592653589793, gamma_3: 0.0, beta_4: 0.0, gamma_4: 0.0, beta_5: 0.0, gamma_5: 0.0, beta_6: 0.0, gamma_6: 0.0, beta_7: 0.0, gamma_7: 0.0, tau_0: 0.10182924911229851, tau_1: 0.05852392400836017, tau_2: 0.059290463750962315, tau_3: 0.04690411561128141, tau_4: 0.04177333199687153, tau_5: 0.0349288019865621}  samples= None\n",
      "E=-75.98858260  angles= {beta_0: 3.141592653589793, gamma_0: 0.0, beta_1: 3.141592653589793, gamma_1: 0.0, beta_2: 3.141592653589793, gamma_2: 0.0, beta_3: 3.141592653589793, gamma_3: 0.0, beta_4: 0.0, gamma_4: 0.0, beta_5: 0.0, gamma_5: 0.0, beta_6: 0.0, gamma_6: 0.0, beta_7: 0.0, gamma_7: 0.0, tau_0: 0.09969372766103793, tau_1: 0.060473123892992676, tau_2: 0.06154808363690652, tau_3: 0.04783285764604097, tau_4: 0.04149071210908681, tau_5: 0.034615428738700584}  samples= None\n",
      "E=-75.98858369  angles= {beta_0: 3.141592653589793, gamma_0: 0.0, beta_1: 3.141592653589793, gamma_1: 0.0, beta_2: 3.141592653589793, gamma_2: 0.0, beta_3: 3.141592653589793, gamma_3: 0.0, beta_4: 0.0, gamma_4: 0.0, beta_5: 0.0, gamma_5: 0.0, beta_6: 0.0, gamma_6: 0.0, beta_7: 0.0, gamma_7: 0.0, tau_0: 0.09850072062214467, tau_1: 0.06125613956121948, tau_2: 0.06252892067861264, tau_3: 0.048183794335591834, tau_4: 0.04135121252205053, tau_5: 0.034404300286443194}  samples= None\n",
      "Optimization terminated successfully.\n",
      "         Current function value: -75.988584\n",
      "         Iterations: 4\n",
      "         Function evaluations: 5\n",
      "         Gradient evaluations: 5\n",
      "\n",
      "Obtained QCC energy (6 entanglers): -75.98858368804696\n"
     ]
    }
   ],
   "source": [
    "#Mean-field part of U (Omega):    \n",
    "U_MF = construct_QMF_ansatz(n_qubits = 2*h2o.n_orbitals)\n",
    "#Entangling part of U:\n",
    "U_ENT = construct_QCC_ansatz(entanglers)\n",
    "\n",
    "U_QCC = U_MF + U_ENT\n",
    "\n",
    "E = tq.ExpectationValue(H=H, U=U_QCC)\n",
    "\n",
    "initial_vals = init_qcc_params(hf_reference, E.extract_variables())\n",
    "\n",
    "#Minimize wrt the entangler amplitude and MF angles:\n",
    "result = tq.minimize(objective=E, method=\"BFGS\", initial_values=initial_vals, tol=1.e-4)\n",
    "\n",
    "\n",
    "print('\\nObtained QCC energy ({} entanglers): {}'.format(len(entanglers), result.energy))"
   ]
  },
  {
   "cell_type": "markdown",
   "metadata": {},
   "source": [
    "We obtain chemical accuracy for water near equilibrium geometry with only 6 entanglers. The obtained energy is not as accurate as that of UCCSD for this problem, however the QCC optimization may be performed at a fraction of the UCCSD circuit depth. One can also increase the number of entanglers entering the QCC ansatz to increase accuracy. As a final check, one can always run $n$ VQE trials with random initial guesses to test if the optimization fell into a local minimum. ***(Warning: Completing n=10 trials may take a few minutes for this VQE instance).***"
   ]
  },
  {
   "cell_type": "code",
   "execution_count": 9,
   "metadata": {},
   "outputs": [
    {
     "name": "stdout",
     "output_type": "stream",
     "text": [
      "Optimizer: <class 'tequila.optimizers.optimizer_scipy.OptimizerSciPy'> \n",
      "backend         : qulacs\n",
      "samples         : None\n",
      "save_history    : True\n",
      "noise           : None\n",
      "\n",
      "Method          : BFGS\n",
      "Objective       : 1 expectationvalues\n",
      "gradient        : 44 expectationvalues\n",
      "\n",
      "active variables : 22\n",
      "\n",
      "E=-74.43748738  angles= {beta_0: 5.320149394895053, gamma_0: 2.5859452883985776, beta_1: 3.4083353727627923, gamma_1: 3.344281811437862, beta_2: 1.6134407215884572, gamma_2: 5.618693061365673, beta_3: 5.654348105217544, gamma_3: 3.504154165506626, beta_4: 1.6332826269055352, gamma_4: 5.697698883307548, beta_5: 6.045395128321983, gamma_5: 6.184976471948195, beta_6: 2.653513459816145, gamma_6: 1.7857608794352495, beta_7: 5.112343103876155, gamma_7: 3.6156935707636704, tau_0: 4.234019638864681, tau_1: 3.948210212640859, tau_2: 2.2461738274448497, tau_3: 1.837032289195928, tau_4: 0.3863865887103037, tau_5: 0.37897790407856574}  samples= None\n",
      "E=-74.58217295  angles= {beta_0: 5.272259685422397, gamma_0: 2.5913774173048276, beta_1: 3.4103495329190423, gamma_1: 3.3343140074827837, beta_2: 1.884215562897051, gamma_2: 5.603960700525829, beta_3: 5.579168051506606, gamma_3: 3.5043334562781103, beta_4: 1.6852273595715508, gamma_4: 5.611635498297782, beta_5: 6.021923296046593, gamma_5: 6.169690980004836, beta_6: 2.653593568458723, gamma_6: 1.7857685088297808, beta_7: 5.1708796334171705, gamma_7: 3.6427207008906235, tau_0: 4.1563485878392905, tau_1: 4.041536781244375, tau_2: 2.4308356926792247, tau_3: 1.702053041149053, tau_4: 0.3980023418841318, tau_5: 0.4247809741469251}  samples= None\n",
      "E=-74.73851284  angles= {beta_0: 5.147470882730271, gamma_0: 2.6297322101971012, beta_1: 3.3701059237217565, gamma_1: 3.2992422254933595, beta_2: 2.5216798566435443, gamma_2: 5.572201195044901, beta_3: 5.470189507746371, gamma_3: 3.5075026507478673, beta_4: 1.8050635095352336, gamma_4: 5.399632371315304, beta_5: 5.955722224941819, gamma_5: 6.119082044477287, beta_6: 2.6465085232742016, gamma_6: 1.7909246058024495, beta_7: 5.346873075504102, gamma_7: 3.732351955124726, tau_0: 3.8562160626680577, tau_1: 4.2404844592506326, tau_2: 2.8962326685990942, tau_3: 1.5339924278465116, tau_4: 0.3815009878064455, tau_5: 0.4461003088535913}  samples= None\n",
      "E=-74.80024536  angles= {beta_0: 5.09212194775197, gamma_0: 2.6431462586135606, beta_1: 3.3025238189854274, gamma_1: 3.284780568078312, beta_2: 2.693248912285669, gamma_2: 5.5667012786954535, beta_3: 5.434135789095387, gamma_3: 3.5138225089317867, beta_4: 1.8331367614438223, gamma_4: 5.3248955455934075, beta_5: 5.9307707848377165, gamma_5: 6.10413008686775, beta_6: 2.6344975393050336, gamma_6: 1.7966906546897838, beta_7: 5.441983992537644, gamma_7: 3.7690296005375292, tau_0: 3.6640141711102667, tau_1: 4.22705668275885, tau_2: 2.9739227119727616, tau_3: 1.6461456288693055, tau_4: 0.33469063306000024, tau_5: 0.4177431455115685}  samples= None\n",
      "E=-74.95032000  angles= {beta_0: 4.870726207838763, gamma_0: 2.6968024522793974, beta_1: 3.0321954000401106, gamma_1: 3.226933938418121, beta_2: 3.379525134854168, gamma_2: 5.544701613297662, beta_3: 5.289920914491452, gamma_3: 3.539101941667464, beta_4: 1.9454297690781772, gamma_4: 5.025948242705821, beta_5: 5.830965024421309, gamma_5: 6.044322256429599, beta_6: 2.5864536034283625, gamma_6: 1.8197548502391208, beta_7: 5.822427660671809, gamma_7: 3.915740182188742, tau_0: 2.895206604879103, tau_1: 4.173345576791718, tau_2: 3.284682885467431, tau_3: 2.0947584329604814, tau_4: 0.14744921407421924, tau_5: 0.3043144921434772}  samples= None\n",
      "E=-75.07072628  angles= {beta_0: 4.668243649344066, gamma_0: 2.666257411652862, beta_1: 2.990973654839884, gamma_1: 3.2117461366461724, beta_2: 3.4233068850624675, gamma_2: 5.53310237309088, beta_3: 5.249935843823133, gamma_3: 3.556116983006296, beta_4: 1.9583663688207265, gamma_4: 4.953944568529438, beta_5: 5.834021753679839, gamma_5: 6.078325905976994, beta_6: 2.596011354647783, gamma_6: 1.8267741095691572, beta_7: 6.006393200639495, gamma_7: 3.946676888220108, tau_0: 2.755419987799815, tau_1: 4.107870079486481, tau_2: 3.246403709845676, tau_3: 2.517678738431883, tau_4: 0.04362098460220026, tau_5: 0.18185045599971272}  samples= None\n",
      "E=-75.23815996  angles= {beta_0: 4.366064011354263, gamma_0: 2.5997721141122034, beta_1: 3.026660821259382, gamma_1: 3.207233125367103, beta_2: 3.1649852064530517, gamma_2: 5.525925970024979, beta_3: 5.219334762268851, gamma_3: 3.568956251500694, beta_4: 1.9344803056626723, gamma_4: 4.950927499622284, beta_5: 5.887023125430854, gamma_5: 6.159906421475474, beta_6: 2.623966595644497, gamma_6: 1.8308664129820917, beta_7: 6.170589198860107, gamma_7: 3.94500040363795, tau_0: 2.8839312684047265, tau_1: 4.016452723430621, tau_2: 3.027067109179275, tau_3: 3.0893167641972075, tau_4: -0.045610346160000995, tau_5: 0.006312267047933501}  samples= None\n",
      "E=-75.32101355  angles= {beta_0: 3.8788025036531995, gamma_0: 2.541833007235767, beta_1: 3.05599130285212, gamma_1: 3.194230337746431, beta_2: 3.094279635947372, gamma_2: 5.517001496534185, beta_3: 5.146387942726697, gamma_3: 3.5804003108492246, beta_4: 1.9160376459901878, gamma_4: 4.902079519042854, beta_5: 5.960417913722328, gamma_5: 6.231819125538975, beta_6: 2.625906281137647, gamma_6: 1.8372774529855462, beta_7: 6.376186983198285, gamma_7: 3.966295498394262, tau_0: 3.022874146068119, tau_1: 3.9544525302962605, tau_2: 3.1021760476137636, tau_3: 3.575910749916638, tau_4: -0.10114752967946297, tau_5: -0.13865270640496874}  samples= None\n",
      "E=-75.37446169  angles= {beta_0: 3.5945929373936427, gamma_0: 2.4915847857813658, beta_1: 3.1590050819106947, gamma_1: 3.204228548524297, beta_2: 2.8881505267503633, gamma_2: 5.517509095479773, beta_3: 5.204376325133567, gamma_3: 3.5822304083017102, beta_4: 1.8237033478762428, gamma_4: 4.965855687296796, beta_5: 6.0639782534285835, gamma_5: 6.292902393560093, beta_6: 2.609830903132176, gamma_6: 1.834377390556396, beta_7: 6.34719811500776, gamma_7: 3.935548666049118, tau_0: 3.3176676022443345, tau_1: 3.8205121395928607, tau_2: 3.1005785061471722, tau_3: 3.5645027675206236, tau_4: -0.016126441443775924, tau_5: -0.13996253833338387}  samples= None\n",
      "E=-75.43356389  angles= {beta_0: 3.2670609086281837, gamma_0: 2.4697097985921133, beta_1: 3.1929188125781995, gamma_1: 3.199157349131027, beta_2: 2.93739660897846, gamma_2: 5.504952711237248, beta_3: 5.223361674088508, gamma_3: 3.5814262468134443, beta_4: 1.747601510909307, gamma_4: 4.946688007658831, beta_5: 6.134662503956715, gamma_5: 6.324599501075926, beta_6: 2.5686931493181167, gamma_6: 1.835050650906995, beta_7: 6.379750853232915, gamma_7: 3.944925545023726, tau_0: 3.2754338383720407, tau_1: 3.677662388909237, tau_2: 3.217891176254668, tau_3: 3.4656953587666295, tau_4: 0.037006873955443546, tau_5: -0.12241223012578695}  samples= None\n",
      "E=-75.48207228  angles= {beta_0: 2.9919152680148104, gamma_0: 2.460757841255334, beta_1: 3.200855801867747, gamma_1: 3.196153789431622, beta_2: 3.03431074792679, gamma_2: 5.492726347788651, beta_3: 5.268733860532011, gamma_3: 3.5758844271609083, beta_4: 1.582656322387821, gamma_4: 4.9394049271923315, beta_5: 6.224058812920516, gamma_5: 6.342602119406408, beta_6: 2.482854302793457, gamma_6: 1.8343759189546665, beta_7: 6.340888384365074, gamma_7: 3.9506783181110423, tau_0: 3.125355248133309, tau_1: 3.4716863310446353, tau_2: 3.2502553051854286, tau_3: 3.178014624119054, tau_4: 0.06955716272621418, tau_5: -0.04764134702381874}  samples= None\n",
      "E=-75.49883681  angles= {beta_0: 3.0137218763784213, gamma_0: 2.461568611019242, beta_1: 3.182468990676075, gamma_1: 3.198667257408151, beta_2: 3.053031508908457, gamma_2: 5.490617109996552, beta_3: 5.278535664273978, gamma_3: 3.5724208674592264, beta_4: 1.468052017313167, gamma_4: 4.955761001858003, beta_5: 6.253376182817801, gamma_5: 6.342655565300677, beta_6: 2.4301453532148307, gamma_6: 1.8333878828471217, beta_7: 6.295619796158444, gamma_7: 3.944630287755917, tau_0: 3.1055626135755294, tau_1: 3.385602221933797, tau_2: 3.193101208387703, tau_3: 3.062012509340856, tau_4: 0.047920480555511104, tau_5: -0.010731314950293051}  samples= None\n",
      "E=-75.52203331  angles= {beta_0: 3.007560549937996, gamma_0: 2.452383530301251, beta_1: 3.1379627386257662, gamma_1: 3.2011876360678393, beta_2: 3.074546181389856, gamma_2: 5.4841876994266805, beta_3: 5.259620219263212, gamma_3: 3.5683858580878596, beta_4: 1.1797631607378856, gamma_4: 4.979321989141878, beta_5: 6.321488602390763, gamma_5: 6.355440496566378, beta_6: 2.2922072113865255, gamma_6: 1.833633815537506, beta_7: 6.258136244323313, gamma_7: 3.9370255287890625, tau_0: 3.116796879630961, tau_1: 3.16982155103166, tau_2: 3.1005896113028393, tau_3: 2.985061615586539, tau_4: -0.0012636848750264898, tau_5: 0.025932225144094823}  samples= None\n"
     ]
    },
    {
     "name": "stdout",
     "output_type": "stream",
     "text": [
      "E=-75.54320860  angles= {beta_0: 3.093021828585536, gamma_0: 2.448281713054551, beta_1: 3.082479333389019, gamma_1: 3.2014700487841123, beta_2: 3.119887030506886, gamma_2: 5.477699103646955, beta_3: 5.17020009879323, gamma_3: 3.565273017413072, beta_4: 0.8647541780094752, gamma_4: 4.98977368030038, beta_5: 6.35999281713991, gamma_5: 6.359814891095457, beta_6: 2.1321326941486993, gamma_6: 1.8363910425405858, beta_7: 6.242807077720001, gamma_7: 3.9356582625163017, tau_0: 3.111649338061929, tau_1: 2.9929389370829624, tau_2: 3.061521554446774, tau_3: 2.9893672515826255, tau_4: -0.027474990351419426, tau_5: 0.05037073915948967}  samples= None\n",
      "E=-75.57375129  angles= {beta_0: 3.123269386954152, gamma_0: 2.4324997696769026, beta_1: 3.020718982368158, gamma_1: 3.198599301079864, beta_2: 3.1681729114689583, gamma_2: 5.465813959713354, beta_3: 4.946011714265944, gamma_3: 3.564247889412894, beta_4: 0.34932605457770527, gamma_4: 4.99114917436966, beta_5: 6.419525325254349, gamma_5: 6.377996586489579, beta_6: 1.8689904670230657, gamma_6: 1.8422676149076815, beta_7: 6.263234205794501, gamma_7: 3.94009627641208, tau_0: 3.116839486502063, tau_1: 2.741624523915105, tau_2: 3.04501763386095, tau_3: 3.120599448189771, tau_4: -0.04227520389047069, tau_5: 0.05662961281178046}  samples= None\n",
      "E=-75.62075955  angles= {beta_0: 3.305422338456754, gamma_0: 2.4278650034974536, beta_1: 2.975272466820684, gamma_1: 3.1939225947875887, beta_2: 3.2383570926317016, gamma_2: 5.454649781222218, beta_3: 4.535408584822602, gamma_3: 3.5656613199378064, beta_4: -0.21876277428869706, gamma_4: 4.979784460316144, beta_5: 6.420876259201822, gamma_5: 6.379389051853941, beta_6: 1.5542081814039328, gamma_6: 1.8501237792554546, beta_7: 6.295661998075867, gamma_7: 3.950723906608561, tau_0: 3.100949846022718, tau_1: 2.649343211104149, tau_2: 3.0850141604089476, tau_3: 3.3315681788401426, tau_4: -0.03251663168784412, tau_5: 0.0422282651644815}  samples= None\n",
      "E=-75.68982881  angles= {beta_0: 3.531482562435562, gamma_0: 2.4281528088268733, beta_1: 2.969016461243465, gamma_1: 3.187965173050544, beta_2: 3.3148653154973444, gamma_2: 5.4419004837462, beta_3: 3.9335004172952712, gamma_3: 3.5704814324525653, beta_4: -0.8437237924576552, gamma_4: 4.96359125734159, beta_5: 6.3829997622140455, gamma_5: 6.376689138708922, beta_6: 1.1390573195935827, gamma_6: 1.8572751525966795, beta_7: 6.334338996975467, gamma_7: 3.964333063617506, tau_0: 3.078442688933668, tau_1: 2.7229291854539146, tau_2: 3.1691176227384004, tau_3: 3.5493884827330677, tau_4: 0.01744180268032916, tau_5: 0.008737790203398564}  samples= None\n",
      "E=-75.76644223  angles= {beta_0: 3.723248110142801, gamma_0: 2.4347056464463606, beta_1: 3.028954364058355, gamma_1: 3.1849829341953195, beta_2: 3.388035625527974, gamma_2: 5.431556803032464, beta_3: 3.331365265648217, gamma_3: 3.5744026855941406, beta_4: -1.2570682046037094, gamma_4: 4.956254112690701, beta_5: 6.304610999540252, gamma_5: 6.358612129620976, beta_6: 0.7104841687685977, gamma_6: 1.8635130955956902, beta_7: 6.333463338979928, gamma_7: 3.9727049826692187, tau_0: 3.0427569432221246, tau_1: 3.0233296937028244, tau_2: 3.301919452987222, tau_3: 3.5209262971500674, tau_4: 0.10013583923308578, tau_5: 0.0012680323428314669}  samples= None\n",
      "E=-75.86198479  angles= {beta_0: 3.4402355991647906, gamma_0: 2.419974536576625, beta_1: 3.1541164435432254, gamma_1: 3.18807783508627, beta_2: 3.3150067781147707, gamma_2: 5.42964530122355, beta_3: 3.2815878097885305, gamma_3: 3.5759334429570853, beta_4: -1.0849341792577005, gamma_4: 4.972356936775805, beta_5: 6.298384213167208, gamma_5: 6.369160825006652, beta_6: 0.6345081726621972, gamma_6: 1.8634742292647137, beta_7: 6.307581586262086, gamma_7: 3.964364463380791, tau_0: 3.05308676867888, tau_1: 3.2079256755708663, tau_2: 3.342282989371604, tau_3: 3.227389973786415, tau_4: 0.13109330840293898, tau_5: 0.017503956200712517}  samples= None\n",
      "E=-75.92376753  angles= {beta_0: 2.978112069081067, gamma_0: 2.3899155436319575, beta_1: 3.2509336660485126, gamma_1: 3.1872601393866247, beta_2: 3.1625827483493025, gamma_2: 5.427891191355822, beta_3: 3.2340681132142723, gamma_3: 3.582619654401061, beta_4: -0.7608388095207895, gamma_4: 4.97300638390459, beta_5: 6.305883202850091, gamma_5: 6.400648624686731, beta_6: 0.5057734997812948, gamma_6: 1.8656939323409711, beta_7: 6.346053335019561, gamma_7: 3.9628967264184465, tau_0: 3.06639440264143, tau_1: 3.3113593864187787, tau_2: 3.2131398693403015, tau_3: 3.1734788843987625, tau_4: 0.07207727859348559, tau_5: -0.01176305993765444}  samples= None\n",
      "E=-75.95034917  angles= {beta_0: 2.9972718386954535, gamma_0: 2.3913221891794154, beta_1: 3.2253268602179435, gamma_1: 3.1883650362852314, beta_2: 3.132455012228527, gamma_2: 5.428174257914385, beta_3: 3.141517971257892, gamma_3: 3.58225210194843, beta_4: -0.6741732007109014, gamma_4: 4.980335237366574, beta_5: 6.292077394109994, gamma_5: 6.397285845448355, beta_6: 0.3410753039173128, gamma_6: 1.8665041251129544, beta_7: 6.325377703530858, gamma_7: 3.9609261284874813, tau_0: 3.037898070926976, tau_1: 3.276464809484029, tau_2: 3.110491613556394, tau_3: 3.137087042475712, tau_4: 0.03519662187122567, tau_5: 0.024637721829895425}  samples= None\n",
      "E=-75.97057332  angles= {beta_0: 3.1368334437959535, gamma_0: 2.409954478017666, beta_1: 3.1471777349005094, gamma_1: 3.190636131426508, beta_2: 3.064211747733754, gamma_2: 5.439725178738187, beta_3: 3.226372578684587, gamma_3: 3.5823627800468927, beta_4: -0.08649373666648119, gamma_4: 4.981110331697729, beta_5: 6.222577133420596, gamma_5: 6.373155418831646, beta_6: 0.26790552727944716, gamma_6: 1.8648909668371942, beta_7: 6.295722658143063, gamma_7: 3.9588750223977125, tau_0: 3.013193801120715, tau_1: 3.291271373973037, tau_2: 2.946943386143337, tau_3: 3.163835782647931, tau_4: -0.025327292182122124, tau_5: 0.058112151029954824}  samples= None\n",
      "E=-75.98097806  angles= {beta_0: 3.160336771224833, gamma_0: 2.4063491330859326, beta_1: 3.1229447509388346, gamma_1: 3.188657982739567, beta_2: 3.1107663271600137, gamma_2: 5.433714912682735, beta_3: 3.061662734070671, gamma_3: 3.5826294542680057, beta_4: -0.21612818463000377, gamma_4: 4.977217552086407, beta_5: 6.238156249140079, gamma_5: 6.376699497789495, beta_6: 0.04227409616286609, gamma_6: 1.8673031383070051, beta_7: 6.289721812426993, gamma_7: 3.962871123979657, tau_0: 3.0148631690094025, tau_1: 3.191987273193643, tau_2: 2.983733981253242, tau_3: 3.1711967933993326, tau_4: 0.0015197001727501463, tau_5: 0.05940290022890947}  samples= None\n",
      "E=-75.98659366  angles= {beta_0: 3.1302720728833946, gamma_0: 2.4059639362694956, beta_1: 3.1337217759121354, gamma_1: 3.187750224874013, beta_2: 3.1245441047013816, gamma_2: 5.434054429267963, beta_3: 3.1086866071604793, gamma_3: 3.583390048690767, beta_4: -0.12721381894247272, gamma_4: 4.970423262951784, beta_5: 6.242435510401175, gamma_5: 6.377624056501254, beta_6: 0.06205972434354378, gamma_6: 1.8667564864599464, beta_7: 6.293761123902581, gamma_7: 3.9648296040678765, tau_0: 3.0334444945082595, tau_1: 3.196089504408767, tau_2: 3.042477502513514, tau_3: 3.176233736367967, tau_4: 0.029098833290725712, tau_5: 0.0427342986658258}  samples= None\n",
      "E=-75.98836390  angles= {beta_0: 3.140561344413205, gamma_0: 2.4085726636680325, beta_1: 3.1340754799713015, gamma_1: 3.18690704625041, beta_2: 3.1376552739511485, gamma_2: 5.435034001966272, beta_3: 3.125230146445463, gamma_3: 3.584186993691616, beta_4: 0.002163551668765029, gamma_4: 4.963399636793325, beta_5: 6.238759882492405, gamma_5: 6.374049176682022, beta_6: 0.026721679171354783, gamma_6: 1.8666365974506591, beta_7: 6.291971130192238, gamma_7: 3.9672013219875395, tau_0: 3.0441867097803383, tau_1: 3.2073450769795167, tau_2: 3.0804487065894257, tau_3: 3.189113581272172, tau_4: 0.045655172241759925, tau_5: 0.032904094726598464}  samples= None\n",
      "E=-75.98844792  angles= {beta_0: 3.1382548989855206, gamma_0: 2.4083580779813927, beta_1: 3.1353546949819044, gamma_1: 3.1869318288298962, beta_2: 3.139381002722316, gamma_2: 5.434979968773609, beta_3: 3.133865715533419, gamma_3: 3.5840557180680896, beta_4: 0.009419598358320418, gamma_4: 4.963568343558048, beta_5: 6.245528644362796, gamma_5: 6.374549035068471, beta_6: 0.01834727522285711, gamma_6: 1.866535165963259, beta_7: 6.289226946211877, gamma_7: 3.9670955175673894, tau_0: 3.0446529428645968, tau_1: 3.19710071522556, tau_2: 3.0803367006267566, tau_3: 3.188189101406268, tau_4: 0.04425628309126185, tau_5: 0.034725354321891916}  samples= None\n"
     ]
    },
    {
     "name": "stdout",
     "output_type": "stream",
     "text": [
      "E=-75.98851789  angles= {beta_0: 3.139760500866712, gamma_0: 2.4082368581249165, beta_1: 3.1394766984680302, gamma_1: 3.186963008077567, beta_2: 3.141251451838465, gamma_2: 5.434863126102812, beta_3: 3.136366987043268, gamma_3: 3.583982779708434, beta_4: 0.0076219495634775, gamma_4: 4.963771302580159, beta_5: 6.2536686981842635, gamma_5: 6.3746840010205, beta_6: 0.006265856026007962, gamma_6: 1.866553725957192, beta_7: 6.286491568977504, gamma_7: 3.967016479542079, tau_0: 3.0441621497842917, tau_1: 3.1975309534666034, tau_2: 3.080594699263111, tau_3: 3.1889271293628334, tau_4: 0.04180721184641065, tau_5: 0.03542874436652086}  samples= None\n",
      "E=-75.98856463  angles= {beta_0: 3.141664901216117, gamma_0: 2.4080114754008903, beta_1: 3.144617052028015, gamma_1: 3.1870754879287184, beta_2: 3.142557420817982, gamma_2: 5.434764180684113, beta_3: 3.141907316109345, gamma_3: 3.583862948123763, beta_4: 0.00033592372608055344, gamma_4: 4.9643821305651095, beta_5: 6.266351250254893, gamma_5: 6.374944877574002, beta_6: -0.0032623816101856294, gamma_6: 1.8665448525418222, beta_7: 6.283113900663961, gamma_7: 3.9667371968794045, tau_0: 3.0431642904541527, tau_1: 3.2011817767856448, tau_2: 3.079727250776011, tau_3: 3.1899515528447964, tau_4: 0.03968297288518496, tau_5: 0.03530017079109902}  samples= None\n",
      "E=-75.98857208  angles= {beta_0: 3.1417066629882204, gamma_0: 2.407908853284305, beta_1: 3.1445800934077544, gamma_1: 3.1871156634149735, beta_2: 3.142332876521629, gamma_2: 5.434753047302777, beta_3: 3.1432956003917574, gamma_3: 3.583842330877861, beta_4: -0.001790205227363993, gamma_4: 4.964598597398398, beta_5: 6.2706788847896195, gamma_5: 6.375065692705337, beta_6: -0.003509217254065536, gamma_6: 1.8665342683370765, beta_7: 6.282545109131813, gamma_7: 3.966631566437988, tau_0: 3.042942623032751, tau_1: 3.2025371576878, tau_2: 3.0792259989723596, tau_3: 3.190108345533298, tau_4: 0.04032900159793909, tau_5: 0.03468964008668151}  samples= None\n",
      "E=-75.98857885  angles= {beta_0: 3.14159097774511, gamma_0: 2.4077867881975314, beta_1: 3.1429239334739236, gamma_1: 3.187157719145586, beta_2: 3.1417638983870737, gamma_2: 5.434747832588061, beta_3: 3.1440843168992574, gamma_3: 3.583831300718546, beta_4: -0.0031167808862093468, gamma_4: 4.96483271911762, beta_5: 6.276640839909221, gamma_5: 6.375214196046044, beta_6: -0.0025924685692043144, gamma_6: 1.86651842755488, beta_7: 6.2822007150643655, gamma_7: 3.966516718248068, tau_0: 3.042853701534428, tau_1: 3.203617265428118, tau_2: 3.0786618070539906, tau_3: 3.1900312933245325, tau_4: 0.041654876066426684, tau_5: 0.03394103375986523}  samples= None\n",
      "E=-75.98858148  angles= {beta_0: 3.141416538844921, gamma_0: 2.407742678040193, beta_1: 3.1414978288902136, gamma_1: 3.1871612414905943, beta_2: 3.1414617543253924, gamma_2: 5.434746231327631, beta_3: 3.143563955610411, gamma_3: 3.5838393087812244, beta_4: -0.002454302900795626, gamma_4: 4.96486643063813, beta_5: 6.279774683858724, gamma_5: 6.3752725725162325, beta_6: -0.0017341657997755051, gamma_6: 1.8665138952467146, beta_7: 6.282338262654933, gamma_7: 3.9665004590686594, tau_0: 3.0429621117040986, tau_1: 3.20358555707243, tau_2: 3.078644317347859, tau_3: 3.1898891884819167, tau_4: 0.042051375919887626, tau_5: 0.03386685458378891}  samples= None\n",
      "E=-75.98858304  angles= {beta_0: 3.1413510455543765, gamma_0: 2.4077333698447543, beta_1: 3.1405545931582983, gamma_1: 3.18714964781777, beta_2: 3.141359436893254, gamma_2: 5.434745810736537, beta_3: 3.1425263378773445, gamma_3: 3.583852314558958, beta_4: -0.0010936417916867496, gamma_4: 4.96482247951384, beta_5: 6.282178356700131, gamma_5: 6.375292084476802, beta_6: -0.0008624770695797347, gamma_6: 1.8665137360955257, beta_7: 6.282662730466194, gamma_7: 3.966523312859035, tau_0: 3.043125689400658, tau_1: 3.203176624799694, tau_2: 3.078897835032354, tau_3: 3.1897607882243886, tau_4: 0.04185752277790139, tau_5: 0.03413521139166323}  samples= None\n",
      "E=-75.98858349  angles= {beta_0: 3.141429957040262, gamma_0: 2.4077458266896836, beta_1: 3.1407031663370337, gamma_1: 3.1871400909894576, beta_2: 3.141422357220482, gamma_2: 5.434747578366755, beta_3: 3.141903645387792, gamma_3: 3.5838579708041887, beta_4: -0.0003564484780127859, gamma_4: 4.9647798703625, beta_5: 6.282887506087946, gamma_5: 6.375281512490581, beta_6: -0.00042175247440522806, gamma_6: 1.86651533764836, beta_7: 6.282891681298906, gamma_7: 3.9665458517209355, tau_0: 3.0431665742756695, tau_1: 3.202907817739347, tau_2: 3.0790882999207025, tau_3: 3.189718836687286, tau_4: 0.04149813612859994, tau_5: 0.034377981363285355}  samples= None\n",
      "E=-75.98858365  angles= {beta_0: 3.1415077102871387, gamma_0: 2.407755050891872, beta_1: 3.1411955591109, gamma_1: 3.187134881979668, beta_2: 3.141509172338808, gamma_2: 5.434750432190553, beta_3: 3.1415995905008125, gamma_3: 3.5838603618502187, beta_4: -1.198417870195502e-05, gamma_4: 4.964756114417215, beta_5: 6.2831283364934345, gamma_5: 6.37527207698735, beta_6: -0.0001436590020326717, gamma_6: 1.8665167895535657, beta_7: 6.283042147937852, gamma_7: 3.966558672700755, tau_0: 3.043143584823916, tau_1: 3.2028065836484427, tau_2: 3.079147887527906, tau_3: 3.189745578320615, tau_4: 0.041288255511216294, tau_5: 0.034473110683298246}  samples= None\n",
      "E=-75.98858368  angles= {beta_0: 3.1415738612045208, gamma_0: 2.4077605173971777, beta_1: 3.141511361649021, gamma_1: 3.1871344034312576, beta_2: 3.14155512536693, gamma_2: 5.4347534541873, beta_3: 3.1415545353277397, gamma_3: 3.5838604010101616, beta_4: 6.936397409460568e-05, gamma_4: 4.964752747240726, beta_5: 6.283120532064017, gamma_5: 6.375265098126643, beta_6: -1.9590643835425614e-05, gamma_6: 1.8665169926207397, beta_7: 6.283104411018749, gamma_7: 3.9665605546870513, tau_0: 3.0431087565584476, tau_1: 3.2028154796933084, tau_2: 3.079116183949199, tau_3: 3.189767825975241, tau_4: 0.04130647025133616, tau_5: 0.034447725311597815}  samples= None\n",
      "\n",
      "Obtained QCC energy (6 entanglers): -75.9885836819193\n",
      "There are known issues with some psi4 methods and frozen virtual orbitals. Proceed with fingers crossed for fci.\n"
     ]
    }
   ],
   "source": [
    "n = 1\n",
    "result = minimize_E_random_guesses(objective=E, method='BFGS', tol=1e-4, n=n)\n",
    "\n",
    "print('\\nObtained QCC energy ({} entanglers): {}'.format(len(entanglers), result))\n",
    "\n",
    "E_FCI = h2o.compute_energy(method='fci')"
   ]
  },
  {
   "cell_type": "markdown",
   "metadata": {},
   "source": [
    "# LiH in STO-3G basis"
   ]
  },
  {
   "cell_type": "code",
   "execution_count": 10,
   "metadata": {},
   "outputs": [
    {
     "name": "stdout",
     "output_type": "stream",
     "text": [
      "\n",
      "Hamiltonian has 631 terms\n",
      "\n",
      "Grouping gradient magnitudes (Grouping : Gradient magnitude):\n",
      "1 : 0.1224\n",
      "2 : 0.0289\n",
      "3 : 0.0289\n",
      "4 : 0.0272\n",
      "5 : 0.0272\n",
      "6 : 0.0195\n",
      "7 : 0.013\n",
      "8 : 0.013\n",
      "9 : 0.0099\n",
      "10 : 0.0099\n",
      "11 : 0.0095\n",
      "12 : 0.0092\n",
      "13 : 0.0092\n",
      "14 : 0.0088\n",
      "15 : 0.0088\n",
      "16 : 0.0084\n",
      "17 : 0.0084\n",
      "18 : 0.0083\n",
      "19 : 0.0083\n",
      "20 : 0.0083\n",
      "21 : 0.0083\n",
      "22 : 0.0071\n",
      "23 : 0.0041\n",
      "24 : 0.0041\n",
      "25 : 0.0006\n",
      "26 : 0.0006\n",
      "27 : 0.0\n",
      "28 : 0.0\n",
      "29 : 0.0\n",
      "30 : 0.0\n",
      "31 : 0.0\n",
      "32 : 0.0\n",
      "33 : 0.0\n",
      "34 : 0.0\n",
      "\n",
      "Selected entanglers:\n",
      "1.0 [X2 Y3 X10 X11]\n",
      "1.0 [X2 Y3 X5 X10]\n",
      "1.0 [X2 Y3 X4 X11]\n",
      "1.0 [X2 Y3 X6 X7]\n",
      "1.0 [X2 Y3 X8 X9]\n",
      "1.0 [X0 Y1 X4 X5]\n"
     ]
    }
   ],
   "source": [
    "xyz_data = get_molecular_data('lih', geometry=1, xyz_format=True)\n",
    "\n",
    "basis = 'sto-3g'\n",
    "\n",
    "lih = tq.quantumchemistry.Molecule(geometry=xyz_data, basis_set = basis)\n",
    "hf_reference = hf_occ(2*lih.n_orbitals, lih.n_electrons)\n",
    "\n",
    "\n",
    "H = lih.make_hamiltonian()\n",
    "\n",
    "print(\"\\nHamiltonian has {} terms\\n\".format(len(H)))\n",
    "\n",
    "#Define number of entanglers to enter ansatz\n",
    "n_ents = 6\n",
    "\n",
    "#Rank entanglers using energy gradient criterion\n",
    "ranked_entangler_groupings = generate_QCC_gradient_groupings(H.to_openfermion(), \n",
    "                                                             2*lih.n_orbitals, \n",
    "                                                             hf_reference, \n",
    "                                                             cutoff=threshold)\n",
    "\n",
    "print('Grouping gradient magnitudes (Grouping : Gradient magnitude):')\n",
    "for i in range(len(ranked_entangler_groupings)):\n",
    "    print('{} : {}'.format(i+1,ranked_entangler_groupings[i][1]))\n",
    "\n",
    "entanglers = get_QCC_entanglers(ranked_entangler_groupings, n_ents, 2*lih.n_orbitals)\n",
    "\n",
    "print('\\nSelected entanglers:')\n",
    "for ent in entanglers:\n",
    "    print(ent)"
   ]
  },
  {
   "cell_type": "code",
   "execution_count": 11,
   "metadata": {},
   "outputs": [
    {
     "name": "stdout",
     "output_type": "stream",
     "text": [
      "Optimizer: <class 'tequila.optimizers.optimizer_scipy.OptimizerSciPy'> \n",
      "backend         : qulacs\n",
      "samples         : None\n",
      "save_history    : True\n",
      "noise           : None\n",
      "\n",
      "Method          : BFGS\n",
      "Objective       : 1 expectationvalues\n",
      "gradient        : 60 expectationvalues\n",
      "\n",
      "active variables : 30\n",
      "\n",
      "E=-6.10160502  angles= {beta_0: 3.141592653589793, gamma_0: 0.0, beta_1: 3.141592653589793, gamma_1: 0.0, beta_2: 3.141592653589793, gamma_2: 0.0, beta_3: 3.141592653589793, gamma_3: 0.0, beta_4: 0.0, gamma_4: 0.0, beta_5: 0.0, gamma_5: 0.0, beta_6: 0.0, gamma_6: 0.0, beta_7: 0.0, gamma_7: 0.0, beta_8: 0.0, gamma_8: 0.0, beta_9: 0.0, gamma_9: 0.0, beta_10: 3.141592653589793, gamma_10: 0.0, beta_11: 3.141592653589793, gamma_11: 0.0, tau_0: 0.0, tau_1: 0.0, tau_2: 0.0, tau_3: 0.0, tau_4: 0.0, tau_5: 0.0}  samples= None\n",
      "E=-6.10296663  angles= {beta_0: 3.141592653589793, gamma_0: 0.0, beta_1: 3.141592653589793, gamma_1: 0.0, beta_2: 3.141592653589793, gamma_2: 0.0, beta_3: 3.141592653589793, gamma_3: 0.0, beta_4: 0.0, gamma_4: 0.0, beta_5: 0.0, gamma_5: 0.0, beta_6: 0.0, gamma_6: 0.0, beta_7: 0.0, gamma_7: 0.0, beta_8: 0.0, gamma_8: 0.0, beta_9: 0.0, gamma_9: 0.0, beta_10: 3.141592653589793, gamma_10: 0.0, beta_11: 3.141592653589793, gamma_11: 0.0, tau_0: 0.0, tau_1: 0.0, tau_2: 0.0, tau_3: 0.027183055877685547, tau_4: 0.027183055877685547, tau_5: 0.01945781707763672}  samples= None\n",
      "E=-6.10548629  angles= {beta_0: 3.141592653589793, gamma_0: 0.0, beta_1: 3.141592653589793, gamma_1: 0.0, beta_2: 3.141592653589793, gamma_2: 0.0, beta_3: 3.141592653589793, gamma_3: 0.0, beta_4: 0.0, gamma_4: 0.0, beta_5: 0.0, gamma_5: 0.0, beta_6: 0.0, gamma_6: 0.0, beta_7: 0.0, gamma_7: 0.0, beta_8: 0.0, gamma_8: 0.0, beta_9: 0.0, gamma_9: 0.0, beta_10: 3.141592653589793, gamma_10: 0.0, beta_11: 3.141592653589793, gamma_11: 0.0, tau_0: 0.0002988192190239662, tau_1: 1.9179667459818114e-07, tau_2: -1.9179667459818117e-07, tau_3: 0.08320130806465167, tau_4: 0.08320130806465167, tau_5: 0.023396410908089544}  samples= None\n",
      "E=-6.10932181  angles= {beta_0: 3.141592653589793, gamma_0: 0.0, beta_1: 3.141592653589793, gamma_1: 0.0, beta_2: 3.141592653589793, gamma_2: 0.0, beta_3: 3.141592653589793, gamma_3: 0.0, beta_4: 0.0, gamma_4: 0.0, beta_5: 0.0, gamma_5: 0.0, beta_6: 0.0, gamma_6: 0.0, beta_7: 0.0, gamma_7: 0.0, beta_8: 0.0, gamma_8: 0.0, beta_9: 0.0, gamma_9: 0.0, beta_10: 3.141592653589793, gamma_10: 0.0, beta_11: 3.141592653589793, gamma_11: 0.0, tau_0: 0.002124654238382324, tau_1: 1.3866863514381724e-05, tau_2: -1.3866863514381728e-05, tau_3: 0.19875508325902597, tau_4: 0.19875508325902597, tau_5: 0.020536228663142295}  samples= None\n",
      "E=-6.10991987  angles= {beta_0: 3.14159221457693, gamma_0: 0.0, beta_1: 3.14159221457693, gamma_1: 0.0, beta_2: 3.141592653589793, gamma_2: 0.0, beta_3: 3.141592653589793, gamma_3: 0.0, beta_4: 0.0, gamma_4: 0.0, beta_5: 0.0, gamma_5: 0.0, beta_6: 0.0, gamma_6: 0.0, beta_7: 0.0, gamma_7: 0.0, beta_8: 0.0, gamma_8: 0.0, beta_9: 0.0, gamma_9: 0.0, beta_10: 3.141592653589793, gamma_10: 0.0, beta_11: 3.141592653589793, gamma_11: 0.0, tau_0: 0.004828619114811019, tau_1: 0.00010459567676278815, tau_2: -0.00010459567676278815, tau_3: 0.2937129332166566, tau_4: 0.2937129332166566, tau_5: 0.010098121315322872}  samples= None\n",
      "E=-6.11012969  angles= {beta_0: 3.141592590566628, gamma_0: 0.0, beta_1: 3.141592590566628, gamma_1: 0.0, beta_2: 3.141592653589793, gamma_2: 0.0, beta_3: 3.141592653589793, gamma_3: 0.0, beta_4: 0.0, gamma_4: 0.0, beta_5: 0.0, gamma_5: 0.0, beta_6: 0.0, gamma_6: 0.0, beta_7: 0.0, gamma_7: 0.0, beta_8: 0.0, gamma_8: 0.0, beta_9: 0.0, gamma_9: 0.0, beta_10: 3.141592653589793, gamma_10: 0.0, beta_11: 3.141592653589793, gamma_11: 0.0, tau_0: 0.004514738087829239, tau_1: 0.00017164069216773386, tau_2: -0.00017164069216773386, tau_3: 0.2563577632287728, tau_4: 0.2563577632287728, tau_5: 0.008952603163966299}  samples= None\n",
      "E=-6.11013482  angles= {beta_0: 3.1415926047749285, gamma_0: 0.0, beta_1: 3.1415926047749285, gamma_1: 0.0, beta_2: 3.141592653589793, gamma_2: 0.0, beta_3: 3.141592653589793, gamma_3: 0.0, beta_4: 0.0, gamma_4: 0.0, beta_5: 0.0, gamma_5: 0.0, beta_6: 0.0, gamma_6: 0.0, beta_7: 0.0, gamma_7: 0.0, beta_8: 0.0, gamma_8: 0.0, beta_9: 0.0, gamma_9: 0.0, beta_10: 3.141592653589793, gamma_10: 0.0, beta_11: 3.141592653589793, gamma_11: 0.0, tau_0: 0.005612038950374549, tau_1: 0.00031647299021000675, tau_2: -0.00031647299021000675, tau_3: 0.260162744535014, tau_4: 0.260162744535014, tau_5: 0.008288649788095325}  samples= None\n",
      "E=-6.11013827  angles= {beta_0: 3.1415926127767513, gamma_0: 0.0, beta_1: 3.1415926127767513, gamma_1: 0.0, beta_2: 3.141592653589793, gamma_2: 0.0, beta_3: 3.141592653589793, gamma_3: 0.0, beta_4: 0.0, gamma_4: 0.0, beta_5: 0.0, gamma_5: 0.0, beta_6: 0.0, gamma_6: 0.0, beta_7: 0.0, gamma_7: 0.0, beta_8: 0.0, gamma_8: 0.0, beta_9: 0.0, gamma_9: 0.0, beta_10: 3.141592653589793, gamma_10: 0.0, beta_11: 3.141592653589793, gamma_11: 0.0, tau_0: 0.007799925368100428, tau_1: 0.0006726567441046739, tau_2: -0.0006726567441046739, tau_3: 0.2617291076175805, tau_4: 0.2617291076175805, tau_5: 0.007951789740647204}  samples= None\n",
      "E=-6.11015328  angles= {beta_0: 3.1415926447840423, gamma_0: 0.0, beta_1: 3.1415926447840423, gamma_1: 0.0, beta_2: 3.141592653589793, gamma_2: 0.0, beta_3: 3.141592653589793, gamma_3: 0.0, beta_4: 0.0, gamma_4: 0.0, beta_5: 0.0, gamma_5: 0.0, beta_6: 0.0, gamma_6: 0.0, beta_7: 0.0, gamma_7: 0.0, beta_8: 0.0, gamma_8: 0.0, beta_9: 0.0, gamma_9: 0.0, beta_10: 3.141592653589793, gamma_10: 0.0, beta_11: 3.141592653589793, gamma_11: 0.0, tau_0: 0.016551471039003944, tau_1: 0.0020973917596833424, tau_2: -0.0020973917596833424, tau_3: 0.2679945599478465, tau_4: 0.2679945599478465, tau_5: 0.00660434955085472}  samples= None\n",
      "E=-6.11022478  angles= {beta_0: 3.1415927728132065, gamma_0: 0.0, beta_1: 3.1415927728132065, gamma_1: 0.0, beta_2: 3.141592653589793, gamma_2: 0.0, beta_3: 3.141592653589793, gamma_3: 0.0, beta_4: 0.0, gamma_4: 0.0, beta_5: 0.0, gamma_5: 0.0, beta_6: 0.0, gamma_6: 0.0, beta_7: 0.0, gamma_7: 0.0, beta_8: 0.0, gamma_8: 0.0, beta_9: 0.0, gamma_9: 0.0, beta_10: 3.141592653589793, gamma_10: 0.0, beta_11: 3.141592653589793, gamma_11: 0.0, tau_0: 0.05155765372261801, tau_1: 0.007796331821998016, tau_2: -0.0077963318219980175, tau_3: 0.29305636926891054, tau_4: 0.29305636926891054, tau_5: 0.001214588791684782}  samples= None\n",
      "E=-6.11018026  angles= {beta_0: 3.1415932849298627, gamma_0: 0.0, beta_1: 3.1415932849298627, gamma_1: 0.0, beta_2: 3.141592653589793, gamma_2: 0.0, beta_3: 3.141592653589793, gamma_3: 0.0, beta_4: 0.0, gamma_4: 0.0, beta_5: 0.0, gamma_5: 0.0, beta_6: 0.0, gamma_6: 0.0, beta_7: 0.0, gamma_7: 0.0, beta_8: 0.0, gamma_8: 0.0, beta_9: 0.0, gamma_9: 0.0, beta_10: 3.141592653589793, gamma_10: 0.0, beta_11: 3.141592653589793, gamma_11: 0.0, tau_0: 0.19158238445707426, tau_1: 0.03059209207125671, tau_2: -0.030592092071256714, tau_3: 0.3933036065531667, tau_4: 0.3933036065531667, tau_5: -0.020344454244994974}  samples= None\n",
      "E=-6.11032678  angles= {beta_0: 3.1415930205823637, gamma_0: 0.0, beta_1: 3.1415930205823637, gamma_1: 0.0, beta_2: 3.141592653589793, gamma_2: 0.0, beta_3: 3.141592653589793, gamma_3: 0.0, beta_4: 0.0, gamma_4: 0.0, beta_5: 0.0, gamma_5: 0.0, beta_6: 0.0, gamma_6: 0.0, beta_7: 0.0, gamma_7: 0.0, beta_8: 0.0, gamma_8: 0.0, beta_9: 0.0, gamma_9: 0.0, beta_10: 3.141592653589793, gamma_10: 0.0, beta_11: 3.141592653589793, gamma_11: 0.0, tau_0: 0.11930356489222681, tau_1: 0.01882523750737038, tau_2: -0.01882523750737038, tau_3: 0.3415573761727342, tau_4: 0.3415573761727342, tau_5: -0.009215975915020143}  samples= None\n",
      "E=-6.10831988  angles= {beta_0: 3.1415939050303083, gamma_0: 0.0, beta_1: 3.1415939050303083, gamma_1: 0.0, beta_2: 3.141592653589793, gamma_2: 0.0, beta_3: 3.141592653589793, gamma_3: 0.0, beta_4: 0.0, gamma_4: 0.0, beta_5: 0.0, gamma_5: 0.0, beta_6: 0.0, gamma_6: 0.0, beta_7: 0.0, gamma_7: 0.0, beta_8: 0.0, gamma_8: 0.0, beta_9: 0.0, gamma_9: 0.0, beta_10: 3.141592653589793, gamma_10: 0.0, beta_11: 3.141592653589793, gamma_11: 0.0, tau_0: 0.37229854671375534, tau_1: 0.06030845590158383, tau_2: -0.06030845590158383, tau_3: 0.5160675865399393, tau_4: 0.5160675865399393, tau_5: -0.04705862562727112}  samples= None\n"
     ]
    },
    {
     "name": "stdout",
     "output_type": "stream",
     "text": [
      "E=-6.11035790  angles= {beta_0: 3.141593122924504, gamma_0: 0.0, beta_1: 3.141593122924504, gamma_1: 0.0, beta_2: 3.141592653589793, gamma_2: 0.0, beta_3: 3.141592653589793, gamma_3: 0.0, beta_4: 0.0, gamma_4: 0.0, beta_5: 0.0, gamma_5: 0.0, beta_6: 0.0, gamma_6: 0.0, beta_7: 0.0, gamma_7: 0.0, beta_8: 0.0, gamma_8: 0.0, beta_9: 0.0, gamma_9: 0.0, beta_10: 3.141592653589793, gamma_10: 0.0, beta_11: 3.141592653589793, gamma_11: 0.0, tau_0: 0.1485783776728144, tau_1: 0.023625385886928026, tau_2: -0.023625385886928026, tau_3: 0.36175047921382447, tau_4: 0.36175047921382447, tau_5: -0.013594863106660214}  samples= None\n",
      "E=-6.11042185  angles= {beta_0: 3.1415931951105613, gamma_0: 0.0, beta_1: 3.1415931951105613, gamma_1: 0.0, beta_2: 3.141592653589793, gamma_2: 0.0, beta_3: 3.141592731799198, gamma_3: 0.0, beta_4: 0.0, gamma_4: 0.0, beta_5: 0.0, gamma_5: 0.0, beta_6: 0.0, gamma_6: 0.0, beta_7: 0.0, gamma_7: 0.0, beta_8: 0.0, gamma_8: 0.0, beta_9: 0.0, gamma_9: 0.0, beta_10: 3.141592653589793, gamma_10: 0.0, beta_11: 3.141592653589793, gamma_11: 0.0, tau_0: 0.1643746481780813, tau_1: 0.026148487040413698, tau_2: -0.026148487040413698, tau_3: 0.37141641462374697, tau_4: 0.371416414623743, tau_5: -0.016024185629419502}  samples= None\n",
      "E=-6.11067357  angles= {beta_0: 3.1415934838547908, gamma_0: 0.0, beta_1: 3.1415934838547908, gamma_1: 0.0, beta_2: 3.141592653589793, gamma_2: 0.0, beta_3: 3.141593044636817, gamma_3: 0.0, beta_4: 0.0, gamma_4: 0.0, beta_5: 0.0, gamma_5: 0.0, beta_6: 0.0, gamma_6: 0.0, beta_7: 0.0, gamma_7: 0.0, beta_8: 0.0, gamma_8: 0.0, beta_9: 0.0, gamma_9: 0.0, beta_10: 3.141592653589793, gamma_10: 0.0, beta_11: 3.141592653589793, gamma_11: 0.0, tau_0: 0.227559730199149, tau_1: 0.036240891654356386, tau_2: -0.036240891654356386, tau_3: 0.41008015626343697, tau_4: 0.41008015626341704, tau_5: -0.02574147572045666}  samples= None\n",
      "E=-6.11011070  angles= {beta_0: 3.1415946388317066, gamma_0: 0.0, beta_1: 3.141594638831707, gamma_1: 0.0, beta_2: 3.141592653589793, gamma_2: 0.0, beta_3: 3.141594295987294, gamma_3: 0.0, beta_4: 0.0, gamma_4: 0.0, beta_5: 0.0, gamma_5: 0.0, beta_6: 0.0, gamma_6: 0.0, beta_7: 0.0, gamma_7: 0.0, beta_8: 0.0, gamma_8: 0.0, beta_9: 0.0, gamma_9: 0.0, beta_10: 3.141592653589793, gamma_10: 0.0, beta_11: 3.141592653589793, gamma_11: 0.0, tau_0: 0.48030005828341965, tau_1: 0.07661051011012714, tau_2: -0.07661051011012714, tau_3: 0.564735122822197, tau_4: 0.5647351228221134, tau_5: -0.0646106360846053}  samples= None\n",
      "E=-6.11087580  angles= {beta_0: 3.1415938852664, gamma_0: 0.0, beta_1: 3.1415938852664, gamma_1: 0.0, beta_2: 3.141592653589793, gamma_2: 0.0, beta_3: 3.141593479543006, gamma_3: 0.0, beta_4: 0.0, gamma_4: 0.0, beta_5: 0.0, gamma_5: 0.0, beta_6: 0.0, gamma_6: 0.0, beta_7: 0.0, gamma_7: 0.0, beta_8: 0.0, gamma_8: 0.0, beta_9: 0.0, gamma_9: 0.0, beta_10: 3.141592653589793, gamma_10: 0.0, beta_11: 3.141592653589793, gamma_11: 0.0, tau_0: 0.3153994960479581, tau_1: 0.050271330957174384, tau_2: -0.050271330957174384, tau_3: 0.4638304071745116, tau_4: 0.4638304071744696, tau_5: -0.03925043161604377}  samples= None\n",
      "E=-6.11166121  angles= {beta_0: 3.141594308327303, gamma_0: 0.0, beta_1: 3.141594308327303, gamma_1: 0.0, beta_2: 3.141592653589793, gamma_2: 0.0, beta_3: 3.1415940452005593, gamma_3: 0.0, beta_4: 0.0, gamma_4: 0.0, beta_5: 0.0, gamma_5: 0.0, beta_6: 0.0, gamma_6: 0.0, beta_7: 0.0, gamma_7: 0.0, beta_8: 0.0, gamma_8: 0.0, beta_9: 0.0, gamma_9: 0.0, beta_10: 3.141592653589793, gamma_10: 0.0, beta_11: 3.141592653589793, gamma_11: 0.0, tau_0: 0.4915890626540285, tau_1: 0.07707098203737744, tau_2: -0.07707098203737749, tau_3: 0.5628609161867952, tau_4: 0.562860916186665, tau_5: -0.06661835703015463}  samples= None\n",
      "E=-6.11335276  angles= {beta_0: 3.141594844305147, gamma_0: 0.0, beta_1: 3.141594757427333, gamma_1: 0.0, beta_2: 3.141592653589793, gamma_2: 0.0, beta_3: 3.141594399434238, gamma_3: 0.0, beta_4: 0.0, gamma_4: 0.0, beta_5: 0.0, gamma_5: 0.0, beta_6: 0.0, gamma_6: 0.0, beta_7: 0.0, gamma_7: 0.0, beta_8: 0.0, gamma_8: 0.0, beta_9: 0.0, gamma_9: 0.0, beta_10: 3.141592653589793, gamma_10: 0.0, beta_11: 3.141592653589793, gamma_11: 0.0, tau_0: 0.6580397255692098, tau_1: 0.10040127120619335, tau_2: -0.1004012712061928, tau_3: 0.649516839594141, tau_4: 0.6495168395938932, tau_5: -0.09282839092797798}  samples= None\n",
      "E=-6.13637226  angles= {beta_0: 3.1415969882165253, gamma_0: 0.0, beta_1: 3.141596553827454, gamma_1: 0.0, beta_2: 3.141592653589793, gamma_2: 0.0, beta_3: 3.1415958163689544, gamma_3: 0.0, beta_4: 0.0, gamma_4: 0.0, beta_5: 0.0, gamma_5: 0.0, beta_6: 0.0, gamma_6: 0.0, beta_7: 0.0, gamma_7: 0.0, beta_8: 0.0, gamma_8: 0.0, beta_9: 0.0, gamma_9: 0.0, beta_10: 3.141592653589793, gamma_10: 0.0, beta_11: 3.141592653589793, gamma_11: 0.0, tau_0: 1.3238423772299346, tau_1: 0.19372242788145702, tau_2: -0.19372242788145405, tau_3: 0.996140533223524, tau_4: 0.9961405332228059, tau_5: -0.19766852651927136}  samples= None\n",
      "E=-5.27296087  angles= {beta_0: 3.141605563862038, gamma_0: 0.0, beta_1: 3.141603739427937, gamma_1: 0.0, beta_2: 3.141592653589793, gamma_2: 0.0, beta_3: 3.1416014841078193, gamma_3: 0.0, beta_4: 0.0, gamma_4: 0.0, beta_5: 0.0, gamma_5: 0.0, beta_6: 0.0, gamma_6: 0.0, beta_7: 0.0, gamma_7: 0.0, beta_8: 0.0, gamma_8: 0.0, beta_9: 0.0, gamma_9: 0.0, beta_10: 3.141592653589793, gamma_10: 0.0, beta_11: 3.141592653589793, gamma_11: 0.0, tau_0: 3.987052983872834, tau_1: 0.5670070545825117, tau_2: -0.567007054582499, tau_3: 2.3826353077410563, tau_4: 2.382635307738457, tau_5: -0.6170290688844446}  samples= None\n",
      "E=-6.28531683  angles= {beta_0: 3.141599543648452, gamma_0: 0.0, beta_1: 3.141598695043862, gamma_1: 0.0, beta_2: 3.141592653589793, gamma_2: 0.0, beta_3: 3.1415975052821477, gamma_3: 0.0, beta_4: 0.0, gamma_4: 0.0, beta_5: 0.0, gamma_5: 0.0, beta_6: 0.0, gamma_6: 0.0, beta_7: 0.0, gamma_7: 0.0, beta_8: 0.0, gamma_8: 0.0, beta_9: 0.0, gamma_9: 0.0, beta_10: 3.141592653589793, gamma_10: 0.0, beta_11: 3.141592653589793, gamma_11: 0.0, tau_0: 2.1174448414038123, tau_1: 0.30495643950985263, tau_2: -0.30495643950984685, tau_3: 1.4092981208648294, tau_4: 1.4092981208635509, tau_5: -0.32263256765374704}  samples= None\n",
      "E=-6.40761188  angles= {beta_0: 3.1416013101824194, gamma_0: 0.0, beta_1: 3.1416001752364977, gamma_1: 0.0, beta_2: 3.141592653589793, gamma_2: 0.0, beta_3: 3.1415986728039638, gamma_3: 0.0, beta_4: 0.0, gamma_4: 0.0, beta_5: 0.0, gamma_5: 0.0, beta_6: 0.0, gamma_6: 0.0, beta_7: 0.0, gamma_7: 0.0, beta_8: 0.0, gamma_8: 0.0, beta_9: 0.0, gamma_9: 0.0, beta_10: 3.141592653589793, gamma_10: 0.0, beta_11: 3.141592653589793, gamma_11: 0.0, tau_0: 2.666051006688002, tau_1: 0.38185093936773223, tau_2: -0.38185093936772446, tau_3: 1.6949081208916212, tau_4: 1.6949081208899552, tau_5: -0.4090184428243412}  samples= None\n",
      "E=-6.41272983  angles= {beta_0: 3.141601668546217, gamma_0: 0.0, beta_1: 3.141600475512328, gamma_1: 0.0, beta_2: 3.141592653589793, gamma_2: 0.0, beta_3: 3.141598909650557, gamma_3: 0.0, beta_4: 0.0, gamma_4: 0.0, beta_5: 0.0, gamma_5: 0.0, beta_6: 0.0, gamma_6: 0.0, beta_7: 0.0, gamma_7: 0.0, beta_8: 0.0, gamma_8: 0.0, beta_9: 0.0, gamma_9: 0.0, beta_10: 3.141592653589793, gamma_10: 0.0, beta_11: 3.141592653589793, gamma_11: 0.0, tau_0: 2.7773427183217034, tau_1: 0.3974499629404399, tau_2: -0.3974499629404317, tau_3: 1.7528477281620158, tau_4: 1.7528477281602712, tau_5: -0.42654291213782475}  samples= None\n",
      "E=-0.18316366  angles= {beta_0: 3.141660231167951, gamma_0: 0.0, beta_1: 3.1416501732537934, gamma_1: 0.0, beta_2: 3.141592653589793, gamma_2: 0.0, beta_3: 3.141640826849746, gamma_3: 0.0, beta_4: 0.0, gamma_4: 0.0, beta_5: 0.0, gamma_5: 0.0, beta_6: 0.0, gamma_6: 0.0, beta_7: 0.0, gamma_7: 0.0, beta_8: 0.0, gamma_8: 0.0, beta_9: 0.0, gamma_9: 0.0, beta_10: 3.141592653589793, gamma_10: 0.0, beta_11: 3.141592653589793, gamma_11: 0.0, tau_0: 22.130224348190012, tau_1: 2.871064766906796, tau_2: -2.871064766906738, tau_3: 11.902862467082661, tau_4: 11.90286246706736, tau_5: -3.2958634929142776}  samples= None\n",
      "E=-6.40079035  angles= {beta_0: 3.141602148638816, gamma_0: 0.0, beta_1: 3.14160088293121, gamma_1: 0.0, beta_2: 3.141592653589793, gamma_2: 0.0, beta_3: 3.141599253285055, gamma_3: 0.0, beta_4: 0.0, gamma_4: 0.0, beta_5: 0.0, gamma_5: 0.0, beta_6: 0.0, gamma_6: 0.0, beta_7: 0.0, gamma_7: 0.0, beta_8: 0.0, gamma_8: 0.0, beta_9: 0.0, gamma_9: 0.0, beta_10: 3.141592653589793, gamma_10: 0.0, beta_11: 3.141592653589793, gamma_11: 0.0, tau_0: 2.9359963947365935, tau_1: 0.4177284976924881, tau_2: -0.4177284976924795, tau_3: 1.8360568948790674, tau_4: 1.8360568948772118, tau_5: -0.45006541734710137}  samples= None\n"
     ]
    },
    {
     "name": "stdout",
     "output_type": "stream",
     "text": [
      "E=-6.41278480  angles= {beta_0: 3.1416016990694176, gamma_0: 0.0, beta_1: 3.1416005014150983, gamma_1: 0.0, beta_2: 3.141592653589793, gamma_2: 0.0, beta_3: 3.1415989314980606, gamma_3: 0.0, beta_4: 0.0, gamma_4: 0.0, beta_5: 0.0, gamma_5: 0.0, beta_6: 0.0, gamma_6: 0.0, beta_7: 0.0, gamma_7: 0.0, beta_8: 0.0, gamma_8: 0.0, beta_9: 0.0, gamma_9: 0.0, beta_10: 3.141592653589793, gamma_10: 0.0, beta_11: 3.141592653589793, gamma_11: 0.0, tau_0: 2.787429559827647, tau_1: 0.3987392262631616, tau_2: -0.39873922626315345, tau_3: 1.7581379785708475, tau_4: 1.758137978569096, tau_5: -0.4280384197568744}  samples= None\n",
      "E=-6.41289583  angles= {beta_0: 3.141601697112696, gamma_0: 0.0, beta_1: 3.141600499386707, gamma_1: 0.0, beta_2: 3.141592653589793, gamma_2: 0.0, beta_3: 3.1415989313486676, gamma_3: 0.0, beta_4: 6.172620726276823e-10, gamma_4: 0.0, beta_5: 0.0, gamma_5: 0.0, beta_6: 0.0, gamma_6: 0.0, beta_7: 0.0, gamma_7: 0.0, beta_8: 0.0, gamma_8: 0.0, beta_9: 0.0, gamma_9: 0.0, beta_10: 3.141592653589793, gamma_10: 0.0, beta_11: 3.141592653589793, gamma_11: 0.0, tau_0: 2.7875026591121346, tau_1: 0.39868246869862844, tau_2: -0.3986824686986204, tau_3: 1.758169364108398, tau_4: 1.758169364106647, tau_5: -0.42798762585239974}  samples= None\n",
      "E=-6.41333985  angles= {beta_0: 3.1416016892858103, gamma_0: 0.0, beta_1: 3.1416004912731412, gamma_1: 0.0, beta_2: 3.141592653589793, gamma_2: 0.0, beta_3: 3.141598930751096, gamma_3: 0.0, beta_4: 3.086310363138412e-09, gamma_4: 0.0, beta_5: 0.0, gamma_5: 0.0, beta_6: 0.0, gamma_6: 0.0, beta_7: 0.0, gamma_7: 0.0, beta_8: 0.0, gamma_8: 0.0, beta_9: 0.0, gamma_9: 0.0, beta_10: 3.141592653589793, gamma_10: 0.0, beta_11: 3.141592653589793, gamma_11: 0.0, tau_0: 2.787795056250085, tau_1: 0.39845543844049586, tau_2: -0.3984554384404882, tau_3: 1.7582949062586002, tau_4: 1.75829490625685, tau_5: -0.42778445023450107}  samples= None\n",
      "E=-6.41511441  angles= {beta_0: 3.141601657978266, gamma_0: 0.0, beta_1: 3.141600458818879, gamma_1: 0.0, beta_2: 3.141592653589793, gamma_2: 0.0, beta_3: 3.1415989283608083, gamma_3: 0.0, beta_4: 1.296250352518133e-08, gamma_4: 0.0, beta_5: 0.0, gamma_5: 0.0, beta_6: 0.0, gamma_6: 0.0, beta_7: 0.0, gamma_7: 0.0, beta_8: 0.0, gamma_8: 0.0, beta_9: 0.0, gamma_9: 0.0, beta_10: 3.141592653589793, gamma_10: 0.0, beta_11: 3.141592653589793, gamma_11: 0.0, tau_0: 2.7889646448018883, tau_1: 0.39754731740796534, tau_2: -0.3975473174079595, tau_3: 1.7587970748594084, tau_4: 1.758797074857663, tau_5: -0.42697174776290653}  samples= None\n",
      "E=-6.42218542  angles= {beta_0: 3.1416015327480906, gamma_0: 0.0, beta_1: 3.1416003290018297, gamma_1: 0.0, beta_2: 3.141592653589793, gamma_2: 0.0, beta_3: 3.141598918799658, gamma_3: 0.0, beta_4: 5.2467276173353e-08, gamma_4: 0.0, beta_5: 0.0, gamma_5: 0.0, beta_6: 0.0, gamma_6: 0.0, beta_7: 0.0, gamma_7: 0.0, beta_8: 0.0, gamma_8: 0.0, beta_9: 0.0, gamma_9: 0.0, beta_10: 3.141592653589793, gamma_10: 0.0, beta_11: 3.141592653589793, gamma_11: 0.0, tau_0: 2.7936429990091, tau_1: 0.39391483327784343, tau_2: -0.39391483327784466, tau_3: 1.7608057492626414, tau_4: 1.760805749260914, tau_5: -0.4237209378765282}  samples= None\n",
      "E=-6.45003020  angles= {beta_0: 3.141601031827389, gamma_0: 0.0, beta_1: 3.1415998097336333, gamma_1: 0.0, beta_2: 3.141592653589793, gamma_2: 0.0, beta_3: 3.141598880555057, gamma_3: 0.0, beta_4: 2.1048636676603968e-07, gamma_4: 0.0, beta_5: 0.0, gamma_5: 0.0, beta_6: 0.0, gamma_6: 0.0, beta_7: 0.0, gamma_7: 0.0, beta_8: 0.0, gamma_8: 0.0, beta_9: 0.0, gamma_9: 0.0, beta_10: 3.141592653589793, gamma_10: 0.0, beta_11: 3.141592653589793, gamma_11: 0.0, tau_0: 2.8123564158379484, tau_1: 0.3793848967573557, tau_2: -0.3793848967573852, tau_3: 1.7688404468755738, tau_4: 1.7688404468739183, tau_5: -0.41071769833101485}  samples= None\n",
      "E=-6.55377476  angles= {beta_0: 3.1415990281445807, gamma_0: 0.0, beta_1: 3.141597732660847, gamma_1: 0.0, beta_2: 3.141592653589793, gamma_2: 0.0, beta_3: 3.1415987275766533, gamma_3: 0.0, beta_4: 8.425627291367865e-07, gamma_4: 0.0, beta_5: 0.0, gamma_5: 0.0, beta_6: 0.0, gamma_6: 0.0, beta_7: 0.0, gamma_7: 0.0, beta_8: 0.0, gamma_8: 0.0, beta_9: 0.0, gamma_9: 0.0, beta_10: 3.141592653589793, gamma_10: 0.0, beta_11: 3.141592653589793, gamma_11: 0.0, tau_0: 2.8872100831533403, tau_1: 0.3212651506754049, tau_2: -0.3212651506755473, tau_3: 1.8009792373273037, tau_4: 1.8009792373259357, tau_5: -0.3587047401489616}  samples= None\n",
      "E=-6.77312024  angles= {beta_0: 3.141595158910206, gamma_0: 0.0, beta_1: 3.1415953270208337, gamma_1: 0.0, beta_2: 3.141592653589793, gamma_2: 0.0, beta_3: 3.141598456560597, gamma_3: 0.0, beta_4: 1.3035396154784543e-06, gamma_4: 0.0, beta_5: -6.04946724351774e-07, gamma_5: 0.0, beta_6: 0.0, gamma_6: 0.0, beta_7: 0.0, gamma_7: 0.0, beta_8: 0.0, gamma_8: 0.0, beta_9: 0.0, gamma_9: 0.0, beta_10: 3.141592653589793, gamma_10: 0.0, beta_11: 3.141592653589793, gamma_11: 0.0, tau_0: 3.0694845351122453, tau_1: 0.1465389515200529, tau_2: -0.14653895152052487, tau_3: 1.8791252426185554, tau_4: 1.8791252426180596, tau_5: -0.2000996764664851}  samples= None\n",
      "E=-6.84970025  angles= {beta_0: 3.1415915942560564, gamma_0: 0.0, beta_1: 3.1415951779924765, gamma_1: 0.0, beta_2: 3.141592653589793, gamma_2: 0.0, beta_3: 3.141597579575996, gamma_3: 0.0, beta_4: -2.147748617751768e-06, gamma_4: 0.0, beta_5: -1.019362749832682e-06, gamma_5: 0.0, beta_6: 0.0, gamma_6: 0.0, beta_7: 0.0, gamma_7: 0.0, beta_8: 0.0, gamma_8: 0.0, beta_9: 0.0, gamma_9: 0.0, beta_10: 3.141592653589793, gamma_10: 0.0, beta_11: 3.141592653589793, gamma_11: 0.0, tau_0: 3.1187057210046443, tau_1: -0.05635652117210485, tau_2: 0.05635652117125467, tau_3: 1.8914609510265201, tau_4: 1.89146095102708, tau_5: 0.015979507269106796}  samples= None\n",
      "E=-6.85423218  angles= {beta_0: 3.1415929943043808, gamma_0: 0.0, beta_1: 3.14159387800701, gamma_1: 0.0, beta_2: 3.141592653589793, gamma_2: 0.0, beta_3: 3.1415975014471083, gamma_3: 0.0, beta_4: -1.3829961777390008e-06, gamma_4: 0.0, beta_5: -5.584849260560608e-07, gamma_5: 0.0, beta_6: 0.0, gamma_6: 0.0, beta_7: 0.0, gamma_7: 0.0, beta_8: 0.0, gamma_8: 0.0, beta_9: 0.0, gamma_9: 0.0, beta_10: 3.141592653589793, gamma_10: 0.0, beta_11: 3.141592653589793, gamma_11: 0.0, tau_0: 3.1054422363963328, tau_1: -0.039095410857574654, tau_2: 0.039095410856767175, tau_3: 1.8619938425238158, tau_4: 1.8619938425242335, tau_5: -0.021617225967164186}  samples= None\n",
      "E=-6.85742981  angles= {beta_0: 3.1415935274385443, gamma_0: 0.0, beta_1: 3.1415925816404515, gamma_1: 0.0, beta_2: 3.141592653589793, gamma_2: 0.0, beta_3: 3.1415969662000087, gamma_3: 0.0, beta_4: -2.3467224809909626e-07, gamma_4: 0.0, beta_5: -3.78495817115521e-07, gamma_5: 0.0, beta_6: 0.0, gamma_6: 0.0, beta_7: 0.0, gamma_7: 0.0, beta_8: 0.0, gamma_8: 0.0, beta_9: 0.0, gamma_9: 0.0, beta_10: 3.141592653589793, gamma_10: 0.0, beta_11: 3.141592653589793, gamma_11: 0.0, tau_0: 3.110596682747786, tau_1: -0.03550085538710156, tau_2: 0.035500855386295445, tau_3: 1.8350174119979965, tau_4: 1.8350174119983431, tau_5: -0.03761457671113487}  samples= None\n",
      "E=-6.86304995  angles= {beta_0: 3.1415943339892825, gamma_0: 0.0, beta_1: 3.1415915354310795, gamma_1: 0.0, beta_2: 3.141592653589793, gamma_2: 0.0, beta_3: 3.141596207026376, gamma_3: 0.0, beta_4: 1.2160411509764059e-06, gamma_4: 0.0, beta_5: 4.149038754739313e-07, gamma_5: 0.0, beta_6: 0.0, gamma_6: 0.0, beta_7: 0.0, gamma_7: 0.0, beta_8: 0.0, gamma_8: 0.0, beta_9: 0.0, gamma_9: 0.0, beta_10: 3.141592653589793, gamma_10: 0.0, beta_11: 3.141592653589793, gamma_11: 0.0, tau_0: 3.1120441093102986, tau_1: -0.03051943883832531, tau_2: 0.030519438837501765, tau_3: 1.784433828360988, tau_4: 1.7844338283612364, tau_5: -0.0477614559708963}  samples= None\n",
      "E=-6.87212177  angles= {beta_0: 3.1415942344336156, gamma_0: 0.0, beta_1: 3.141590240534482, gamma_1: 0.0, beta_2: 3.141592653589793, gamma_2: 0.0, beta_3: 3.1415946851079495, gamma_3: 0.0, beta_4: 4.187167715603709e-06, gamma_4: 0.0, beta_5: 1.0764782876746557e-06, gamma_5: 0.0, beta_6: 0.0, gamma_6: 0.0, beta_7: 0.0, gamma_7: 0.0, beta_8: 0.0, gamma_8: 0.0, beta_9: 0.0, gamma_9: 0.0, beta_10: 3.141592653589793, gamma_10: 0.0, beta_11: 3.141592653589793, gamma_11: 0.0, tau_0: 3.1317689159653863, tau_1: -0.02274641141360012, tau_2: 0.022746411412720408, tau_3: 1.699760492247617, tau_4: 1.6997604922477079, tau_5: -0.050525520061649995}  samples= None\n"
     ]
    },
    {
     "name": "stdout",
     "output_type": "stream",
     "text": [
      "E=-6.88072981  angles= {beta_0: 3.1415940729828566, gamma_0: 0.0, beta_1: 3.14159082411377, gamma_1: 0.0, beta_2: 3.141592653589793, gamma_2: 0.0, beta_3: 3.141592155920962, gamma_3: 0.0, beta_4: 8.265967936099749e-06, gamma_4: 0.0, beta_5: 2.0401812668816067e-06, gamma_5: 0.0, beta_6: 0.0, gamma_6: 0.0, beta_7: 0.0, gamma_7: 0.0, beta_8: 0.0, gamma_8: 0.0, beta_9: 0.0, gamma_9: 0.0, beta_10: 3.141592061383439, gamma_10: 0.0, beta_11: 3.141592061383439, gamma_11: 0.0, tau_0: 3.1641498555105447, tau_1: -0.006163895772877473, tau_2: 0.006163895771882474, tau_3: 1.5731442518730447, tau_4: 1.5731442518729077, tau_5: -0.027804192111929846}  samples= None\n",
      "E=-6.88235759  angles= {beta_0: 3.141593191306515, gamma_0: 0.0, beta_1: 3.1415915424662924, gamma_1: 0.0, beta_2: 3.141592653589793, gamma_2: 0.0, beta_3: 3.1415915190808743, gamma_3: 0.0, beta_4: 7.874928949847019e-06, gamma_4: 0.0, beta_5: 2.0903617534602053e-06, gamma_5: 0.0, beta_6: 0.0, gamma_6: 0.0, beta_7: 0.0, gamma_7: 0.0, beta_8: 0.0, gamma_8: 0.0, beta_9: 0.0, gamma_9: 0.0, beta_10: 3.141591982852587, gamma_10: 0.0, beta_11: 3.141592276305824, gamma_11: 0.0, tau_0: 3.1867690189926603, tau_1: 0.0010603752471104576, tau_2: -0.001060375248143914, tau_3: 1.5639582373993253, tau_4: 1.5639582373991538, tau_5: -0.00802102165692506}  samples= None\n",
      "E=-6.88271198  angles= {beta_0: 3.1415927314668486, gamma_0: 0.0, beta_1: 3.1415923103651884, gamma_1: 0.0, beta_2: 3.141592653589793, gamma_2: 0.0, beta_3: 3.1415910276140777, gamma_3: 0.0, beta_4: 5.923662421157008e-06, gamma_4: 0.0, beta_5: 1.400384186907041e-06, gamma_5: 0.0, beta_6: 0.0, gamma_6: 0.0, beta_7: 0.0, gamma_7: 0.0, beta_8: 0.0, gamma_8: 0.0, beta_9: 0.0, gamma_9: 0.0, beta_10: 3.1415919773391385, gamma_10: 0.0, beta_11: 3.1415926635622924, gamma_11: 0.0, tau_0: 3.190236900323708, tau_1: 0.004763245888786991, tau_2: -0.004763245889832928, tau_3: 1.57166918685991, tau_4: 1.571669186859747, tau_5: 0.006287423968436718}  samples= None\n",
      "E=-6.88272113  angles= {beta_0: 3.1415924725816637, gamma_0: 0.0, beta_1: 3.1415925485183216, gamma_1: 0.0, beta_2: 3.141592653589793, gamma_2: 0.0, beta_3: 3.1415908257135277, gamma_3: 0.0, beta_4: 4.744554128283627e-06, gamma_4: 0.0, beta_5: 1.1002384999755866e-06, gamma_5: 0.0, beta_6: 0.0, gamma_6: 0.0, beta_7: 0.0, gamma_7: 0.0, beta_8: 0.0, gamma_8: 0.0, beta_9: 0.0, gamma_9: 0.0, beta_10: 3.1415919871725735, gamma_10: 0.0, beta_11: 3.14159267969817, gamma_11: 0.0, tau_0: 3.1893323709878034, tau_1: 0.0041879349913269345, tau_2: -0.0041879349923713395, tau_3: 1.5758294120843892, tau_4: 1.5758294120842358, tau_5: 0.007340198717389871}  samples= None\n",
      "E=-6.88272164  angles= {beta_0: 3.141592743953754, gamma_0: 0.0, beta_1: 3.141592838996934, gamma_1: 0.0, beta_2: 3.141592653589793, gamma_2: 0.0, beta_3: 3.1415908345517303, gamma_3: 0.0, beta_4: 3.8370214407055316e-06, gamma_4: 0.0, beta_5: 8.051687919095864e-07, gamma_5: 0.0, beta_6: 0.0, gamma_6: 0.0, beta_7: 0.0, gamma_7: 0.0, beta_8: 0.0, gamma_8: 0.0, beta_9: 0.0, gamma_9: 0.0, beta_10: 3.141592270440974, gamma_10: 0.0, beta_11: 3.1415926810677552, gamma_11: 0.0, tau_0: 3.1887915264567037, tau_1: 0.003721392436346489, tau_2: -0.0037213924373905305, tau_3: 1.5764634482677946, tau_4: 1.5764634482676445, tau_5: 0.0074253343924616765}  samples= None\n",
      "E=-6.88272168  angles= {beta_0: 3.1415927585316243, gamma_0: 0.0, beta_1: 3.1415928563666577, gamma_1: 0.0, beta_2: 3.141592653589793, gamma_2: 0.0, beta_3: 3.1415905614729476, gamma_3: 0.0, beta_4: 2.960990941355946e-06, gamma_4: 0.0, beta_5: 5.148327529063733e-07, gamma_5: 0.0, beta_6: 0.0, gamma_6: 0.0, beta_7: 0.0, gamma_7: 0.0, beta_8: 0.0, gamma_8: 0.0, beta_9: 0.0, gamma_9: 0.0, beta_10: 3.1415925589642484, gamma_10: 0.0, beta_11: 3.1415926810154935, gamma_11: 0.0, tau_0: 3.1888098996484295, tau_1: 0.0035305163897848455, tau_2: -0.0035305163908289756, tau_3: 1.5764712417555948, tau_4: 1.5764712417554456, tau_5: 0.007416345292084082}  samples= None\n",
      "Optimization terminated successfully.\n",
      "         Current function value: -6.882722\n",
      "         Iterations: 25\n",
      "         Function evaluations: 46\n",
      "         Gradient evaluations: 46\n",
      "\n",
      "Obtained QCC energy (6 entanglers): -6.882721678366514\n"
     ]
    }
   ],
   "source": [
    "#Mean-field part of U (Omega):    \n",
    "U_MF = construct_QMF_ansatz(n_qubits = 2*lih.n_orbitals)\n",
    "#Entangling part of U:\n",
    "U_ENT = construct_QCC_ansatz(entanglers)\n",
    "\n",
    "U_QCC = U_MF + U_ENT\n",
    "\n",
    "E = tq.ExpectationValue(H=H, U=U_QCC)\n",
    "\n",
    "initial_vals = init_qcc_params(hf_reference, E.extract_variables())\n",
    "\n",
    "#Minimize wrt the entangler amplitude and MF angles:\n",
    "result = tq.minimize(objective=E, method=\"BFGS\", initial_values=initial_vals, tol=1.e-4)\n",
    "\n",
    "\n",
    "print('\\nObtained QCC energy ({} entanglers): {}'.format(len(entanglers), result.energy))"
   ]
  },
  {
   "cell_type": "code",
   "execution_count": 12,
   "metadata": {},
   "outputs": [
    {
     "name": "stdout",
     "output_type": "stream",
     "text": [
      "Optimizer: <class 'tequila.optimizers.optimizer_scipy.OptimizerSciPy'> \n",
      "backend         : qulacs\n",
      "samples         : None\n",
      "save_history    : True\n",
      "noise           : None\n",
      "\n",
      "Method          : BFGS\n",
      "Objective       : 1 expectationvalues\n",
      "gradient        : 60 expectationvalues\n",
      "\n",
      "active variables : 30\n",
      "\n",
      "E=-4.57070324  angles= {beta_0: 2.449222299507639, gamma_0: 5.536592021494485, beta_1: 4.087880029276752, gamma_1: 2.8515544403381754, beta_2: 2.453636645490613, gamma_2: 1.8473067895532653, beta_3: 0.15195661230681323, gamma_3: 3.1879946630318883, beta_4: 3.7959328555969294, gamma_4: 3.054865695375211, beta_5: 3.525589440364006, gamma_5: 1.1670232735865487, beta_6: 1.3278650995730992, gamma_6: 1.0447433033995739, beta_7: 1.7558987831591157, gamma_7: 5.586686625653792, beta_8: 5.443715645482963, gamma_8: 0.8839188393282897, beta_9: 6.024672407633531, gamma_9: 5.843703047461389, beta_10: 4.386905349513471, gamma_10: 1.3296661704928103, beta_11: 4.267604108123005, gamma_11: 3.19022118737895, tau_0: 4.791847545782649, tau_1: 4.16213289886564, tau_2: 4.747846983464959, tau_3: 4.437559118026952, tau_4: 1.6211348093149762, tau_5: 5.211176052875071}  samples= None\n",
      "E=-5.71995391  angles= {beta_0: 2.5833976518810773, gamma_0: 5.551157339624469, beta_1: 3.9621474541685413, gamma_1: 2.864179402930499, beta_2: 2.5084798225871805, gamma_2: 1.8496400104880493, beta_3: 0.1600651210477086, gamma_3: 3.18838303378252, beta_4: 3.8079547032173124, gamma_4: 2.939077775334285, beta_5: 3.50513979763337, gamma_5: 1.1648603498133148, beta_6: 1.370917487172677, gamma_6: 1.0602904520855905, beta_7: 1.8136000560197605, gamma_7: 5.603682881662675, beta_8: 5.401487276407014, gamma_8: 0.8837400522789206, beta_9: 6.012542522028939, gamma_9: 5.843620479140638, beta_10: 4.388420378318227, gamma_10: 1.334774419465754, beta_11: 4.248848614183272, gamma_11: 3.1683703802213676, tau_0: 4.833498269550115, tau_1: 4.0402527352066855, tau_2: 4.615112581463345, tau_3: 4.447507268930397, tau_4: 1.3262771765810435, tau_5: 6.127207647751574}  samples= None\n",
      "E=-5.16706983  angles= {beta_0: 3.493939746430059, gamma_0: 5.577781165808517, beta_1: 2.856756913265751, gamma_1: 2.88389758613468, beta_2: 2.6610959602204662, gamma_2: 1.8511380376502822, beta_3: 0.22933978502891814, gamma_3: 3.188918119788446, beta_4: 3.8431791947132474, gamma_4: 2.604465489742222, beta_5: 3.3884711279300816, gamma_5: 1.1604502349488421, beta_6: 1.5085061482165925, gamma_6: 1.1034033310027402, beta_7: 2.0081430689130637, gamma_7: 5.650518401589485, beta_8: 5.367310106560205, gamma_8: 0.8854389795427118, beta_9: 6.011041155430025, gamma_9: 5.84581141476397, beta_10: 4.381667604204391, gamma_10: 1.3749536522048564, beta_11: 4.141982691497973, gamma_11: 3.0874506128318333, tau_0: 5.003372549066443, tau_1: 3.559586523201468, tau_2: 4.068383358135872, tau_3: 4.436230877493412, tau_4: 0.22729549314415243, tau_5: 7.480413298791216}  samples= None\n",
      "E=-6.22936070  angles= {beta_0: 2.9277958275344167, gamma_0: 5.561227381659417, beta_1: 3.54405092908702, gamma_1: 2.871637494504049, beta_2: 2.566204467818654, gamma_2: 1.8502066156179393, beta_3: 0.1862671692967182, gamma_3: 3.188585421618691, beta_4: 3.821277811157232, gamma_4: 2.81251595968733, beta_5: 3.461011714766847, gamma_5: 1.1631922934732086, beta_6: 1.4229582265715308, gamma_6: 1.076597218060627, beta_7: 1.887182880062338, gamma_7: 5.621397677843031, beta_8: 5.388560301350396, gamma_8: 0.884382644701303, beta_9: 6.011974653809832, gamma_9: 5.844449165959365, beta_10: 4.385866248092588, gamma_10: 1.3499715800773697, beta_11: 4.208428265653907, gamma_11: 3.137763755409527, tau_0: 4.897750534553666, tau_1: 3.8584483271471157, tau_2: 4.408320882081653, tau_3: 4.443242151851132, tau_4: 0.9106047006813136, tau_5: 6.639036326833881}  samples= None\n",
      "E=-6.74056565  angles= {beta_0: 3.13180532305064, gamma_0: 5.572338675304137, beta_1: 3.2384071928903873, gamma_1: 2.878733212333953, beta_2: 2.6372049672415097, gamma_2: 1.848891610659752, beta_3: 0.24224763540240887, gamma_3: 3.1884566294830363, beta_4: 3.8300448373281264, gamma_4: 2.617598113220535, beta_5: 3.389312059820387, gamma_5: 1.1614396911921023, beta_6: 1.4943733849731426, gamma_6: 1.09753182160763, beta_7: 1.9943493084225519, gamma_7: 5.642976998811245, beta_8: 5.4518734937973585, gamma_8: 0.8857446423790452, beta_9: 6.040395228942634, gamma_9: 5.846172462942321, beta_10: 4.371549509631578, gamma_10: 1.3782101058858034, beta_11: 4.113858728746208, gamma_11: 3.0993760958431933, tau_0: 5.053560607746662, tau_1: 3.6175756136617694, tau_2: 4.106726894530672, tau_3: 4.4095446286369935, tau_4: 0.34142337597719796, tau_5: 6.513559118247491}  samples= None\n",
      "E=-7.07833686  angles= {beta_0: 3.281092530975979, gamma_0: 5.589391036789513, beta_1: 2.923205886896812, gamma_1: 2.8929887319994068, beta_2: 2.71609027193507, gamma_2: 1.8367899019700717, beta_3: 0.3671746623976305, gamma_3: 3.1871300720733515, beta_4: 3.8435013650272114, gamma_4: 2.2614372362689408, beta_5: 3.266527268305792, gamma_5: 1.1619230767244524, beta_6: 1.611966644119808, gamma_6: 1.1179475095241795, beta_7: 2.191292064222014, gamma_7: 5.6654450668587195, beta_8: 5.737393182659374, gamma_8: 0.8872675206542164, beta_9: 6.147918276998367, gamma_9: 5.8486644259610925, beta_10: 4.273458338691872, gamma_10: 1.4537861730178072, beta_11: 3.811510566948633, gamma_11: 3.034314486310916, tau_0: 5.510336839551668, tau_1: 3.234211506193443, tau_2: 3.5590370035582817, tau_3: 4.27233281871317, tau_4: -0.37395794997132603, tau_5: 6.1864524261318286}  samples= None\n",
      "E=-7.21994397  angles= {beta_0: 3.232780459852906, gamma_0: 5.589936822471183, beta_1: 3.00805682261234, gamma_1: 2.8923980976890076, beta_2: 2.7098248979521786, gamma_2: 1.8279539780281049, beta_3: 0.3696178671659118, gamma_3: 3.1843843758501897, beta_4: 3.8296791979408544, gamma_4: 2.188957980275939, beta_5: 3.2333165830173667, gamma_5: 1.1618328309226025, beta_6: 1.6399516267908507, gamma_6: 1.121041892203245, beta_7: 2.253247789540569, gamma_7: 5.670569224738083, beta_8: 5.826976291630082, gamma_8: 0.8875257017696813, beta_9: 6.177776341914262, gamma_9: 5.849283120329771, beta_10: 4.146767986036229, gamma_10: 1.4785406295501329, beta_11: 3.6483457953339027, gamma_11: 3.020577155953944, tau_0: 5.757706754425968, tau_1: 3.150333376161431, tau_2: 3.4128958394305395, tau_3: 4.194187750212173, tau_4: -0.38495494023345256, tau_5: 6.223011693817535}  samples= None\n",
      "E=-7.41236116  angles= {beta_0: 3.150692782705185, gamma_0: 5.59166737788896, beta_1: 3.1353469837561914, gamma_1: 2.891798851415975, beta_2: 2.7074054899011144, gamma_2: 1.8085198656650614, beta_3: 0.311723316393548, gamma_3: 3.175527293103721, beta_4: 3.7748343738714096, gamma_4: 2.053014448807001, beta_5: 3.1702727612647434, gamma_5: 1.161120164828113, beta_6: 1.6920621611728852, gamma_6: 1.133391408151881, beta_7: 2.3882464908587027, gamma_7: 5.688970539584304, beta_8: 6.003691574199582, gamma_8: 0.8883147895748983, beta_9: 6.234522702907527, gamma_9: 5.8508160967561125, beta_10: 3.7557708713487155, gamma_10: 1.523932344294109, beta_11: 3.287799732694489, gamma_11: 2.992766128949932, tau_0: 6.317032685441248, tau_1: 2.998437026540062, tau_2: 3.1006636067062625, tau_3: 4.02049856797319, tau_4: -0.37324993500286374, tau_5: 6.2680627894133405}  samples= None\n",
      "E=-7.46085355  angles= {beta_0: 3.0960378334232366, gamma_0: 5.589747015621595, beta_1: 3.2186509014175733, gamma_1: 2.8893626807651236, beta_2: 2.677073543896565, gamma_2: 1.7973573208650537, beta_3: 0.19769116317031432, gamma_3: 3.1679302293007714, beta_4: 3.7364568881686697, gamma_4: 2.039013809107734, beta_5: 3.1635930195748614, gamma_5: 1.1609143968027043, beta_6: 1.6834232825073394, gamma_6: 1.1369301216284773, beta_7: 2.4316470582962357, gamma_7: 5.6968622462599745, beta_8: 6.06137653798723, gamma_8: 0.8884575365128166, beta_9: 6.249775751982254, gamma_9: 5.851171377504301, beta_10: 3.475808723073578, gamma_10: 1.5357045723662135, beta_11: 3.155050057485396, gamma_11: 2.9894318068485632, tau_0: 6.423396213430333, tau_1: 3.0364055677529698, tau_2: 3.0417352452099964, tau_3: 3.925243149365736, tau_4: -0.18291987790007144, tau_5: 6.311370823203607}  samples= None\n",
      "E=-7.48979194  angles= {beta_0: 3.1018624340386123, gamma_0: 5.588284877236511, beta_1: 3.2043150744156437, gamma_1: 2.888131791248362, beta_2: 2.6282396285340783, gamma_2: 1.7903891718447436, beta_3: 0.09649182182483139, gamma_3: 3.1627646469506194, beta_4: 3.719925848327146, gamma_4: 2.0502843627881338, beta_5: 3.174403452732818, gamma_5: 1.160857757936263, beta_6: 1.6508717101121706, gamma_6: 1.136127551697773, beta_7: 2.4458003518113496, gamma_7: 5.699053620234922, beta_8: 6.083313011404983, gamma_8: 0.8882447385056013, beta_9: 6.252971566924024, gamma_9: 5.8510109180421015, beta_10: 3.3133422794963643, gamma_10: 1.5373758328279166, beta_11: 3.119764599173473, gamma_11: 2.9929222042731394, tau_0: 6.339564237675768, tau_1: 3.1115887735626595, tau_2: 3.080815153043492, tau_3: 3.8570969208446235, tau_4: -0.0013331608578462106, tau_5: 6.3182734575849615}  samples= None\n"
     ]
    },
    {
     "name": "stdout",
     "output_type": "stream",
     "text": [
      "E=-7.50504765  angles= {beta_0: 3.1419418053492643, gamma_0: 5.588585791867792, beta_1: 3.1406864725013874, gamma_1: 2.888445618219352, beta_2: 2.5535843600995145, gamma_2: 1.7815790876317774, beta_3: -0.0046760704798004815, gamma_3: 3.157268955200992, beta_4: 3.703663696055699, gamma_4: 2.0317194126473663, beta_5: 3.1797568349353447, gamma_5: 1.160689365527691, beta_6: 1.605883401415439, gamma_6: 1.1365218042307959, beta_7: 2.485636652758111, gamma_7: 5.702928651981618, beta_8: 6.133211638416455, gamma_8: 0.8880399901234584, beta_9: 6.2646461796451565, gamma_9: 5.850949483763661, beta_10: 3.130763224563946, gamma_10: 1.5447866310596838, beta_11: 3.065573289822069, gamma_11: 2.991646665729899, tau_0: 6.301515533792217, tau_1: 3.149701963954578, tau_2: 3.0942457679340722, tau_3: 3.7465758437812533, tau_4: 0.11165214741610965, tau_5: 6.294194870589648}  samples= None\n",
      "E=-7.50946281  angles= {beta_0: 3.14965574264644, gamma_0: 5.5886676348830235, beta_1: 3.1308654905891666, gamma_1: 2.8885839269463585, beta_2: 2.5028232292764185, gamma_2: 1.7798432469930323, beta_3: -0.023908187488711204, gamma_3: 3.1563707922431625, beta_4: 3.699211303284526, gamma_4: 2.0297193680979895, beta_5: 3.185362262100835, gamma_5: 1.1606243598355899, beta_6: 1.5763486070823964, gamma_6: 1.1364136064566965, beta_7: 2.505596672173262, gamma_7: 5.703435677014892, beta_8: 6.146725183624403, gamma_8: 0.8879833031746651, beta_9: 6.266544151423291, gamma_9: 5.850912218340029, beta_10: 3.1096948297845612, gamma_10: 1.5451877811751629, beta_11: 3.076743895028263, gamma_11: 2.9917343808106645, tau_0: 6.274784391309443, tau_1: 3.155930443338058, tau_2: 3.1220490277762725, tau_3: 3.6936155911671866, tau_4: 0.10985919500519202, tau_5: 6.285616796281577}  samples= None\n",
      "E=-7.51772459  angles= {beta_0: 3.159018646138377, gamma_0: 5.588990867189665, beta_1: 3.116767601926463, gamma_1: 2.8888880102004517, beta_2: 2.398372789081863, gamma_2: 1.7766128407339459, beta_3: -0.05091142995147353, gamma_3: 3.1548425424568634, beta_4: 3.689709777945194, gamma_4: 2.0191577191066097, beta_5: 3.193093909841264, gamma_5: 1.160473946552607, beta_6: 1.520892353825768, gamma_6: 1.1368373601074209, beta_7: 2.5543053053840286, gamma_7: 5.704962534304308, beta_8: 6.178429039034595, gamma_8: 0.8879495546035963, beta_9: 6.272180763181216, gamma_9: 5.850934950400208, beta_10: 3.073876928838348, gamma_10: 1.5473720307815997, beta_11: 3.0914253122587176, gamma_11: 2.9904159155494385, tau_0: 6.258033645859609, tau_1: 3.1553258102750075, tau_2: 3.154451320653865, tau_3: 3.5837805242386356, tau_4: 0.08492003802316914, tau_5: 6.2775531378837535}  samples= None\n",
      "E=-7.53273393  angles= {beta_0: 3.169834967187839, gamma_0: 5.589481408164454, beta_1: 3.101679120865438, gamma_1: 2.889316416170298, beta_2: 2.1867173752883455, gamma_2: 1.771107341808058, beta_3: -0.09233313295884775, gamma_3: 3.1521833663914247, beta_4: 3.6702529326210414, gamma_4: 1.9999116641855688, beta_5: 3.207271017889613, gamma_5: 1.160181352018851, beta_6: 1.4148195092530358, gamma_6: 1.137814594323364, beta_7: 2.6547551835408396, gamma_7: 5.7079083442964755, beta_8: 6.237526362560604, gamma_8: 0.8879213222824643, beta_9: 6.282472296438587, gamma_9: 5.8510089178548315, beta_10: 3.021087220587014, gamma_10: 1.5511490605847322, beta_11: 3.1210049875320243, gamma_11: 2.987829275878749, tau_0: 6.239762633295407, tau_1: 3.1530445648944228, tau_2: 3.2075431876176825, tau_3: 3.3716983177011115, tau_4: 0.03577120490706565, tau_5: 6.266437439364863}  samples= None\n",
      "E=-7.54994230  angles= {beta_0: 3.1849474252190135, gamma_0: 5.590356121125063, beta_1: 3.079936468285451, gamma_1: 2.890053768731298, beta_2: 1.7535695403332368, gamma_2: 1.7613006843154109, beta_3: -0.15658900868505626, gamma_3: 3.1468655380299366, beta_4: 3.6257325447046895, gamma_4: 1.9627199596266784, beta_5: 3.2322545354834182, gamma_5: 1.159637513729698, beta_6: 1.2110894335898732, gamma_6: 1.1401755637760536, beta_7: 2.86311988763965, gamma_7: 5.714174166964523, beta_8: 6.349764571710129, gamma_8: 0.8879213083248967, beta_9: 6.301691587770219, gamma_9: 5.851204711578201, beta_10: 2.9513166779806994, gamma_10: 1.5578724496963299, beta_11: 3.1810421384265943, gamma_11: 2.982491553588144, tau_0: 6.228503512904749, tau_1: 3.144375114700998, tau_2: 3.2937649274460936, tau_3: 2.9621763743698644, tau_4: -0.06361573784900931, tau_5: 6.251232470838117}  samples= None\n",
      "E=-7.56068044  angles= {beta_0: 3.1775473967832477, gamma_0: 5.590324838628892, beta_1: 3.0920642513619545, gamma_1: 2.8900588396760067, beta_2: 1.6968059760080587, gamma_2: 1.7620330572640472, beta_3: -0.1383440026702827, gamma_3: 3.1464074461989164, beta_4: 3.609139101986, gamma_4: 1.9628145278139206, beta_5: 3.2307252108917193, gamma_5: 1.1596542955889664, beta_6: 1.1955479326818126, gamma_6: 1.1407398546213205, beta_7: 2.88982093903651, gamma_7: 5.714923952478481, beta_8: 6.348288161095551, gamma_8: 0.8879922066896684, beta_9: 6.3000281919108545, gamma_9: 5.8512701954566895, beta_10: 3.016733430290486, gamma_10: 1.556397393676982, beta_11: 3.2021091945420586, gamma_11: 2.981939713729301, tau_0: 6.258016006340263, tau_1: 3.132307081362797, tau_2: 3.287016931073286, tau_3: 2.9544006748223683, tau_4: -0.09495792689045476, tau_5: 6.256461217666648}  samples= None\n",
      "E=-7.57948076  angles= {beta_0: 3.1619403339336776, gamma_0: 5.5899457111690865, beta_1: 3.1154432471273465, gamma_1: 2.8897318633765208, beta_2: 1.5430870725652666, gamma_2: 1.7614267018463026, beta_3: -0.12497342258283986, gamma_3: 3.143874923352651, beta_4: 3.559834170558494, gamma_4: 1.9604674746441126, beta_5: 3.2258542289265835, gamma_5: 1.1596676279893725, beta_6: 1.1560548651989182, gamma_6: 1.1420298347252082, beta_7: 2.9626176853923116, gamma_7: 5.717578785117789, beta_8: 6.356454907147935, gamma_8: 0.888117237879601, beta_9: 6.299214214157383, gamma_9: 5.851426209282166, beta_10: 3.0921564345832313, gamma_10: 1.555549116082892, beta_11: 3.213730354986588, gamma_11: 2.980561647370511, tau_0: 6.321600521712402, tau_1: 3.1218042515978857, tau_2: 3.2634372291710663, tau_3: 2.9209319399271787, tau_4: -0.10002545074907736, tau_5: 6.269455412988434}  samples= None\n",
      "E=-7.60705047  angles= {beta_0: 3.1314580210388328, gamma_0: 5.588800417870269, beta_1: 3.1605231871304644, gamma_1: 2.8887508264888195, beta_2: 1.2305020036998713, gamma_2: 1.7608119514256668, beta_3: -0.09403482468398235, gamma_3: 3.1385476569162716, beta_4: 3.442940823613319, gamma_4: 1.9628309763155376, beta_5: 3.2096145442375197, gamma_5: 1.1597909166448837, beta_6: 1.1070402013976302, gamma_6: 1.144117926348782, beta_7: 3.0977778691330116, gamma_7: 5.722426815154516, beta_8: 6.356472824445417, gamma_8: 0.888328433780985, beta_9: 6.294336863772595, gamma_9: 5.851686228778183, beta_10: 3.2244231841525073, gamma_10: 1.5532746146988041, beta_11: 3.208827624666441, gamma_11: 2.9791025351181393, tau_0: 6.4356939920614025, tau_1: 3.113890186312513, tau_2: 3.1995827228630995, tau_3: 2.9216117494768867, tau_4: -0.04432497083481217, tau_5: 6.296280612401658}  samples= None\n",
      "E=-7.62448118  angles= {beta_0: 3.1092263068501356, gamma_0: 5.587698478858927, beta_1: 3.1926498088159954, gamma_1: 2.8877536501113594, beta_2: 0.8797847697539649, gamma_2: 1.7601378527586158, beta_3: -0.056364837275264854, gamma_3: 3.1329265232040333, beta_4: 3.30665698653409, gamma_4: 1.9652988029257603, beta_5: 3.185825762727567, gamma_5: 1.159964127118112, beta_6: 1.1029142936311582, gamma_6: 1.1459931529533505, beta_7: 3.2252551551792163, gamma_7: 5.727189824178747, beta_8: 6.346389030421624, gamma_8: 0.888486630854044, beta_9: 6.2886310541658546, gamma_9: 5.851901695260447, beta_10: 3.3085497373941974, gamma_10: 1.552138275054908, beta_11: 3.1745146857986195, gamma_11: 2.978036692168725, tau_0: 6.531329535342829, tau_1: 3.1107581899874206, tau_2: 3.1234397998609067, tau_3: 2.9798641191331448, tau_4: 0.05765041101684633, tau_5: 6.316753680282053}  samples= None\n",
      "E=-7.63988112  angles= {beta_0: 3.1063537005625728, gamma_0: 5.587246010657956, beta_1: 3.1956183546723778, gamma_1: 2.887302307853008, beta_2: 0.6453963456541467, gamma_2: 1.7603850147503954, beta_3: -0.019931183357138643, gamma_3: 3.129919337909301, beta_4: 3.2202851211388777, gamma_4: 1.9674044862924154, beta_5: 3.1660927467821804, gamma_5: 1.1601155443054931, beta_6: 1.1672702329529019, gamma_6: 1.1466537393216334, beta_7: 3.274154659079159, gamma_7: 5.729352117702884, beta_8: 6.326870278022387, gamma_8: 0.8885132417283789, beta_9: 6.2842105169811315, gamma_9: 5.851955563625913, beta_10: 3.3084342663220583, gamma_10: 1.5521089231823624, beta_11: 3.13990181349032, gamma_11: 2.9780209252741137, tau_0: 6.556560948101555, tau_1: 3.1115946263355383, tau_2: 3.083931210648551, tau_3: 3.072742236685267, tau_4: 0.13372744993769142, tau_5: 6.320796894279603}  samples= None\n"
     ]
    },
    {
     "name": "stdout",
     "output_type": "stream",
     "text": [
      "E=-7.66361506  angles= {beta_0: 3.1179108775439675, gamma_0: 5.587207443153325, beta_1: 3.1766568320552344, gamma_1: 2.887206421412879, beta_2: 0.2477203785715275, gamma_2: 1.7598382053616684, beta_3: 0.02934701155612455, gamma_3: 3.1257040967869183, beta_4: 3.1058170062354646, gamma_4: 1.9627398726376735, beta_5: 3.141991363045754, gamma_5: 1.160259548727333, beta_6: 1.292724484374931, gamma_6: 1.1474717689854779, beta_7: 3.3416874066867304, gamma_7: 5.732460102723089, beta_8: 6.311040676267088, gamma_8: 0.8884815554230705, beta_9: 6.28152527775107, gamma_9: 5.851982727623983, beta_10: 3.2566414810196562, gamma_10: 1.5535679855060198, beta_11: 3.107475467646097, gamma_11: 2.9774129308430872, tau_0: 6.551563947510789, tau_1: 3.1124882075566687, tau_2: 3.067509619270567, tau_3: 3.152531884689411, tau_4: 0.19556344418378566, tau_5: 6.3134631232853}  samples= None\n",
      "E=-7.68787570  angles= {beta_0: 3.1440015232387095, gamma_0: 5.587494803952097, beta_1: 3.134410727770569, gamma_1: 2.8874533285903756, beta_2: -0.018320819642515973, gamma_2: 1.7655920544739678, beta_3: 0.13395439382290125, gamma_3: 3.1256388347813697, beta_4: 3.0254850438486587, gamma_4: 1.9728966980043023, beta_5: 3.105264351465677, gamma_5: 1.1606889027606881, beta_6: 1.6718100494529202, gamma_6: 1.1461564761708711, beta_7: 3.2519340087891573, gamma_7: 5.730834460232165, beta_8: 6.228855183044871, gamma_8: 0.8883177647599135, beta_9: 6.270170039092484, gamma_9: 5.8517690656342, beta_10: 3.151375288979779, gamma_10: 1.552444707454287, beta_11: 3.061650022576962, gamma_11: 2.979998883432354, tau_0: 6.465630359938203, tau_1: 3.124846524682358, tau_2: 3.064000330493264, tau_3: 3.449273367482686, tau_4: 0.24825246512246335, tau_5: 6.294723826156557}  samples= None\n",
      "E=-7.70330166  angles= {beta_0: 3.172454757298636, gamma_0: 5.588727022061019, beta_1: 3.0936459484473606, gamma_1: 2.88850259038325, beta_2: -0.30794827029038063, gamma_2: 1.7625484448337034, beta_3: 0.12669744885406553, gamma_3: 3.1233907473375133, beta_4: 2.989894549319855, gamma_4: 1.9488393177972536, beta_5: 3.10423901934871, gamma_5: 1.1605767299275631, beta_6: 1.815735846182863, gamma_6: 1.1470260300893655, beta_7: 3.291968711184857, gamma_7: 5.733371579618345, beta_8: 6.2630167334412885, gamma_8: 0.8882294269680256, beta_9: 6.27962764297239, gamma_9: 5.851779150511104, beta_10: 3.0344090443382234, gamma_10: 1.5578469203557084, beta_11: 3.084816387814767, gamma_11: 2.977018572653509, tau_0: 6.405207821448807, tau_1: 3.1295836607245753, tau_2: 3.1261284119546735, tau_3: 3.2913917265032415, tau_4: 0.15920211202318285, tau_5: 6.27008618713249}  samples= None\n",
      "E=-7.72262036  angles= {beta_0: 3.171022015881057, gamma_0: 5.589264052965556, beta_1: 3.0983735962249583, gamma_1: 2.8889044794596237, beta_2: -0.0838464239815872, gamma_2: 1.7652073341266028, beta_3: 0.11300252955392504, gamma_3: 3.1269864602368846, beta_4: 3.052437808241898, gamma_4: 1.9501580654130934, beta_5: 3.107258716640428, gamma_5: 1.160643442634687, beta_6: 1.9807192323846523, gamma_6: 1.1462506792097809, beta_7: 3.1835898987470235, gamma_7: 5.730507526762387, beta_8: 6.248992079779051, gamma_8: 0.8882239603028729, beta_9: 6.279833264203943, gamma_9: 5.851722680819864, beta_10: 3.0254358424151997, gamma_10: 1.558295419232134, beta_11: 3.102029894016908, gamma_11: 2.9772371126510495, tau_0: 6.384141236384134, tau_1: 3.140085205492404, tau_2: 3.140409335064686, tau_3: 3.2982748986299453, tau_4: 0.08649274075134679, tau_5: 6.2673623080899015}  samples= None\n",
      "E=-7.75248607  angles= {beta_0: 3.1621483744808754, gamma_0: 5.590062723056302, beta_1: 3.1137489721634712, gamma_1: 2.889392232801885, beta_2: 0.05170243926248544, gamma_2: 1.7697637433910016, beta_3: 0.10688994924339185, gamma_3: 3.1302663438564347, beta_4: 3.0836904838679278, gamma_4: 1.9475343736054591, beta_5: 3.09466246882334, gamma_5: 1.1608834674831021, beta_6: 2.450487705028767, gamma_6: 1.14615464017968, beta_7: 3.0347608162969775, gamma_7: 5.728319529356512, beta_8: 6.2171478378035205, gamma_8: 0.8883002418983806, beta_9: 6.278736891152724, gamma_9: 5.851755792056555, beta_10: 3.027826661243013, gamma_10: 1.560248619935998, beta_11: 3.122707320283034, gamma_11: 2.976036906735501, tau_0: 6.404729182159654, tau_1: 3.1649733349339915, tau_2: 3.1368303233768424, tau_3: 3.3349600793706418, tau_4: -0.019281536738071217, tau_5: 6.268626631037278}  samples= None\n",
      "E=-7.77287900  angles= {beta_0: 3.1369852060310786, gamma_0: 5.590222114434994, beta_1: 3.1505556254362044, gamma_1: 2.8891955020927793, beta_2: 0.05252821105501682, gamma_2: 1.7732760579190787, beta_3: 0.06475530055184775, gamma_3: 3.1311806810690714, beta_4: 3.078604306276343, gamma_4: 1.947843751866649, beta_5: 3.079559576049925, gamma_5: 1.1611629871496176, beta_6: 3.0969206366904722, gamma_6: 1.1467588745268087, beta_7: 2.9044982334994156, gamma_7: 5.728035646778704, beta_8: 6.1913100361937, gamma_8: 0.8884500227075658, beta_9: 6.277387490738475, gamma_9: 5.851888133568741, beta_10: 3.058889383296892, gamma_10: 1.5623560137539227, beta_11: 3.157641114760017, gamma_11: 2.974689591301733, tau_0: 6.463244218298856, tau_1: 3.22053761405563, tau_2: 3.121430114082515, tau_3: 3.3034637429241944, tau_4: -0.081824944385601, tau_5: 6.286084039394168}  samples= None\n",
      "E=-7.77873892  angles= {beta_0: 3.1321674556833417, gamma_0: 5.589739595046916, beta_1: 3.1558886018777663, gamma_1: 2.88875605858433, beta_2: 0.011758655315995362, gamma_2: 1.7713064419362667, beta_3: 0.033426326000389604, gamma_3: 3.1294633883415646, beta_4: 3.0697312218765473, gamma_4: 1.9491823647451965, beta_5: 3.086555861795578, gamma_5: 1.1610676382691338, beta_6: 3.041765892247816, gamma_6: 1.1472905905063957, beta_7: 2.953885218798732, gamma_7: 5.7295336591018104, beta_8: 6.211377421029139, gamma_8: 0.8884873128885656, beta_9: 6.278617507440481, gamma_9: 5.851948634253136, beta_10: 3.1004352860516295, gamma_10: 1.5619985465145927, beta_11: 3.1606371777411906, gamma_11: 2.9746722302501003, tau_0: 6.492581234090134, tau_1: 3.220322902099852, tau_2: 3.1070040610162555, tau_3: 3.233402961175886, tau_4: -0.022498699442642642, tau_5: 6.294634862967086}  samples= None\n",
      "E=-7.78167258  angles= {beta_0: 3.138109666704195, gamma_0: 5.589530528202117, beta_1: 3.1460540238687624, gamma_1: 2.8885360574660055, beta_2: -0.04121768070039383, gamma_2: 1.7702272754287482, beta_3: 0.011666754248454626, gamma_3: 3.127904588379959, beta_4: 3.058093632481967, gamma_4: 1.9493819917692354, beta_5: 3.0897411059320325, gamma_5: 1.16102923989606, beta_6: 3.0829476244615797, gamma_6: 1.1477651391437478, beta_7: 2.9942139866015265, gamma_7: 5.730834565464108, beta_8: 6.225599816795157, gamma_8: 0.8884937992663902, beta_9: 6.279368885754561, gamma_9: 5.851975709788413, beta_10: 3.128501738850908, gamma_10: 1.562203435852886, beta_11: 3.147873122524567, gamma_11: 2.9746591798189095, tau_0: 6.5023698253209865, tau_1: 3.2203146484514313, tau_2: 3.074236728420002, tau_3: 3.204962493472571, tau_4: 0.057725259440410945, tau_5: 6.294705052414582}  samples= None\n",
      "E=-7.78230482  angles= {beta_0: 3.1411486278565866, gamma_0: 5.589566218798432, beta_1: 3.1418783834717843, gamma_1: 2.8885640194616036, beta_2: -0.017276043180171417, gamma_2: 1.770163960288577, beta_3: 0.0020112888298677127, gamma_3: 3.1279738664940195, beta_4: 3.0682021326389206, gamma_4: 1.9496360407842477, beta_5: 3.0943221454936816, gamma_5: 1.1610035318270904, beta_6: 3.0982459625504926, gamma_6: 1.1477858511182835, beta_7: 3.0096923087316236, gamma_7: 5.730816983608091, beta_8: 6.23420509213756, gamma_8: 0.8884867600736535, beta_9: 6.2800092327405155, gamma_9: 5.851967338739892, beta_10: 3.1384107150729603, gamma_10: 1.5621910708600306, beta_11: 3.1441475912958814, gamma_11: 2.974759445337081, tau_0: 6.491419963030874, tau_1: 3.2172695151195096, tau_2: 3.066162814811486, tau_3: 3.196266845575147, tau_4: 0.07711074723587938, tau_5: 6.2919108610648395}  samples= None\n",
      "E=-7.78275517  angles= {beta_0: 3.1440356484038836, gamma_0: 5.5896846957997575, beta_1: 3.137960923278457, gamma_1: 2.8886673299813777, beta_2: -0.004679341301438263, gamma_2: 1.7703850950752733, beta_3: -0.001720354158989532, gamma_3: 3.1281320758628586, beta_4: 3.078414989459048, gamma_4: 1.9491736464013107, beta_5: 3.099823386313308, gamma_5: 1.1609880296083346, beta_6: 3.123887349028687, gamma_6: 1.147852665776988, beta_7: 3.036777826667212, gamma_7: 5.730796611016671, beta_8: 6.24522747215791, gamma_8: 0.8884851356472019, beta_9: 6.280714378656962, gamma_9: 5.851963274632902, beta_10: 3.1487763520372383, gamma_10: 1.5621663978955673, beta_11: 3.1413341939621335, gamma_11: 2.974702145194727, tau_0: 6.475113649383153, tau_1: 3.210717361840458, tau_2: 3.0625510675494225, tau_3: 3.198541017099607, tau_4: 0.08261689549247268, tau_5: 6.288784183664437}  samples= None\n"
     ]
    },
    {
     "name": "stdout",
     "output_type": "stream",
     "text": [
      "E=-7.78304744  angles= {beta_0: 3.1443081794519903, gamma_0: 5.58978628396343, beta_1: 3.137830358699336, gamma_1: 2.8887390967965905, beta_2: 0.007028274491904792, gamma_2: 1.7703192806913772, beta_3: -0.005242272961630358, gamma_3: 3.1281475588734886, beta_4: 3.0883896473114727, gamma_4: 1.9473231941234337, beta_5: 3.1053554874609897, gamma_5: 1.1609715543065413, beta_6: 3.137510927684763, gamma_6: 1.1480379245246286, beta_7: 3.0679112990983994, gamma_7: 5.73098358148335, beta_8: 6.258692205507544, gamma_8: 0.8884973541846667, beta_9: 6.2820179578978355, gamma_9: 5.851980249738052, beta_10: 3.151120043192586, gamma_10: 1.56254043279075, beta_11: 3.137705618256683, gamma_11: 2.9743214511462557, tau_0: 6.469978965148574, tau_1: 3.2054043856490315, tau_2: 3.0624101550993372, tau_3: 3.201565421016683, tau_4: 0.0791744851699312, tau_5: 6.287908727972957}  samples= None\n",
      "E=-7.78334324  angles= {beta_0: 3.142872406001086, gamma_0: 5.5898493616267535, beta_1: 3.1400279346402216, gamma_1: 2.8887686850960947, beta_2: 0.008710607663288008, gamma_2: 1.770076641485384, beta_3: -0.007639643601457815, gamma_3: 3.127962846078036, beta_4: 3.099828347831252, gamma_4: 1.945021558866315, beta_5: 3.113776201995678, gamma_5: 1.1609538395432308, beta_6: 3.1482122422604992, gamma_6: 1.148307603586685, beta_7: 3.116955253383538, gamma_7: 5.731369985198076, beta_8: 6.277996634395917, gamma_8: 0.8885182155888206, beta_9: 6.283720968963817, gamma_9: 5.852010179045549, beta_10: 3.1496624679530894, gamma_10: 1.5630202269507623, beta_11: 3.135333869913062, gamma_11: 2.973805383316733, tau_0: 6.468976433668176, tau_1: 3.2029165140665694, tau_2: 3.0674808406459326, tau_3: 3.2086965190483556, tau_4: 0.07221228102211773, tau_5: 6.288714744127878}  samples= None\n",
      "E=-7.78344103  angles= {beta_0: 3.141678702411553, gamma_0: 5.589846139733309, beta_1: 3.141608054769085, gamma_1: 2.888751216121568, beta_2: 0.005635248840259912, gamma_2: 1.7698152730907166, beta_3: -0.007566211590198048, gamma_3: 3.1277742869601277, beta_4: 3.105226712254437, gamma_4: 1.9438071566658335, beta_5: 3.118409625502918, gamma_5: 1.1609463615842273, beta_6: 3.1464482933306757, gamma_6: 1.1484421138150993, beta_7: 3.1401130996966815, gamma_7: 5.731618342566559, beta_8: 6.286856504999001, gamma_8: 0.8885292585313627, beta_9: 6.284504748597727, gamma_9: 5.852027852395529, beta_10: 3.1449029815803615, gamma_10: 1.563323159061312, beta_11: 3.1362279964591075, gamma_11: 2.973532858941919, tau_0: 6.47450240141471, tau_1: 3.206101175060697, tau_2: 3.0713135387512662, tau_3: 3.2115300010716568, tau_4: 0.06846089619584826, tau_5: 6.290026080279883}  samples= None\n",
      "E=-7.78346722  angles= {beta_0: 3.141305738101671, gamma_0: 5.58981990961527, beta_1: 3.1420528545776816, gamma_1: 2.8887276075718225, beta_2: 0.0017146888616765988, gamma_2: 1.7697202025153562, beta_3: -0.00571399911723435, gamma_3: 3.1276917648413494, beta_4: 3.107501778079478, gamma_4: 1.9438236523997243, beta_5: 3.120723245355446, gamma_5: 1.1609465601303557, beta_6: 3.142671462670199, gamma_6: 1.1484485239933286, beta_7: 3.145498656015227, gamma_7: 5.7316722768493005, beta_8: 6.288149930443774, gamma_8: 0.8885301660329796, beta_9: 6.28445064512777, gamma_9: 5.852030085145423, beta_10: 3.142366822179496, gamma_10: 1.5633294959722972, beta_11: 3.1390204291560457, gamma_11: 2.973527647800506, tau_0: 6.478061806120885, tau_1: 3.210360437523587, tau_2: 3.0729695153697203, tau_3: 3.2122439692808005, tau_4: 0.0681993126713239, tau_5: 6.29057040171205}  samples= None\n",
      "E=-7.78347640  angles= {beta_0: 3.141446838427279, gamma_0: 5.589811255412618, beta_1: 3.141764270201394, gamma_1: 2.888721838130375, beta_2: 0.0009726817371934108, gamma_2: 1.7697013919615627, beta_3: -0.0039079888815109175, gamma_3: 3.1276837984487864, beta_4: 3.109901324441539, gamma_4: 1.9439575027429539, beta_5: 3.1224564264615053, gamma_5: 1.1609478386534586, beta_6: 3.1408429429835585, gamma_6: 1.148433637387908, beta_7: 3.1453453903357675, gamma_7: 5.731661715145685, beta_8: 6.287514169134602, gamma_8: 0.8885290000627569, beta_9: 6.284238078228287, gamma_9: 5.852028681853474, beta_10: 3.1413752576702474, gamma_10: 1.5632982401247246, beta_11: 3.1411115759552963, gamma_11: 2.9735570207967656, tau_0: 6.479547003453175, tau_1: 3.2128583771896837, tau_2: 3.072617742159555, tau_3: 3.2118913676083345, tau_4: 0.0686479576699715, tau_5: 6.290602900136134}  samples= None\n",
      "E=-7.78348408  angles= {beta_0: 3.1416767797082312, gamma_0: 5.589807253708591, beta_1: 3.141418324401689, gamma_1: 2.888721220910119, beta_2: 0.0009255030998365661, gamma_2: 1.7697171522393507, beta_3: -0.001488860484436871, gamma_3: 3.1277023103769586, beta_4: 3.1139661757104524, gamma_4: 1.9441929957651074, beta_5: 3.1251386743243774, gamma_5: 1.1609489746729909, beta_6: 3.1401575248549274, gamma_6: 1.148413543615012, beta_7: 3.1446431209623684, gamma_7: 5.731630305097456, beta_8: 6.286386780081428, gamma_8: 0.8885275163844484, beta_9: 6.283892845197179, gamma_9: 5.852026167280937, beta_10: 3.1410281162323224, gamma_10: 1.5632306508856066, beta_11: 3.143189919312992, gamma_11: 2.9736044933677133, tau_0: 6.479871790062542, tau_1: 3.214626853853119, tau_2: 3.0716121631167295, tau_3: 3.211415747413466, tau_4: 0.06929559317417998, tau_5: 6.290428270823299}  samples= None\n",
      "E=-7.78349116  angles= {beta_0: 3.141855400572475, gamma_0: 5.589808679918501, beta_1: 3.1411500023840593, gamma_1: 2.8887243374299736, beta_2: 0.0015499976812010066, gamma_2: 1.7697433373424538, beta_3: 0.001072553788990209, gamma_3: 3.1277327412975033, beta_4: 3.1198500560892453, gamma_4: 1.9443812938531735, beta_5: 3.128856583509698, gamma_5: 1.1609499291150305, beta_6: 3.140511084561935, gamma_6: 1.1484035779601929, beta_7: 3.1441690273172505, gamma_7: 5.7316019038748935, beta_8: 6.285222880224736, gamma_8: 0.88852709032796, beta_9: 6.283503821135518, gamma_9: 5.8520246252598564, beta_10: 3.140943162687999, gamma_10: 1.5631689117947185, beta_11: 3.144488323093599, gamma_11: 2.973637595512259, tau_0: 6.479513537921532, tau_1: 3.215113547306095, tau_2: 3.070304177976117, tau_3: 3.2108473023675335, tau_4: 0.06973543938552607, tau_5: 6.290266019649567}  samples= None\n",
      "E=-7.78349797  angles= {beta_0: 3.141857332775685, gamma_0: 5.5898094226156125, beta_1: 3.141182076758092, gamma_1: 2.888725729997291, beta_2: 0.0019819455877464285, gamma_2: 1.7697730668705904, beta_3: 0.0034117623243548603, gamma_3: 3.127764003872479, beta_4: 3.1273017502542393, gamma_4: 1.9445702711922535, beta_5: 3.1335534441446606, gamma_5: 1.1609505127569781, beta_6: 3.1415316310778274, gamma_6: 1.1484027051791836, beta_7: 3.1439384974577154, gamma_7: 5.7315817198023185, beta_8: 6.284006722548024, gamma_8: 0.8885277949125931, beta_9: 6.283080890902495, gamma_9: 5.8520241933398305, beta_10: 3.1410463077601367, gamma_10: 1.5631061775930968, beta_11: 3.1446766009120943, gamma_11: 2.973663229563991, tau_0: 6.478748394220561, tau_1: 3.2143084280705128, tau_2: 3.06934427061974, tau_3: 3.21037877950087, tau_4: 0.06997082238330128, tau_5: 6.290191929808837}  samples= None\n",
      "E=-7.78350295  angles= {beta_0: 3.1416995558347804, gamma_0: 5.589807091395633, beta_1: 3.141431918646146, gamma_1: 2.8887229984458953, beta_2: 0.0018623727418471553, gamma_2: 1.7697881702169505, beta_3: 0.00440586269188336, gamma_3: 3.1277814779354443, beta_4: 3.1339012014535768, gamma_4: 1.9446979880098183, beta_5: 3.137699476235334, gamma_5: 1.160950436698886, beta_6: 3.1424618868599543, gamma_6: 1.1484092710492135, beta_7: 3.143706870224196, gamma_7: 5.731577044787251, beta_8: 6.283082385069375, gamma_8: 0.8885292330651088, beta_9: 6.282782147896516, gamma_9: 5.852024954546935, beta_10: 3.1411739270106143, gamma_10: 1.5630677631892118, beta_11: 3.1435849874794473, gamma_11: 2.9736747368608634, tau_0: 6.478270802803538, tau_1: 3.2127811842234015, tau_2: 3.0693311472183895, tau_3: 3.2101685231736306, tau_4: 0.06991813623770163, tau_5: 6.290294829545517}  samples= None\n",
      "E=-7.78350568  angles= {beta_0: 3.1415289216196234, gamma_0: 5.589801475322727, beta_1: 3.1416988657839107, gamma_1: 2.8887172435863007, beta_2: 0.0011788028839944456, gamma_2: 1.769788074154822, beta_3: 0.0038725782889280124, gamma_3: 3.127783834277778, beta_4: 3.137774290911913, gamma_4: 1.9447852195028952, beta_5: 3.140124719217852, gamma_5: 1.1609505060240684, beta_6: 3.1427254512387446, gamma_6: 1.1484127813730727, beta_7: 3.143275339795863, gamma_7: 5.731578603311274, beta_8: 6.282585558518594, gamma_8: 0.8885301367058682, beta_9: 6.282672190053668, gamma_9: 5.852025606546374, beta_10: 3.14131123679423, gamma_10: 1.5630497212748875, beta_11: 3.142131238526066, gamma_11: 2.973683630653453, tau_0: 6.478321077827628, tau_1: 3.211710584411306, tau_2: 3.0701183344146923, tau_3: 3.2102744229139017, tau_4: 0.06976189135302725, tau_5: 6.290442641872097}  samples= None\n"
     ]
    },
    {
     "name": "stdout",
     "output_type": "stream",
     "text": [
      "E=-7.78350695  angles= {beta_0: 3.141472244613611, gamma_0: 5.58979662418759, beta_1: 3.141773148330765, gamma_1: 2.888712788620501, beta_2: 0.0005266650669252075, gamma_2: 1.7697809741218389, beta_3: 0.002620821239412843, gamma_3: 3.1277811288752324, beta_4: 3.13936315371195, gamma_4: 1.9448358642481105, beta_5: 3.141074597073948, gamma_5: 1.1609501580460169, beta_6: 3.1424347825580594, gamma_6: 1.1484100278419156, beta_7: 3.142721546905003, gamma_7: 5.731577300711183, beta_8: 6.282432842828581, gamma_8: 0.8885300982989651, beta_9: 6.282698125586214, gamma_9: 5.852025522832945, beta_10: 3.141434782751063, gamma_10: 1.563044227983174, beta_11: 3.14120610421734, gamma_11: 2.973693156348837, tau_0: 6.478657361860835, tau_1: 3.2115445221047807, tau_2: 3.0709028277438875, tau_3: 3.210503989879965, tau_4: 0.0696260421540084, tau_5: 6.290525474627021}  samples= None\n",
      "E=-7.78350759  angles= {beta_0: 3.141506739131973, gamma_0: 5.589793864667089, beta_1: 3.1417174537143264, gamma_1: 2.8887107942183508, beta_2: 0.00011085649558099014, gamma_2: 1.76977577425491, beta_3: 0.0013513682437052386, gamma_3: 3.1277811791380166, beta_4: 3.1401233799320347, gamma_4: 1.944875263494154, beta_5: 3.141467724338009, gamma_5: 1.160950045005599, beta_6: 3.141999804182486, gamma_6: 1.148403248869805, beta_7: 3.142203297843507, gamma_7: 5.7315709146449505, beta_8: 6.2824363450792315, gamma_8: 0.8885294795675595, beta_9: 6.282772598992722, gamma_9: 5.85202484420113, beta_10: 3.141560027610363, gamma_10: 1.563039914715937, beta_11: 3.1409227072945174, gamma_11: 2.9737045353678973, tau_0: 6.478926411131553, tau_1: 3.2119140962174835, tau_2: 3.0713006233974944, tau_3: 3.2107380185290078, tau_4: 0.06954024814279283, tau_5: 6.290518797866884}  samples= None\n",
      "E=-7.78350789  angles= {beta_0: 3.1415737163714845, gamma_0: 5.589793938738291, beta_1: 3.1416149185917015, gamma_1: 2.888711099796836, beta_2: -1.4355400134480258e-05, gamma_2: 1.769773119778143, beta_3: 0.0004297086248148046, gamma_3: 3.1277839280162274, beta_4: 3.1406850366742307, gamma_4: 1.944894357691484, beta_5: 3.1417120997998875, gamma_5: 1.160949530876471, beta_6: 3.141672420776362, gamma_6: 1.1483970775189847, beta_7: 3.1418596445703866, gamma_7: 5.731563489585067, beta_8: 6.282527454862158, gamma_8: 0.8885288267567367, beta_9: 6.282855783404787, gamma_9: 5.85202412046689, beta_10: 3.1416419509923856, gamma_10: 1.563037375029717, beta_11: 3.1410768466049004, gamma_11: 2.973712243697055, tau_0: 6.479000592195669, tau_1: 3.2123494196840654, tau_2: 3.071257320386811, tau_3: 3.210904836718478, tau_4: 0.0694740309804102, tau_5: 6.290470390965309}  samples= None\n",
      "E=-7.78350800  angles= {beta_0: 3.1416099145151253, gamma_0: 5.589794869460061, beta_1: 3.1415649163875887, gamma_1: 2.8887121659680974, beta_2: 8.566189682782101e-06, gamma_2: 1.7697729911165632, beta_3: 3.077272782601591e-05, gamma_3: 3.127787006897259, beta_4: 3.141081739445196, gamma_4: 1.9448964014621883, beta_5: 3.1418722880939534, gamma_5: 1.1609493370860948, beta_6: 3.1415629845906783, gamma_6: 1.1483944334967962, beta_7: 3.1417441698835966, gamma_7: 5.731559390954681, beta_8: 6.282641529809354, gamma_8: 0.8885285148343397, beta_9: 6.282918915745815, gamma_9: 5.8520237628879075, beta_10: 3.1416581731762796, gamma_10: 1.5630365860978277, beta_11: 3.1413552054102016, gamma_11: 2.9737148179064574, tau_0: 6.47891793001362, tau_1: 3.212530797991894, tau_2: 3.0710120634237117, tau_3: 3.2109823138371096, tau_4: 0.06943137171002532, tau_5: 6.290430350604654}  samples= None\n",
      "\n",
      "Obtained QCC energy (6 entanglers): -7.783507997311208\n",
      "There are known issues with some psi4 methods and frozen virtual orbitals. Proceed with fingers crossed for fci.\n"
     ]
    }
   ],
   "source": [
    "n = 1\n",
    "result = minimize_E_random_guesses(objective=E, method='BFGS', tol=1e-4, n=n)\n",
    "\n",
    "print('\\nObtained QCC energy ({} entanglers): {}'.format(len(entanglers), result))\n",
    "\n",
    "E_FCI = h2o.compute_energy(method='fci')"
   ]
  },
  {
   "cell_type": "markdown",
   "metadata": {},
   "source": [
    "# N2 in STO-3G basis"
   ]
  },
  {
   "cell_type": "code",
   "execution_count": 13,
   "metadata": {},
   "outputs": [
    {
     "name": "stdout",
     "output_type": "stream",
     "text": [
      "\n",
      "Hamiltonian has 2239 terms\n",
      "\n",
      "Grouping gradient magnitudes (Grouping : Gradient magnitude):\n",
      "1 : 0.1967\n",
      "2 : 0.1967\n",
      "3 : 0.1583\n",
      "4 : 0.1583\n",
      "5 : 0.1391\n",
      "6 : 0.1391\n",
      "7 : 0.1059\n",
      "8 : 0.1059\n",
      "9 : 0.1059\n",
      "10 : 0.1059\n",
      "11 : 0.1049\n",
      "12 : 0.1049\n",
      "13 : 0.1049\n",
      "14 : 0.1049\n",
      "15 : 0.1049\n",
      "16 : 0.1041\n",
      "17 : 0.0997\n",
      "18 : 0.0997\n",
      "19 : 0.0997\n",
      "20 : 0.0997\n",
      "21 : 0.0824\n",
      "22 : 0.0824\n",
      "23 : 0.067\n",
      "24 : 0.067\n",
      "25 : 0.067\n",
      "26 : 0.067\n",
      "27 : 0.0621\n",
      "28 : 0.0621\n",
      "29 : 0.0513\n",
      "30 : 0.0473\n",
      "31 : 0.0473\n",
      "32 : 0.0353\n",
      "33 : 0.0353\n",
      "34 : 0.0335\n",
      "35 : 0.0335\n",
      "36 : 0.0333\n",
      "37 : 0.0327\n",
      "38 : 0.0327\n",
      "39 : 0.0327\n",
      "40 : 0.0327\n",
      "41 : 0.0324\n",
      "42 : 0.0243\n",
      "43 : 0.0243\n",
      "44 : 0.0243\n",
      "45 : 0.0243\n",
      "46 : 0.0192\n",
      "47 : 0.0192\n",
      "48 : 0.0192\n",
      "49 : 0.0192\n",
      "50 : 0.0182\n",
      "51 : 0.0182\n",
      "52 : 0.0182\n",
      "53 : 0.0182\n",
      "54 : 0.0182\n",
      "55 : 0.0182\n",
      "56 : 0.0182\n",
      "57 : 0.0182\n",
      "58 : 0.0143\n",
      "59 : 0.0143\n",
      "60 : 0.0139\n",
      "61 : 0.0139\n",
      "62 : 0.0136\n",
      "63 : 0.0136\n",
      "64 : 0.0136\n",
      "65 : 0.0136\n",
      "66 : 0.0133\n",
      "67 : 0.0133\n",
      "68 : 0.0092\n",
      "69 : 0.0092\n",
      "70 : 0.0092\n",
      "71 : 0.0092\n",
      "72 : 0.009\n",
      "73 : 0.009\n",
      "74 : 0.009\n",
      "75 : 0.009\n",
      "76 : 0.0087\n",
      "77 : 0.0087\n",
      "78 : 0.0079\n",
      "79 : 0.0079\n",
      "80 : 0.0079\n",
      "81 : 0.0079\n",
      "82 : 0.0078\n",
      "83 : 0.0078\n",
      "84 : 0.001\n",
      "85 : 0.001\n",
      "86 : 0.001\n",
      "87 : 0.001\n",
      "88 : 0.0\n",
      "89 : 0.0\n",
      "90 : 0.0\n",
      "91 : 0.0\n",
      "\n",
      "Selected entanglers:\n",
      "1.0 [X10 Y11 X14 X15]\n",
      "1.0 [X12 Y13 X16 X17]\n",
      "1.0 [X10 Y13 X14 X17]\n",
      "1.0 [X11 Y12 X15 X16]\n",
      "1.0 [X10 Y12 X14 X16]\n",
      "1.0 [X11 Y13 X15 X17]\n"
     ]
    }
   ],
   "source": [
    "xyz_data = get_molecular_data('n2', geometry=1.2, xyz_format=True)\n",
    "\n",
    "basis = 'sto-3g'\n",
    "n2 = tq.quantumchemistry.Molecule(geometry=xyz_data, basis_set = basis)\n",
    "hf_reference = hf_occ(2*n2.n_orbitals, n2.n_electrons)\n",
    "\n",
    "\n",
    "H = n2.make_hamiltonian()\n",
    "\n",
    "print(\"\\nHamiltonian has {} terms\\n\".format(len(H)))\n",
    "\n",
    "#Define number of entanglers to enter ansatz\n",
    "n_ents = 6\n",
    "\n",
    "#Rank entanglers using energy gradient criterion\n",
    "ranked_entangler_groupings = generate_QCC_gradient_groupings(H.to_openfermion(), \n",
    "                                                             2*n2.n_orbitals, \n",
    "                                                             hf_reference, \n",
    "                                                             cutoff=threshold)\n",
    "\n",
    "print('Grouping gradient magnitudes (Grouping : Gradient magnitude):')\n",
    "for i in range(len(ranked_entangler_groupings)):\n",
    "    print('{} : {}'.format(i+1,ranked_entangler_groupings[i][1]))\n",
    "\n",
    "entanglers = get_QCC_entanglers(ranked_entangler_groupings, n_ents, 2*n2.n_orbitals)\n",
    "\n",
    "print('\\nSelected entanglers:')\n",
    "for ent in entanglers:\n",
    "    print(ent)"
   ]
  },
  {
   "cell_type": "code",
   "execution_count": null,
   "metadata": {},
   "outputs": [
    {
     "name": "stdout",
     "output_type": "stream",
     "text": [
      "Optimizer: <class 'tequila.optimizers.optimizer_scipy.OptimizerSciPy'> \n",
      "backend         : qulacs\n",
      "samples         : None\n",
      "save_history    : True\n",
      "noise           : None\n",
      "\n",
      "Method          : BFGS\n",
      "Objective       : 1 expectationvalues\n",
      "gradient        : 92 expectationvalues\n",
      "\n",
      "active variables : 46\n",
      "\n",
      "E=-96.01373465  angles= {beta_0: 3.141592653589793, gamma_0: 0.0, beta_1: 3.141592653589793, gamma_1: 0.0, beta_2: 3.141592653589793, gamma_2: 0.0, beta_3: 3.141592653589793, gamma_3: 0.0, beta_4: 3.141592653589793, gamma_4: 0.0, beta_5: 3.141592653589793, gamma_5: 0.0, beta_6: 3.141592653589793, gamma_6: 0.0, beta_7: 3.141592653589793, gamma_7: 0.0, beta_8: 3.141592653589793, gamma_8: 0.0, beta_9: 3.141592653589793, gamma_9: 0.0, beta_10: 3.141592653589793, gamma_10: 0.0, beta_11: 3.141592653589793, gamma_11: 0.0, beta_12: 3.141592653589793, gamma_12: 0.0, beta_13: 3.141592653589793, gamma_13: 0.0, beta_14: 3.141592653589793, gamma_14: 0.0, beta_15: 3.141592653589793, gamma_15: 0.0, beta_16: 3.141592653589793, gamma_16: 0.0, beta_17: 3.141592653589793, gamma_17: 0.0, beta_18: 3.141592653589793, gamma_18: 0.0, beta_19: 3.141592653589793, gamma_19: 0.0, tau_0: 0.0, tau_1: 0.0, tau_2: 0.0, tau_3: 0.0, tau_4: 0.0, tau_5: 0.0}  samples= None\n"
     ]
    }
   ],
   "source": [
    "#Mean-field part of U (Omega):    \n",
    "U_MF = construct_QMF_ansatz(n_qubits = 2*n2.n_orbitals)\n",
    "#Entangling part of U:\n",
    "U_ENT = construct_QCC_ansatz(entanglers)\n",
    "\n",
    "U_QCC = U_MF + U_ENT\n",
    "\n",
    "E = tq.ExpectationValue(H=H, U=U_QCC)\n",
    "\n",
    "initial_vals = init_qcc_params(hf_reference, E.extract_variables())\n",
    "\n",
    "#Minimize wrt the entangler amplitude and MF angles:\n",
    "result = tq.minimize(objective=E, method=\"BFGS\", initial_values=initial_vals, tol=1.e-4)\n",
    "\n",
    "\n",
    "print('\\nObtained QCC energy ({} entanglers): {}'.format(len(entanglers), result.energy))"
   ]
  },
  {
   "cell_type": "code",
   "execution_count": null,
   "metadata": {},
   "outputs": [],
   "source": [
    "n = 1\n",
    "result = minimize_E_random_guesses(objective=E, method='BFGS', tol=1e-4, n=n)\n",
    "\n",
    "print('\\nObtained QCC energy ({} entanglers): {}'.format(len(entanglers), result))\n",
    "\n",
    "E_FCI = h2o.compute_energy(method='fci')"
   ]
  }
 ],
 "metadata": {
  "kernelspec": {
   "display_name": "Python 3",
   "language": "python",
   "name": "python3"
  },
  "language_info": {
   "codemirror_mode": {
    "name": "ipython",
    "version": 3
   },
   "file_extension": ".py",
   "mimetype": "text/x-python",
   "name": "python",
   "nbconvert_exporter": "python",
   "pygments_lexer": "ipython3",
   "version": "3.7.7"
  }
 },
 "nbformat": 4,
 "nbformat_minor": 2
}
